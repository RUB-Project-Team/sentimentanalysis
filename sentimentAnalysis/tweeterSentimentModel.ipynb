{
 "cells": [
  {
   "cell_type": "code",
   "execution_count": 1,
   "metadata": {},
   "outputs": [],
   "source": [
    "#pip install textblob\n",
    "#pip install spacy\n",
    "#pip install afinn\n",
    "#pip install wordcloud"
   ]
  },
  {
   "cell_type": "code",
   "execution_count": 2,
   "metadata": {},
   "outputs": [],
   "source": [
    "import pandas as pd\n",
    "import matplotlib.pyplot as plt\n",
    "import seaborn as sns\n",
    "import os\n",
    "import numpy as np\n",
    "from sklearn.preprocessing import LabelEncoder"
   ]
  },
  {
   "cell_type": "code",
   "execution_count": 3,
   "metadata": {},
   "outputs": [],
   "source": [
    "# File paths\n",
    "cleaned_tweet_file=os.path.join(\"..\",\"Resources\",\"data\",\"tweetCleandata.csv\")\n",
    "pred_data_file = os.path.join(\"..\",\"Resources\",\"data\",\"tweetPredData.csv\")"
   ]
  },
  {
   "cell_type": "code",
   "execution_count": 4,
   "metadata": {},
   "outputs": [],
   "source": [
    "# Load tweet csv file\n",
    "tweet_df= pd.read_csv(cleaned_tweet_file)"
   ]
  },
  {
   "cell_type": "code",
   "execution_count": 5,
   "metadata": {},
   "outputs": [
    {
     "data": {
      "text/html": [
       "<div>\n",
       "<style scoped>\n",
       "    .dataframe tbody tr th:only-of-type {\n",
       "        vertical-align: middle;\n",
       "    }\n",
       "\n",
       "    .dataframe tbody tr th {\n",
       "        vertical-align: top;\n",
       "    }\n",
       "\n",
       "    .dataframe thead th {\n",
       "        text-align: right;\n",
       "    }\n",
       "</style>\n",
       "<table border=\"1\" class=\"dataframe\">\n",
       "  <thead>\n",
       "    <tr style=\"text-align: right;\">\n",
       "      <th></th>\n",
       "      <th>Date</th>\n",
       "      <th>Matched Keywords</th>\n",
       "      <th>User</th>\n",
       "      <th>Source</th>\n",
       "      <th>Followers</th>\n",
       "      <th>Friends</th>\n",
       "      <th>Favorite</th>\n",
       "      <th>Tweet</th>\n",
       "      <th>predTweet</th>\n",
       "      <th>CleanedTweet</th>\n",
       "    </tr>\n",
       "  </thead>\n",
       "  <tbody>\n",
       "    <tr>\n",
       "      <th>0</th>\n",
       "      <td>08/05/2020</td>\n",
       "      <td>Biden</td>\n",
       "      <td>YourSiteingGoog</td>\n",
       "      <td>IFTTT</td>\n",
       "      <td>84</td>\n",
       "      <td>198</td>\n",
       "      <td>0</td>\n",
       "      <td>Breaking #FoxNews Alert : Bien scraps plans to...</td>\n",
       "      <td>breaking foxnews alert biden scraps plans trav...</td>\n",
       "      <td>['break', 'foxnew', 'alert', 'bien', 'scrap', ...</td>\n",
       "    </tr>\n",
       "    <tr>\n",
       "      <th>1</th>\n",
       "      <td>08/05/2020</td>\n",
       "      <td>Trump</td>\n",
       "      <td>rbenton75nc</td>\n",
       "      <td>Twitter for Android</td>\n",
       "      <td>15</td>\n",
       "      <td>87</td>\n",
       "      <td>0</td>\n",
       "      <td>@JRubinBlogger Isn't the doctor who gave Trump...</td>\n",
       "      <td>not the doctor who gave trump the test the sam...</td>\n",
       "      <td>['doctor', 'trump', 'test', 'doctor', 'tri', '...</td>\n",
       "    </tr>\n",
       "    <tr>\n",
       "      <th>2</th>\n",
       "      <td>08/05/2020</td>\n",
       "      <td>Trump</td>\n",
       "      <td>Mrb18101</td>\n",
       "      <td>Twitter for iPhone</td>\n",
       "      <td>72</td>\n",
       "      <td>134</td>\n",
       "      <td>0</td>\n",
       "      <td>@WindsorMann The only friends Trump has had hi...</td>\n",
       "      <td>the only friends trump has had his entire life...</td>\n",
       "      <td>['friend', 'trump', 'entir', 'life', 'one', 'b...</td>\n",
       "    </tr>\n",
       "    <tr>\n",
       "      <th>3</th>\n",
       "      <td>08/05/2020</td>\n",
       "      <td>Trump</td>\n",
       "      <td>mermansteve</td>\n",
       "      <td>Twitter Web App</td>\n",
       "      <td>5232</td>\n",
       "      <td>5664</td>\n",
       "      <td>0</td>\n",
       "      <td>Trump’s pick to manage public lands has four-d...</td>\n",
       "      <td>trumps pick manage public lands has fourdecade...</td>\n",
       "      <td>['trump', 'pick', 'manag', 'public', 'land', '...</td>\n",
       "    </tr>\n",
       "    <tr>\n",
       "      <th>4</th>\n",
       "      <td>08/05/2020</td>\n",
       "      <td>Trump</td>\n",
       "      <td>biospherian</td>\n",
       "      <td>Twitter Web App</td>\n",
       "      <td>26</td>\n",
       "      <td>167</td>\n",
       "      <td>0</td>\n",
       "      <td>Because Trump is an asshole: http://t.co/Is5rk...</td>\n",
       "      <td>because trump an asshole</td>\n",
       "      <td>['trump', 'asshol']</td>\n",
       "    </tr>\n",
       "  </tbody>\n",
       "</table>\n",
       "</div>"
      ],
      "text/plain": [
       "         Date Matched Keywords             User               Source  \\\n",
       "0  08/05/2020            Biden  YourSiteingGoog                IFTTT   \n",
       "1  08/05/2020            Trump      rbenton75nc  Twitter for Android   \n",
       "2  08/05/2020            Trump         Mrb18101   Twitter for iPhone   \n",
       "3  08/05/2020            Trump      mermansteve      Twitter Web App   \n",
       "4  08/05/2020            Trump      biospherian      Twitter Web App   \n",
       "\n",
       "   Followers  Friends  Favorite  \\\n",
       "0         84      198         0   \n",
       "1         15       87         0   \n",
       "2         72      134         0   \n",
       "3       5232     5664         0   \n",
       "4         26      167         0   \n",
       "\n",
       "                                               Tweet  \\\n",
       "0  Breaking #FoxNews Alert : Bien scraps plans to...   \n",
       "1  @JRubinBlogger Isn't the doctor who gave Trump...   \n",
       "2  @WindsorMann The only friends Trump has had hi...   \n",
       "3  Trump’s pick to manage public lands has four-d...   \n",
       "4  Because Trump is an asshole: http://t.co/Is5rk...   \n",
       "\n",
       "                                           predTweet  \\\n",
       "0  breaking foxnews alert biden scraps plans trav...   \n",
       "1  not the doctor who gave trump the test the sam...   \n",
       "2  the only friends trump has had his entire life...   \n",
       "3  trumps pick manage public lands has fourdecade...   \n",
       "4                           because trump an asshole   \n",
       "\n",
       "                                        CleanedTweet  \n",
       "0  ['break', 'foxnew', 'alert', 'bien', 'scrap', ...  \n",
       "1  ['doctor', 'trump', 'test', 'doctor', 'tri', '...  \n",
       "2  ['friend', 'trump', 'entir', 'life', 'one', 'b...  \n",
       "3  ['trump', 'pick', 'manag', 'public', 'land', '...  \n",
       "4                                ['trump', 'asshol']  "
      ]
     },
     "execution_count": 5,
     "metadata": {},
     "output_type": "execute_result"
    }
   ],
   "source": [
    "# Display results - we will be using predTweet column to predict the sentiment\n",
    "tweet_df.head()"
   ]
  },
  {
   "cell_type": "markdown",
   "metadata": {},
   "source": [
    "### Method 1: VADER Sentiment Analysis:\n",
    "- VADER (Valence Aware Dictionary and sEntiment Reasoner) is a lexicon and rule-based sentiment analysis tool that is specifically attuned to sentiments expressed in social media. It is fully open-sourced under the MIT License[http://choosealicense.com/] "
   ]
  },
  {
   "cell_type": "code",
   "execution_count": 6,
   "metadata": {},
   "outputs": [],
   "source": [
    "import spacy\n",
    "from vaderSentiment import vaderSentiment"
   ]
  },
  {
   "cell_type": "code",
   "execution_count": 7,
   "metadata": {},
   "outputs": [],
   "source": [
    "# Load the English language model from spaCy\n",
    "english = spacy.load(\"en_core_web_sm\")"
   ]
  },
  {
   "cell_type": "code",
   "execution_count": 8,
   "metadata": {},
   "outputs": [],
   "source": [
    "analyzer = vaderSentiment.SentimentIntensityAnalyzer()"
   ]
  },
  {
   "cell_type": "code",
   "execution_count": 9,
   "metadata": {},
   "outputs": [],
   "source": [
    "def getSentiment(text):\n",
    "    result = english(text)\n",
    "    sentences = [str(s) for s in result.sents]\n",
    "    sentiment = [analyzer.polarity_scores(str(s)) for s in sentences]  \n",
    "    if sentiment[0]['compound'] > 0:\n",
    "        return \"Positive\"\n",
    "    elif sentiment[0]['compound'] < 0:\n",
    "        return \"Negative\"\n",
    "    else:\n",
    "        return \"Neutral\""
   ]
  },
  {
   "cell_type": "code",
   "execution_count": null,
   "metadata": {},
   "outputs": [],
   "source": [
    "# Get predictions\n",
    "tweet_df['Prediction']=tweet_df['predTweet'].apply(lambda x: getSentiment(x))"
   ]
  },
  {
   "cell_type": "code",
   "execution_count": null,
   "metadata": {},
   "outputs": [],
   "source": [
    "pd.set_option('display.max_colwidth', 150)"
   ]
  },
  {
   "cell_type": "code",
   "execution_count": null,
   "metadata": {},
   "outputs": [],
   "source": [
    "# Display results\n",
    "tweet_df[['Matched Keywords','predTweet','Prediction']]"
   ]
  },
  {
   "cell_type": "code",
   "execution_count": null,
   "metadata": {},
   "outputs": [],
   "source": [
    "# Save data\n",
    "tweet_df.to_csv(pred_data_file,index=False)"
   ]
  },
  {
   "cell_type": "code",
   "execution_count": null,
   "metadata": {},
   "outputs": [],
   "source": [
    "TrumpTweets=tweet_df[tweet_df['Matched Keywords']=='Trump']\n",
    "BidenTweets =tweet_df[tweet_df['Matched Keywords']=='Biden']"
   ]
  },
  {
   "cell_type": "code",
   "execution_count": null,
   "metadata": {},
   "outputs": [],
   "source": [
    "TrumpCount=len(TrumpTweets['Prediction'])\n",
    "BidenCount=len(BidenTweets['Prediction'])"
   ]
  },
  {
   "cell_type": "code",
   "execution_count": null,
   "metadata": {},
   "outputs": [],
   "source": [
    "# Function to caluclate % of sentiments\n",
    "def percentage(part,whole):\n",
    "    return 100 * float(part)/float(whole)"
   ]
  },
  {
   "cell_type": "code",
   "execution_count": null,
   "metadata": {},
   "outputs": [],
   "source": [
    "# Intital counter for sentiment\n",
    "positive=0\n",
    "negative=0\n",
    "neutral=0"
   ]
  },
  {
   "cell_type": "code",
   "execution_count": null,
   "metadata": {},
   "outputs": [],
   "source": [
    "def getSentiments(tag,tweets,count):\n",
    "    # reset counter for sentiment\n",
    "    positive=0\n",
    "    negative=0\n",
    "    neutral=0\n",
    "    positive_per=0\n",
    "    neutral_per=0\n",
    "    negative_per=0\n",
    "    \n",
    "    # Loop through tweets and get sentiment polarity\n",
    "    for pred in tweets:\n",
    "        \n",
    "        if(pred =='Positive'):\n",
    "            positive+=1\n",
    "        elif(pred =='Negative'):\n",
    "            negative+=1\n",
    "        else:\n",
    "            neutral+=1\n",
    "            \n",
    "    \n",
    "    positive_per = format(percentage(positive,count),'.2f')\n",
    "    neutral_per = format(percentage(neutral,count),'.2f')\n",
    "    negative_per = format(percentage(negative,count),'.2f')\n",
    "\n",
    "    # Preapre labels\n",
    "    labels =[f'Positive ({positive:,} tweets) [{str(positive_per)}%]',\n",
    "             f'Neutral ({neutral:,} tweets) [{str(neutral_per)}%]',\n",
    "             f'Negative ({negative:,} tweets) [{str(negative_per)}%]']\n",
    "    # Sizes\n",
    "    sizes=[positive,neutral,negative]\n",
    "    # Colors\n",
    "    colors=['yellowgreen','gold','red']\n",
    "    \n",
    "    #Explode\n",
    "    explode = (0.1, 0, 0)  # explode 1st slice\n",
    "    \n",
    "    fig = plt.figure(figsize=[8,8])\n",
    "    ax = fig.add_subplot(111)\n",
    "    \n",
    "    # Draw pie chart to show sentiments for the tweets\n",
    "    #patches,text=plt.pie(sizes,colors=colors,startangle=90)\n",
    "    plt.pie(sizes, labels=labels, colors=colors,explode=explode,\n",
    "            shadow=True, startangle=140, autopct='%1.0f%%', labeldistance=1.2)\n",
    "    plt.title(\"How people on reacting on \" + tag + \" by analyzing \" + str(count) + \" Tweets\")\n",
    "    plt.axis('equal')\n",
    "    plt.tight_layout()\n",
    "    plt.show()"
   ]
  },
  {
   "cell_type": "code",
   "execution_count": null,
   "metadata": {},
   "outputs": [],
   "source": [
    "getSentiments(\"Trump\", TrumpTweets['Prediction'],TrumpCount)"
   ]
  },
  {
   "cell_type": "code",
   "execution_count": null,
   "metadata": {},
   "outputs": [],
   "source": [
    "getSentiments(\"Biden\", BidenTweets['Prediction'],BidenCount)"
   ]
  },
  {
   "cell_type": "markdown",
   "metadata": {},
   "source": [
    "#### We can get a good idea of general sentiment statistics across different tweet categories. Looks like the average sentiment is  negative for Trump and reasonably positive for Biden! "
   ]
  },
  {
   "cell_type": "code",
   "execution_count": null,
   "metadata": {},
   "outputs": [],
   "source": [
    "# creating instance of labelencoder\n",
    "labelencoder = LabelEncoder()"
   ]
  },
  {
   "cell_type": "code",
   "execution_count": null,
   "metadata": {},
   "outputs": [],
   "source": [
    "tweet_df['encodePrediction'] = labelencoder.fit_transform(tweet_df['Prediction'])"
   ]
  },
  {
   "cell_type": "code",
   "execution_count": null,
   "metadata": {},
   "outputs": [],
   "source": [
    "fc = sns.factorplot(x=\"Matched Keywords\", hue=\"Prediction\", \n",
    "                    data=tweet_df, kind=\"count\", \n",
    "                    palette={\"Negative\": \"#FE2020\", \n",
    "                             \"Positive\": \"#BADD07\", \n",
    "                             \"Neutral\": \"#68BFF5\"})"
   ]
  },
  {
   "cell_type": "code",
   "execution_count": null,
   "metadata": {},
   "outputs": [],
   "source": [
    "all_words = ' '.join([text for text in TrumpTweets['predTweet']])\n",
    "from wordcloud import WordCloud\n",
    "wordcloud = WordCloud(width=800, height=500, random_state=420, max_font_size=110).generate(all_words)\n",
    "\n",
    "plt.figure(figsize=(10, 7))\n",
    "plt.imshow(wordcloud, interpolation=\"bilinear\")\n",
    "plt.axis('off')\n",
    "plt.show()"
   ]
  },
  {
   "cell_type": "code",
   "execution_count": null,
   "metadata": {},
   "outputs": [],
   "source": [
    "all_words = ' '.join([text for text in BidenTweets['predTweet']])\n",
    "from wordcloud import WordCloud\n",
    "wordcloud = WordCloud(width=800, height=500, random_state=420, max_font_size=110).generate(all_words)\n",
    "\n",
    "plt.figure(figsize=(10, 7))\n",
    "plt.imshow(wordcloud, interpolation=\"bilinear\")\n",
    "plt.axis('off')\n",
    "plt.show()"
   ]
  },
  {
   "cell_type": "code",
   "execution_count": null,
   "metadata": {},
   "outputs": [],
   "source": []
  }
 ],
 "metadata": {
  "kernelspec": {
   "display_name": "Python 3",
   "language": "python",
   "name": "python3"
  },
  "language_info": {
   "codemirror_mode": {
    "name": "ipython",
    "version": 3
   },
   "file_extension": ".py",
   "mimetype": "text/x-python",
   "name": "python",
   "nbconvert_exporter": "python",
   "pygments_lexer": "ipython3",
   "version": "3.7.6"
  }
 },
 "nbformat": 4,
 "nbformat_minor": 4
}
