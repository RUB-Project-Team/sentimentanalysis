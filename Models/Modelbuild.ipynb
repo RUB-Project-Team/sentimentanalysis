{
 "cells": [
  {
   "cell_type": "code",
   "execution_count": 172,
   "metadata": {},
   "outputs": [],
   "source": [
    "# Load dependencies\n",
    "import pandas as pd\n",
    "import numpy as np\n",
    "\n",
    "import matplotlib.pyplot as plt\n",
    "import matplotlib.cm as cm\n",
    "import matplotlib\n",
    "\n",
    "from sklearn.metrics import classification_report,confusion_matrix,accuracy_score\n",
    "from sklearn.feature_extraction.text import TfidfVectorizer, CountVectorizer\n",
    "from sklearn.feature_selection import VarianceThreshold,SelectFromModel,RFECV\n",
    "from sklearn.decomposition import LatentDirichletAllocation,TruncatedSVD\n",
    "from sklearn.cluster import KMeans\n",
    "from sklearn.preprocessing import MinMaxScaler,LabelEncoder\n",
    "from sklearn.manifold import TSNE\n",
    "from sklearn.tree import DecisionTreeClassifier\n",
    "from sklearn.neighbors import KNeighborsClassifier\n",
    "from sklearn.discriminant_analysis import LinearDiscriminantAnalysis\n",
    "from sklearn.naive_bayes import GaussianNB\n",
    "from sklearn.svm import SVC\n",
    "from sklearn.ensemble import RandomForestClassifier,ExtraTreesRegressor\n",
    "from sklearn.linear_model import LogisticRegression\n",
    "from sklearn.naive_bayes import MultinomialNB\n",
    "from sklearn.svm import LinearSVC\n",
    "from sklearn.model_selection import train_test_split,cross_val_score,StratifiedKFold\n",
    "from sklearn.ensemble import VotingClassifier\n",
    "\n",
    "from nltk.stem.snowball import SnowballStemmer\n",
    "from nltk.tokenize import RegexpTokenizer\n",
    "\n",
    "import spacy\n",
    "import en_core_web_sm\n",
    "import sys\n",
    "import unicodedata\n",
    "import os\n",
    "\n",
    "import warnings\n",
    "warnings.filterwarnings('ignore') # Hides warning\n",
    "warnings.filterwarnings(\"ignore\", category=DeprecationWarning)\n",
    "warnings.filterwarnings(\"ignore\",category=UserWarning)\n",
    "np.random.seed(7) # seeding random number generator"
   ]
  },
  {
   "cell_type": "code",
   "execution_count": 173,
   "metadata": {},
   "outputs": [],
   "source": [
    "# File paths\n",
    "pred_data_file = os.path.join(\"..\",\"Resources\",\"outputData\",\"tweetCleanData.csv\")"
   ]
  },
  {
   "cell_type": "code",
   "execution_count": 174,
   "metadata": {},
   "outputs": [],
   "source": [
    "# Load Tweeter data file\n",
    "df = pd.read_csv(pred_data_file)"
   ]
  },
  {
   "cell_type": "code",
   "execution_count": 175,
   "metadata": {},
   "outputs": [
    {
     "data": {
      "text/html": [
       "<div>\n",
       "<style scoped>\n",
       "    .dataframe tbody tr th:only-of-type {\n",
       "        vertical-align: middle;\n",
       "    }\n",
       "\n",
       "    .dataframe tbody tr th {\n",
       "        vertical-align: top;\n",
       "    }\n",
       "\n",
       "    .dataframe thead th {\n",
       "        text-align: right;\n",
       "    }\n",
       "</style>\n",
       "<table border=\"1\" class=\"dataframe\">\n",
       "  <thead>\n",
       "    <tr style=\"text-align: right;\">\n",
       "      <th></th>\n",
       "      <th>Date</th>\n",
       "      <th>TweetID</th>\n",
       "      <th>Tweet</th>\n",
       "      <th>Matched Keywords</th>\n",
       "      <th>User</th>\n",
       "      <th>Source</th>\n",
       "      <th>Followers</th>\n",
       "      <th>Friends</th>\n",
       "      <th>Favorite</th>\n",
       "      <th>OrgTweet</th>\n",
       "      <th>Sentiment</th>\n",
       "    </tr>\n",
       "  </thead>\n",
       "  <tbody>\n",
       "    <tr>\n",
       "      <th>0</th>\n",
       "      <td>8/10/2020</td>\n",
       "      <td>1292795662485130000</td>\n",
       "      <td>even right certain kind liberal deeply wants g...</td>\n",
       "      <td>Trump</td>\n",
       "      <td>MenshevikM</td>\n",
       "      <td>Twitter Web App</td>\n",
       "      <td>5882.0</td>\n",
       "      <td>320.0</td>\n",
       "      <td>0.0</td>\n",
       "      <td>They're even right that there's a certain kind...</td>\n",
       "      <td>Positive</td>\n",
       "    </tr>\n",
       "    <tr>\n",
       "      <th>1</th>\n",
       "      <td>8/10/2020</td>\n",
       "      <td>1292795661809850000</td>\n",
       "      <td>press people encouraged voters vote trump like...</td>\n",
       "      <td>Trump</td>\n",
       "      <td>balling_it</td>\n",
       "      <td>Twitter Web App</td>\n",
       "      <td>33.0</td>\n",
       "      <td>156.0</td>\n",
       "      <td>0.0</td>\n",
       "      <td>@jonathanchait Naw, that is the press, people ...</td>\n",
       "      <td>Positive</td>\n",
       "    </tr>\n",
       "    <tr>\n",
       "      <th>2</th>\n",
       "      <td>8/10/2020</td>\n",
       "      <td>1292795659704240000</td>\n",
       "      <td>trump signs executive order throw rotted scrap...</td>\n",
       "      <td>Trump</td>\n",
       "      <td>laurie71</td>\n",
       "      <td>Twitter for iPhone</td>\n",
       "      <td>85.0</td>\n",
       "      <td>141.0</td>\n",
       "      <td>0.0</td>\n",
       "      <td>@sarahcpr Trump signs an executive order to th...</td>\n",
       "      <td>Negative</td>\n",
       "    </tr>\n",
       "    <tr>\n",
       "      <th>3</th>\n",
       "      <td>8/10/2020</td>\n",
       "      <td>1292795658747940000</td>\n",
       "      <td>sorry want real team truthful team justice tea...</td>\n",
       "      <td>Biden</td>\n",
       "      <td>bluewave4peace</td>\n",
       "      <td>Twitter for iPhone</td>\n",
       "      <td>528.0</td>\n",
       "      <td>745.0</td>\n",
       "      <td>0.0</td>\n",
       "      <td>@glennkirschner2 Sorry I want to be on a real ...</td>\n",
       "      <td>Positive</td>\n",
       "    </tr>\n",
       "    <tr>\n",
       "      <th>4</th>\n",
       "      <td>8/10/2020</td>\n",
       "      <td>1292795658550810000</td>\n",
       "      <td>yeah sase cowers yelps befor jumping embarrass...</td>\n",
       "      <td>Trump</td>\n",
       "      <td>OGOPer</td>\n",
       "      <td>Twitter for iPhone</td>\n",
       "      <td>2839.0</td>\n",
       "      <td>2655.0</td>\n",
       "      <td>0.0</td>\n",
       "      <td>Yeah. Until Ben Sasse cowers and yelps befor j...</td>\n",
       "      <td>Negative</td>\n",
       "    </tr>\n",
       "  </tbody>\n",
       "</table>\n",
       "</div>"
      ],
      "text/plain": [
       "        Date              TweetID  \\\n",
       "0  8/10/2020  1292795662485130000   \n",
       "1  8/10/2020  1292795661809850000   \n",
       "2  8/10/2020  1292795659704240000   \n",
       "3  8/10/2020  1292795658747940000   \n",
       "4  8/10/2020  1292795658550810000   \n",
       "\n",
       "                                               Tweet Matched Keywords  \\\n",
       "0  even right certain kind liberal deeply wants g...            Trump   \n",
       "1  press people encouraged voters vote trump like...            Trump   \n",
       "2  trump signs executive order throw rotted scrap...            Trump   \n",
       "3  sorry want real team truthful team justice tea...            Biden   \n",
       "4  yeah sase cowers yelps befor jumping embarrass...            Trump   \n",
       "\n",
       "             User              Source  Followers  Friends  Favorite  \\\n",
       "0      MenshevikM     Twitter Web App     5882.0    320.0       0.0   \n",
       "1      balling_it     Twitter Web App       33.0    156.0       0.0   \n",
       "2        laurie71  Twitter for iPhone       85.0    141.0       0.0   \n",
       "3  bluewave4peace  Twitter for iPhone      528.0    745.0       0.0   \n",
       "4          OGOPer  Twitter for iPhone     2839.0   2655.0       0.0   \n",
       "\n",
       "                                            OrgTweet Sentiment  \n",
       "0  They're even right that there's a certain kind...  Positive  \n",
       "1  @jonathanchait Naw, that is the press, people ...  Positive  \n",
       "2  @sarahcpr Trump signs an executive order to th...  Negative  \n",
       "3  @glennkirschner2 Sorry I want to be on a real ...  Positive  \n",
       "4  Yeah. Until Ben Sasse cowers and yelps befor j...  Negative  "
      ]
     },
     "execution_count": 175,
     "metadata": {},
     "output_type": "execute_result"
    }
   ],
   "source": [
    "# Display sample results\n",
    "df.head()"
   ]
  },
  {
   "cell_type": "code",
   "execution_count": 176,
   "metadata": {},
   "outputs": [],
   "source": [
    "# Keep only required columns\n",
    "df_pred = df[['Tweet','Sentiment']]"
   ]
  },
  {
   "cell_type": "code",
   "execution_count": 177,
   "metadata": {},
   "outputs": [],
   "source": [
    "# Select meaningful reviews by filtering reviews with more than 5 words in the review comment.\n",
    "df_pred = df_pred[df_pred['Tweet'].fillna(\"\").apply(lambda x: len(x.split())>=5)] "
   ]
  },
  {
   "cell_type": "code",
   "execution_count": 178,
   "metadata": {},
   "outputs": [
    {
     "data": {
      "text/html": [
       "<div>\n",
       "<style scoped>\n",
       "    .dataframe tbody tr th:only-of-type {\n",
       "        vertical-align: middle;\n",
       "    }\n",
       "\n",
       "    .dataframe tbody tr th {\n",
       "        vertical-align: top;\n",
       "    }\n",
       "\n",
       "    .dataframe thead th {\n",
       "        text-align: right;\n",
       "    }\n",
       "</style>\n",
       "<table border=\"1\" class=\"dataframe\">\n",
       "  <thead>\n",
       "    <tr style=\"text-align: right;\">\n",
       "      <th></th>\n",
       "      <th>Tweet</th>\n",
       "      <th>Sentiment</th>\n",
       "    </tr>\n",
       "  </thead>\n",
       "  <tbody>\n",
       "    <tr>\n",
       "      <th>0</th>\n",
       "      <td>even right certain kind liberal deeply wants g...</td>\n",
       "      <td>Positive</td>\n",
       "    </tr>\n",
       "    <tr>\n",
       "      <th>1</th>\n",
       "      <td>press people encouraged voters vote trump like...</td>\n",
       "      <td>Positive</td>\n",
       "    </tr>\n",
       "    <tr>\n",
       "      <th>2</th>\n",
       "      <td>trump signs executive order throw rotted scrap...</td>\n",
       "      <td>Negative</td>\n",
       "    </tr>\n",
       "    <tr>\n",
       "      <th>3</th>\n",
       "      <td>sorry want real team truthful team justice tea...</td>\n",
       "      <td>Positive</td>\n",
       "    </tr>\n",
       "    <tr>\n",
       "      <th>4</th>\n",
       "      <td>yeah sase cowers yelps befor jumping embarrass...</td>\n",
       "      <td>Negative</td>\n",
       "    </tr>\n",
       "  </tbody>\n",
       "</table>\n",
       "</div>"
      ],
      "text/plain": [
       "                                               Tweet Sentiment\n",
       "0  even right certain kind liberal deeply wants g...  Positive\n",
       "1  press people encouraged voters vote trump like...  Positive\n",
       "2  trump signs executive order throw rotted scrap...  Negative\n",
       "3  sorry want real team truthful team justice tea...  Positive\n",
       "4  yeah sase cowers yelps befor jumping embarrass...  Negative"
      ]
     },
     "execution_count": 178,
     "metadata": {},
     "output_type": "execute_result"
    }
   ],
   "source": [
    "df_pred.head()"
   ]
  },
  {
   "cell_type": "code",
   "execution_count": 184,
   "metadata": {},
   "outputs": [],
   "source": [
    "# Calculate TD and IDF\n",
    "stemmer = SnowballStemmer(\"english\")\n",
    "tokenizer = RegexpTokenizer(\"[a-z']+\")\n",
    "\n",
    "        \n",
    "def tokenText(text):\n",
    "    tokens = tokenizer.tokenize(text)\n",
    "    return [stemmer.stem(t) for t in tokens] \n",
    "\n",
    "def get_tf(data, use_idf, max_df=1.0, min_df=1, ngram_range=(1,1)):\n",
    "    if use_idf:\n",
    "        m = TfidfVectorizer(max_df=max_df, min_df=min_df, stop_words='english', ngram_range=ngram_range, tokenizer=tokenText)\n",
    "    else:\n",
    "        m = CountVectorizer(max_df=max_df, min_df=min_df, stop_words='english', ngram_range=ngram_range, tokenizer=tokenText)\n",
    "    \n",
    "    d = m.fit_transform(data)\n",
    "    return m, d\n",
    "\n",
    "tf_m, tf_d = get_tf(df_pred['Tweet'], use_idf=False, max_df=0.90, min_df=10)\n",
    "tfidf_m, tfidf_d = get_tf(df_pred['Tweet'], use_idf=True, max_df=0.90, min_df=10)"
   ]
  },
  {
   "cell_type": "code",
   "execution_count": 185,
   "metadata": {},
   "outputs": [],
   "source": [
    "# Split data\n",
    "X_train, X_test, y_train, y_test = train_test_split(tfidf_d, df_pred['Sentiment'], test_size=0.3)"
   ]
  },
  {
   "cell_type": "code",
   "execution_count": 186,
   "metadata": {},
   "outputs": [],
   "source": [
    "# Build linear regression model and fit \n",
    "cat = [\"Positive\",\"Negative\",\"Neutral\"]\n",
    "def get_lr(x, y):\n",
    "    models = []\n",
    "    for c in cat:\n",
    "        y_adj = np.array(y==c)\n",
    "        lm = LogisticRegression()\n",
    "        lm_f = lm.fit(x, y_adj)\n",
    "        models.append(lm_f)\n",
    "    return models\n",
    "\n",
    "lr_m = get_lr(X_train, y_train)"
   ]
  },
  {
   "cell_type": "code",
   "execution_count": 187,
   "metadata": {},
   "outputs": [],
   "source": [
    "# Function to test sentiment\n",
    "def test_sentiment(text,model):\n",
    "    test_str = [text]\n",
    "    test_new = tfidf_m.transform(test_str)\n",
    "    print(test_str[0])\n",
    "\n",
    "    print('Tweet text: \"{R}\"\\n'.format(R=test_str[0]))\n",
    "    print('Model Predction')\n",
    "    for m in range(0,3):\n",
    "        print(model[m].predict_proba(test_new))\n",
    "        print('Model ({M}): {P:.1%}'.format(M=cat[m], P=model[m].predict_proba(test_new)[0][1]))  "
   ]
  },
  {
   "cell_type": "code",
   "execution_count": 188,
   "metadata": {},
   "outputs": [
    {
     "name": "stdout",
     "output_type": "stream",
     "text": [
      "President Trump killed too many people because his COVID19 policies. He should have shut country in early stage.\n",
      "Tweet text: \"President Trump killed too many people because his COVID19 policies. He should have shut country in early stage.\"\n",
      "\n",
      "Model Predction\n",
      "[[0.97295706 0.02704294]]\n",
      "Model (Positive): 2.7%\n",
      "[[0.09905755 0.90094245]]\n",
      "Model (Negative): 90.1%\n",
      "[[0.93536494 0.06463506]]\n",
      "Model (Neutral): 6.5%\n"
     ]
    }
   ],
   "source": [
    "# Bad sentiment\n",
    "test_sentiment('President Trump killed too many people because his COVID19 policies. He should have shut country in early stage.',lr_m)"
   ]
  },
  {
   "cell_type": "code",
   "execution_count": 189,
   "metadata": {},
   "outputs": [],
   "source": [
    "import pickle\n",
    "model_file_name = os.path.join(\"..\",\"Resources\",\"model\",'final_model.pickle')\n",
    "tfidf_model_file_name = os.path.join(\"..\",\"Resources\",\"model\",'tfidf_model.pickle')\n",
    "tokenText_file_name = os.path.join(\"..\",\"Resources\",\"model\",'tokenText.pickle')"
   ]
  },
  {
   "cell_type": "code",
   "execution_count": 190,
   "metadata": {},
   "outputs": [],
   "source": [
    "# Save the model \n",
    "pickle.dump(lr_m, open(model_file_name, 'wb'))"
   ]
  },
  {
   "cell_type": "code",
   "execution_count": 191,
   "metadata": {},
   "outputs": [],
   "source": [
    "# Save tfd\n",
    "pickle.dump(tfidf_m, open(tfidf_model_file_name, \"wb\"), protocol=0)"
   ]
  },
  {
   "cell_type": "code",
   "execution_count": 192,
   "metadata": {},
   "outputs": [],
   "source": [
    "# Save tokenText\n",
    "pickle.dump(tokenText, open(tokenText_file_name, \"wb\"), protocol=0)"
   ]
  },
  {
   "cell_type": "code",
   "execution_count": 193,
   "metadata": {},
   "outputs": [],
   "source": [
    "# Load saved model\n",
    "loaded_model = pickle.load(open(model_file_name, 'rb'))\n",
    "tfidf_model = pickle.load(open(tfidf_model_file_name, \"rb\"))\n",
    "tokenText_model = pickle.load(open(tokenText_file_name, \"rb\"))"
   ]
  },
  {
   "cell_type": "code",
   "execution_count": 194,
   "metadata": {},
   "outputs": [],
   "source": [
    "# Test string\n",
    "x=\"President Trump kept his word on trade policies. He is great for the businesses\""
   ]
  },
  {
   "cell_type": "code",
   "execution_count": 195,
   "metadata": {},
   "outputs": [],
   "source": [
    "# Transform test string\n",
    "test_new = tfidf_model.transform([x])"
   ]
  },
  {
   "cell_type": "code",
   "execution_count": 196,
   "metadata": {},
   "outputs": [
    {
     "name": "stdout",
     "output_type": "stream",
     "text": [
      "Model (Positive): 0.9124953315480058\n",
      "Model (Negative): 0.02694912859750792\n",
      "Model (Neutral) 0.0806113969106177\n"
     ]
    }
   ],
   "source": [
    "print(f\"Model (Positive): {loaded_model[0].predict_proba(test_new)[0][1]}\")\n",
    "print(f\"Model (Negative): {loaded_model[1].predict_proba(test_new)[0][1]}\")\n",
    "print(f\"Model (Neutral) {loaded_model[2].predict_proba(test_new)[0][1]}\")"
   ]
  },
  {
   "cell_type": "code",
   "execution_count": null,
   "metadata": {},
   "outputs": [],
   "source": []
  }
 ],
 "metadata": {
  "kernelspec": {
   "display_name": "Python 3",
   "language": "python",
   "name": "python3"
  },
  "language_info": {
   "codemirror_mode": {
    "name": "ipython",
    "version": 3
   },
   "file_extension": ".py",
   "mimetype": "text/x-python",
   "name": "python",
   "nbconvert_exporter": "python",
   "pygments_lexer": "ipython3",
   "version": "3.7.6"
  }
 },
 "nbformat": 4,
 "nbformat_minor": 4
}
