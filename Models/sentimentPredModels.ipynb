{
 "cells": [
  {
   "cell_type": "markdown",
   "metadata": {},
   "source": [
    "### Tweeter Sentiment Prediction Modelling"
   ]
  },
  {
   "cell_type": "code",
   "execution_count": 1,
   "metadata": {},
   "outputs": [],
   "source": [
    "#! pip install spacy==2.2"
   ]
  },
  {
   "cell_type": "code",
   "execution_count": 2,
   "metadata": {},
   "outputs": [],
   "source": [
    "#pip list"
   ]
  },
  {
   "cell_type": "code",
   "execution_count": 3,
   "metadata": {},
   "outputs": [],
   "source": [
    "# Load dependencies\n",
    "import pandas as pd\n",
    "import numpy as np\n",
    "\n",
    "import matplotlib.pyplot as plt\n",
    "import matplotlib.cm as cm\n",
    "import matplotlib\n",
    "\n",
    "from sklearn.feature_extraction.text import TfidfVectorizer, CountVectorizer\n",
    "from sklearn.decomposition import LatentDirichletAllocation,TruncatedSVD\n",
    "from sklearn.cluster import KMeans\n",
    "from sklearn.preprocessing import MinMaxScaler\n",
    "from sklearn.manifold import TSNE\n",
    "\n",
    "from sklearn.linear_model import LogisticRegression\n",
    "from sklearn.naive_bayes import MultinomialNB\n",
    "from sklearn.svm import LinearSVC\n",
    "from sklearn.model_selection import train_test_split\n",
    "from sklearn.model_selection import cross_val_score\n",
    "from sklearn.ensemble import VotingClassifier\n",
    "\n",
    "from nltk.stem.snowball import SnowballStemmer\n",
    "from nltk.tokenize import RegexpTokenizer\n",
    "\n",
    "import spacy\n",
    "import en_core_web_sm\n",
    "import sys\n",
    "import unicodedata\n",
    "import os\n",
    "\n",
    "import warnings\n",
    "warnings.filterwarnings('ignore') # Hides warning\n",
    "warnings.filterwarnings(\"ignore\", category=DeprecationWarning)\n",
    "warnings.filterwarnings(\"ignore\",category=UserWarning)\n",
    "np.random.seed(7) # seeding random number generator"
   ]
  },
  {
   "cell_type": "code",
   "execution_count": 45,
   "metadata": {},
   "outputs": [],
   "source": [
    "# File paths\n",
    "pred_data_file = os.path.join(\"..\",\"Resources\",\"data\",\"tweetPredData.csv\")"
   ]
  },
  {
   "cell_type": "code",
   "execution_count": 46,
   "metadata": {},
   "outputs": [],
   "source": [
    "# Load Tweeter data file\n",
    "df = pd.read_csv(pred_data_file)"
   ]
  },
  {
   "cell_type": "code",
   "execution_count": 47,
   "metadata": {},
   "outputs": [
    {
     "data": {
      "text/html": [
       "<div>\n",
       "<style scoped>\n",
       "    .dataframe tbody tr th:only-of-type {\n",
       "        vertical-align: middle;\n",
       "    }\n",
       "\n",
       "    .dataframe tbody tr th {\n",
       "        vertical-align: top;\n",
       "    }\n",
       "\n",
       "    .dataframe thead th {\n",
       "        text-align: right;\n",
       "    }\n",
       "</style>\n",
       "<table border=\"1\" class=\"dataframe\">\n",
       "  <thead>\n",
       "    <tr style=\"text-align: right;\">\n",
       "      <th></th>\n",
       "      <th>Date</th>\n",
       "      <th>Matched Keywords</th>\n",
       "      <th>User</th>\n",
       "      <th>Source</th>\n",
       "      <th>Followers</th>\n",
       "      <th>Friends</th>\n",
       "      <th>Favorite</th>\n",
       "      <th>Tweet</th>\n",
       "      <th>predTweet</th>\n",
       "      <th>CleanedTweet</th>\n",
       "      <th>Prediction</th>\n",
       "    </tr>\n",
       "  </thead>\n",
       "  <tbody>\n",
       "    <tr>\n",
       "      <th>0</th>\n",
       "      <td>08/05/2020</td>\n",
       "      <td>Biden</td>\n",
       "      <td>YourSiteingGoog</td>\n",
       "      <td>IFTTT</td>\n",
       "      <td>84</td>\n",
       "      <td>198</td>\n",
       "      <td>0</td>\n",
       "      <td>Breaking #FoxNews Alert : Bien scraps plans to...</td>\n",
       "      <td>breaking foxnews alert biden scraps plans trav...</td>\n",
       "      <td>['break', 'foxnew', 'alert', 'bien', 'scrap', ...</td>\n",
       "      <td>Positive</td>\n",
       "    </tr>\n",
       "    <tr>\n",
       "      <th>1</th>\n",
       "      <td>08/05/2020</td>\n",
       "      <td>Trump</td>\n",
       "      <td>rbenton75nc</td>\n",
       "      <td>Twitter for Android</td>\n",
       "      <td>15</td>\n",
       "      <td>87</td>\n",
       "      <td>0</td>\n",
       "      <td>@JRubinBlogger Isn't the doctor who gave Trump...</td>\n",
       "      <td>not the doctor who gave trump the test the sam...</td>\n",
       "      <td>['doctor', 'trump', 'test', 'doctor', 'tri', '...</td>\n",
       "      <td>Neutral</td>\n",
       "    </tr>\n",
       "    <tr>\n",
       "      <th>2</th>\n",
       "      <td>08/05/2020</td>\n",
       "      <td>Trump</td>\n",
       "      <td>Mrb18101</td>\n",
       "      <td>Twitter for iPhone</td>\n",
       "      <td>72</td>\n",
       "      <td>134</td>\n",
       "      <td>0</td>\n",
       "      <td>@WindsorMann The only friends Trump has had hi...</td>\n",
       "      <td>the only friends trump has had his entire life...</td>\n",
       "      <td>['friend', 'trump', 'entir', 'life', 'one', 'b...</td>\n",
       "      <td>Positive</td>\n",
       "    </tr>\n",
       "    <tr>\n",
       "      <th>3</th>\n",
       "      <td>08/05/2020</td>\n",
       "      <td>Trump</td>\n",
       "      <td>mermansteve</td>\n",
       "      <td>Twitter Web App</td>\n",
       "      <td>5232</td>\n",
       "      <td>5664</td>\n",
       "      <td>0</td>\n",
       "      <td>Trump’s pick to manage public lands has four-d...</td>\n",
       "      <td>trumps pick manage public lands has fourdecade...</td>\n",
       "      <td>['trump', 'pick', 'manag', 'public', 'land', '...</td>\n",
       "      <td>Negative</td>\n",
       "    </tr>\n",
       "    <tr>\n",
       "      <th>4</th>\n",
       "      <td>08/05/2020</td>\n",
       "      <td>Trump</td>\n",
       "      <td>biospherian</td>\n",
       "      <td>Twitter Web App</td>\n",
       "      <td>26</td>\n",
       "      <td>167</td>\n",
       "      <td>0</td>\n",
       "      <td>Because Trump is an asshole: http://t.co/Is5rk...</td>\n",
       "      <td>because trump an asshole</td>\n",
       "      <td>['trump', 'asshol']</td>\n",
       "      <td>Neutral</td>\n",
       "    </tr>\n",
       "  </tbody>\n",
       "</table>\n",
       "</div>"
      ],
      "text/plain": [
       "         Date Matched Keywords             User               Source  \\\n",
       "0  08/05/2020            Biden  YourSiteingGoog                IFTTT   \n",
       "1  08/05/2020            Trump      rbenton75nc  Twitter for Android   \n",
       "2  08/05/2020            Trump         Mrb18101   Twitter for iPhone   \n",
       "3  08/05/2020            Trump      mermansteve      Twitter Web App   \n",
       "4  08/05/2020            Trump      biospherian      Twitter Web App   \n",
       "\n",
       "   Followers  Friends  Favorite  \\\n",
       "0         84      198         0   \n",
       "1         15       87         0   \n",
       "2         72      134         0   \n",
       "3       5232     5664         0   \n",
       "4         26      167         0   \n",
       "\n",
       "                                               Tweet  \\\n",
       "0  Breaking #FoxNews Alert : Bien scraps plans to...   \n",
       "1  @JRubinBlogger Isn't the doctor who gave Trump...   \n",
       "2  @WindsorMann The only friends Trump has had hi...   \n",
       "3  Trump’s pick to manage public lands has four-d...   \n",
       "4  Because Trump is an asshole: http://t.co/Is5rk...   \n",
       "\n",
       "                                           predTweet  \\\n",
       "0  breaking foxnews alert biden scraps plans trav...   \n",
       "1  not the doctor who gave trump the test the sam...   \n",
       "2  the only friends trump has had his entire life...   \n",
       "3  trumps pick manage public lands has fourdecade...   \n",
       "4                           because trump an asshole   \n",
       "\n",
       "                                        CleanedTweet Prediction  \n",
       "0  ['break', 'foxnew', 'alert', 'bien', 'scrap', ...   Positive  \n",
       "1  ['doctor', 'trump', 'test', 'doctor', 'tri', '...    Neutral  \n",
       "2  ['friend', 'trump', 'entir', 'life', 'one', 'b...   Positive  \n",
       "3  ['trump', 'pick', 'manag', 'public', 'land', '...   Negative  \n",
       "4                                ['trump', 'asshol']    Neutral  "
      ]
     },
     "execution_count": 47,
     "metadata": {},
     "output_type": "execute_result"
    }
   ],
   "source": [
    "# Display sample results\n",
    "df.head()"
   ]
  },
  {
   "cell_type": "code",
   "execution_count": 48,
   "metadata": {},
   "outputs": [
    {
     "data": {
      "text/html": [
       "<div>\n",
       "<style scoped>\n",
       "    .dataframe tbody tr th:only-of-type {\n",
       "        vertical-align: middle;\n",
       "    }\n",
       "\n",
       "    .dataframe tbody tr th {\n",
       "        vertical-align: top;\n",
       "    }\n",
       "\n",
       "    .dataframe thead th {\n",
       "        text-align: right;\n",
       "    }\n",
       "</style>\n",
       "<table border=\"1\" class=\"dataframe\">\n",
       "  <thead>\n",
       "    <tr style=\"text-align: right;\">\n",
       "      <th></th>\n",
       "      <th>Followers</th>\n",
       "      <th>Friends</th>\n",
       "      <th>Favorite</th>\n",
       "    </tr>\n",
       "  </thead>\n",
       "  <tbody>\n",
       "    <tr>\n",
       "      <th>count</th>\n",
       "      <td>5.959100e+04</td>\n",
       "      <td>59591.000000</td>\n",
       "      <td>59591.000000</td>\n",
       "    </tr>\n",
       "    <tr>\n",
       "      <th>mean</th>\n",
       "      <td>2.773664e+04</td>\n",
       "      <td>2917.913393</td>\n",
       "      <td>7.629390</td>\n",
       "    </tr>\n",
       "    <tr>\n",
       "      <th>std</th>\n",
       "      <td>5.234116e+05</td>\n",
       "      <td>12186.536039</td>\n",
       "      <td>239.620822</td>\n",
       "    </tr>\n",
       "    <tr>\n",
       "      <th>min</th>\n",
       "      <td>0.000000e+00</td>\n",
       "      <td>0.000000</td>\n",
       "      <td>0.000000</td>\n",
       "    </tr>\n",
       "    <tr>\n",
       "      <th>25%</th>\n",
       "      <td>7.300000e+01</td>\n",
       "      <td>180.500000</td>\n",
       "      <td>0.000000</td>\n",
       "    </tr>\n",
       "    <tr>\n",
       "      <th>50%</th>\n",
       "      <td>4.090000e+02</td>\n",
       "      <td>635.000000</td>\n",
       "      <td>0.000000</td>\n",
       "    </tr>\n",
       "    <tr>\n",
       "      <th>75%</th>\n",
       "      <td>2.190000e+03</td>\n",
       "      <td>2070.000000</td>\n",
       "      <td>1.000000</td>\n",
       "    </tr>\n",
       "    <tr>\n",
       "      <th>max</th>\n",
       "      <td>4.936664e+07</td>\n",
       "      <td>872101.000000</td>\n",
       "      <td>45536.000000</td>\n",
       "    </tr>\n",
       "  </tbody>\n",
       "</table>\n",
       "</div>"
      ],
      "text/plain": [
       "          Followers        Friends      Favorite\n",
       "count  5.959100e+04   59591.000000  59591.000000\n",
       "mean   2.773664e+04    2917.913393      7.629390\n",
       "std    5.234116e+05   12186.536039    239.620822\n",
       "min    0.000000e+00       0.000000      0.000000\n",
       "25%    7.300000e+01     180.500000      0.000000\n",
       "50%    4.090000e+02     635.000000      0.000000\n",
       "75%    2.190000e+03    2070.000000      1.000000\n",
       "max    4.936664e+07  872101.000000  45536.000000"
      ]
     },
     "execution_count": 48,
     "metadata": {},
     "output_type": "execute_result"
    }
   ],
   "source": [
    "# Describe data set\n",
    "df.describe()"
   ]
  },
  {
   "cell_type": "code",
   "execution_count": 50,
   "metadata": {},
   "outputs": [],
   "source": [
    "# Keep only required columns\n",
    "df_pred = df[['predTweet','CleanedTweet','Prediction']]"
   ]
  },
  {
   "cell_type": "code",
   "execution_count": 51,
   "metadata": {},
   "outputs": [
    {
     "data": {
      "text/html": [
       "<div>\n",
       "<style scoped>\n",
       "    .dataframe tbody tr th:only-of-type {\n",
       "        vertical-align: middle;\n",
       "    }\n",
       "\n",
       "    .dataframe tbody tr th {\n",
       "        vertical-align: top;\n",
       "    }\n",
       "\n",
       "    .dataframe thead th {\n",
       "        text-align: right;\n",
       "    }\n",
       "</style>\n",
       "<table border=\"1\" class=\"dataframe\">\n",
       "  <thead>\n",
       "    <tr style=\"text-align: right;\">\n",
       "      <th></th>\n",
       "      <th>predTweet</th>\n",
       "      <th>CleanedTweet</th>\n",
       "      <th>Prediction</th>\n",
       "    </tr>\n",
       "  </thead>\n",
       "  <tbody>\n",
       "    <tr>\n",
       "      <th>count</th>\n",
       "      <td>59591</td>\n",
       "      <td>59591</td>\n",
       "      <td>59591</td>\n",
       "    </tr>\n",
       "    <tr>\n",
       "      <th>unique</th>\n",
       "      <td>54342</td>\n",
       "      <td>53084</td>\n",
       "      <td>3</td>\n",
       "    </tr>\n",
       "    <tr>\n",
       "      <th>top</th>\n",
       "      <td>trump</td>\n",
       "      <td>['trump']</td>\n",
       "      <td>Negative</td>\n",
       "    </tr>\n",
       "    <tr>\n",
       "      <th>freq</th>\n",
       "      <td>254</td>\n",
       "      <td>484</td>\n",
       "      <td>24256</td>\n",
       "    </tr>\n",
       "  </tbody>\n",
       "</table>\n",
       "</div>"
      ],
      "text/plain": [
       "       predTweet CleanedTweet Prediction\n",
       "count      59591        59591      59591\n",
       "unique     54342        53084          3\n",
       "top        trump    ['trump']   Negative\n",
       "freq         254          484      24256"
      ]
     },
     "execution_count": 51,
     "metadata": {},
     "output_type": "execute_result"
    }
   ],
   "source": [
    "# Check df stats\n",
    "df_pred.describe()"
   ]
  },
  {
   "cell_type": "code",
   "execution_count": 54,
   "metadata": {},
   "outputs": [
    {
     "data": {
      "text/plain": [
       "(59591, 3)"
      ]
     },
     "execution_count": 54,
     "metadata": {},
     "output_type": "execute_result"
    }
   ],
   "source": [
    "# Check data dimension - this step is required to make sure we have enough data points to train and test model\n",
    "df_pred.shape"
   ]
  },
  {
   "cell_type": "code",
   "execution_count": 60,
   "metadata": {},
   "outputs": [],
   "source": [
    "# Select meaningful reviews by filtering reviews with more than 10 words in the review comment.\n",
    "df_pred = df_pred[df_pred['predTweet'].fillna(\"\").apply(lambda x: len(x.split())>=10)] "
   ]
  },
  {
   "cell_type": "code",
   "execution_count": 61,
   "metadata": {},
   "outputs": [
    {
     "data": {
      "text/plain": [
       "(46878, 3)"
      ]
     },
     "execution_count": 61,
     "metadata": {},
     "output_type": "execute_result"
    }
   ],
   "source": [
    "# Check the data dimension\n",
    "df_pred.shape"
   ]
  },
  {
   "cell_type": "code",
   "execution_count": 62,
   "metadata": {},
   "outputs": [],
   "source": [
    "# Lemmatization and Stop words\n",
    "nlp = en_core_web_sm.load()\n",
    "\n",
    "# Define default stopwords list\n",
    "stoplist = spacy.lang.en.STOP_WORDS \n",
    "\n",
    "# Functions to remove encodes\n",
    "def replace_ptbr_char_by_word(word):\n",
    "    #  \"\"\" Will remove the encode token by token\"\"\"\n",
    "    word = str(word)\n",
    "    word = unicodedata.normalize('NFKD', word).encode('ASCII','ignore').decode('ASCII')\n",
    "    return word\n",
    "\n",
    "def remove_pt_br_char_by_text(text):\n",
    "    #  \"\"\" Will remove the encode using the entire text\"\"\"\n",
    "    text = str(text)\n",
    "    text = \" \".join(replace_ptbr_char_by_word(word) for word in text.split() if word not in stoplist)\n",
    "    return text"
   ]
  },
  {
   "cell_type": "code",
   "execution_count": 63,
   "metadata": {},
   "outputs": [],
   "source": [
    "# Lemmatization and Stop words\n",
    "df_pred['predTweet'] = df_pred['predTweet'].apply(remove_pt_br_char_by_text)"
   ]
  },
  {
   "cell_type": "code",
   "execution_count": 64,
   "metadata": {},
   "outputs": [],
   "source": [
    "# Keep only required columns\n",
    "df_pred=df_pred[['predTweet','Prediction']]"
   ]
  },
  {
   "cell_type": "code",
   "execution_count": 65,
   "metadata": {},
   "outputs": [
    {
     "name": "stdout",
     "output_type": "stream",
     "text": [
      "<class 'pandas.core.frame.DataFrame'>\n",
      "Int64Index: 46878 entries, 0 to 59590\n",
      "Data columns (total 2 columns):\n",
      " #   Column      Non-Null Count  Dtype \n",
      "---  ------      --------------  ----- \n",
      " 0   predTweet   46878 non-null  object\n",
      " 1   Prediction  46878 non-null  object\n",
      "dtypes: object(2)\n",
      "memory usage: 1.1+ MB\n"
     ]
    }
   ],
   "source": [
    "# Check data types\n",
    "df_pred.info()"
   ]
  },
  {
   "cell_type": "code",
   "execution_count": 66,
   "metadata": {},
   "outputs": [],
   "source": [
    "# Convert review_body to text\n",
    "df_pred['predTweet'] = df_pred['predTweet'].astype(str)"
   ]
  },
  {
   "cell_type": "code",
   "execution_count": 67,
   "metadata": {},
   "outputs": [
    {
     "data": {
      "text/html": [
       "<div>\n",
       "<style scoped>\n",
       "    .dataframe tbody tr th:only-of-type {\n",
       "        vertical-align: middle;\n",
       "    }\n",
       "\n",
       "    .dataframe tbody tr th {\n",
       "        vertical-align: top;\n",
       "    }\n",
       "\n",
       "    .dataframe thead th {\n",
       "        text-align: right;\n",
       "    }\n",
       "</style>\n",
       "<table border=\"1\" class=\"dataframe\">\n",
       "  <thead>\n",
       "    <tr style=\"text-align: right;\">\n",
       "      <th></th>\n",
       "      <th>predTweet</th>\n",
       "      <th>Prediction</th>\n",
       "    </tr>\n",
       "  </thead>\n",
       "  <tbody>\n",
       "    <tr>\n",
       "      <th>0</th>\n",
       "      <td>breaking foxnews alert biden scraps plans trav...</td>\n",
       "      <td>Positive</td>\n",
       "    </tr>\n",
       "    <tr>\n",
       "      <th>1</th>\n",
       "      <td>doctor gave trump test doctor tried head va qu...</td>\n",
       "      <td>Neutral</td>\n",
       "    </tr>\n",
       "    <tr>\n",
       "      <th>2</th>\n",
       "      <td>friends trump entire life ones bought money tr...</td>\n",
       "      <td>Positive</td>\n",
       "    </tr>\n",
       "    <tr>\n",
       "      <th>3</th>\n",
       "      <td>trumps pick manage public lands fourdecade his...</td>\n",
       "      <td>Negative</td>\n",
       "    </tr>\n",
       "    <tr>\n",
       "      <th>6</th>\n",
       "      <td>trump sort president failed oh hard cognitive ...</td>\n",
       "      <td>Negative</td>\n",
       "    </tr>\n",
       "  </tbody>\n",
       "</table>\n",
       "</div>"
      ],
      "text/plain": [
       "                                           predTweet Prediction\n",
       "0  breaking foxnews alert biden scraps plans trav...   Positive\n",
       "1  doctor gave trump test doctor tried head va qu...    Neutral\n",
       "2  friends trump entire life ones bought money tr...   Positive\n",
       "3  trumps pick manage public lands fourdecade his...   Negative\n",
       "6  trump sort president failed oh hard cognitive ...   Negative"
      ]
     },
     "execution_count": 67,
     "metadata": {},
     "output_type": "execute_result"
    }
   ],
   "source": [
    "# Display df sample\n",
    "df_pred.head()"
   ]
  },
  {
   "cell_type": "markdown",
   "metadata": {},
   "source": [
    "### Calculate Term Frequencies\n",
    "- Calculate both the actual term frequency as well as the tfidf weighted term frequency. Let's limit words occuring in at most 90% of documents and in at least 10 documents. \n",
    "- The term-frequency matrix is just a word count, the IDF calculation adjusts for \"boring\" or \"irrelvant\" words that occur in many reviews.\n",
    "\n",
    "- Perform two tokenizing operations. First, tokenize only letters, ignoring special symbols & numbers. \n",
    "- Use the NLTK Snowball stemmer to try and get the root of a word as best as possible. Stop words are removed in the vectorization step."
   ]
  },
  {
   "cell_type": "code",
   "execution_count": 68,
   "metadata": {},
   "outputs": [],
   "source": [
    "# Calculate TD and IDF\n",
    "stemmer = SnowballStemmer(\"english\")\n",
    "tokenizer = RegexpTokenizer(\"[a-z']+\")\n",
    "\n",
    "def tokenize(text):\n",
    "    tokens = tokenizer.tokenize(text)\n",
    "    return [stemmer.stem(t) for t in tokens] \n",
    "\n",
    "def get_tf(data, use_idf, max_df=1.0, min_df=1, ngram_range=(1,1)):\n",
    "    if use_idf:\n",
    "        m = TfidfVectorizer(max_df=max_df, min_df=min_df, stop_words='english', ngram_range=ngram_range, tokenizer=tokenize)\n",
    "    else:\n",
    "        m = CountVectorizer(max_df=max_df, min_df=min_df, stop_words='english', ngram_range=ngram_range, tokenizer=tokenize)\n",
    "    \n",
    "    d = m.fit_transform(data)\n",
    "    return m, d\n",
    "\n",
    "tf_m, tf_d = get_tf(df_pred['predTweet'], use_idf=False, max_df=0.90, min_df=10)\n",
    "tfidf_m, tfidf_d = get_tf(df_pred['predTweet'], use_idf=True, max_df=0.90, min_df=10)"
   ]
  },
  {
   "cell_type": "markdown",
   "metadata": {},
   "source": [
    "### Compute topics using Kmeans and LDA\n",
    "\n",
    "- Kmeans approach: Using our TFIDF matrix, cluster documents into N clusters based on their TFIDF similarity. Within each cluster, count the top occuring terms.\n",
    "\n",
    "- LDA approach: Using TF matrix, attempt to extact N topics from the collection of documents.\n",
    "\n",
    "##### Note: Kmeans forces each review to belong to only one cluster while LDA allows a review to have many topics associated with it. "
   ]
  },
  {
   "cell_type": "code",
   "execution_count": 69,
   "metadata": {},
   "outputs": [],
   "source": [
    "# Let's choose 15 topics\n",
    "n_topics = 10\n",
    "\n",
    "# LDA Approach\n",
    "def get_lda(data, topics):\n",
    "    m = LatentDirichletAllocation(n_components=topics, n_jobs=-1, learning_method='online').fit(data)\n",
    "    d = m.transform(data)\n",
    "    return m, d\n",
    "\n",
    "# Kmeans Approach\n",
    "def get_kmeans(data, k, scale=True):\n",
    "    if scale:\n",
    "        s = MinMaxScaler()\n",
    "        data = s.fit_transform(data)\n",
    "    \n",
    "    m = KMeans(n_clusters=k).fit(data)\n",
    "    d = m.predict(data)\n",
    "    return m, d        \n",
    "\n",
    "lda_m, lda_d = get_lda(tf_d, n_topics)\n",
    "kmean_m, kmean_d = get_kmeans(tfidf_d, n_topics, scale=False)"
   ]
  },
  {
   "cell_type": "markdown",
   "metadata": {},
   "source": [
    "### Show cluster top 10 words per topic\n",
    "- First extract the top 10 stemmed words per topic in our LDA model. \n",
    "- Repeate process for kmeans clustered documents. \n",
    "\n",
    "##### Note: Here we just count the top 15 most frequent stemmed words per cluster. Both show similar sets of results."
   ]
  },
  {
   "cell_type": "code",
   "execution_count": 70,
   "metadata": {},
   "outputs": [],
   "source": [
    "# Show topics\n",
    "def show_topics(model, feature_names, n_words):\n",
    "    for topic_idx, topic in enumerate(model.components_):\n",
    "        print(\"Topic #%d:\" % topic_idx)\n",
    "        print(\", \".join([feature_names[i]\n",
    "                        for i in topic.argsort()[:-n_words - 1:-1]]))\n",
    "    print()\n",
    "    \n",
    "# Show Clusters    \n",
    "def show_cluster_topics(cluster_labels, tf_matrix, feature_names, n_words):\n",
    "    d = pd.DataFrame(tf_matrix.toarray())\n",
    "    d['c'] = cluster_labels\n",
    "    d = d.groupby('c').sum().T\n",
    "    \n",
    "    for col in d:\n",
    "        top_n = d[col].nlargest(n_words).index.tolist()\n",
    "        print(\"Cluster #%d:\" % col)\n",
    "        print(\", \".join([feature_names[i]\n",
    "                for i in top_n]))\n",
    "    print()"
   ]
  },
  {
   "cell_type": "code",
   "execution_count": 71,
   "metadata": {},
   "outputs": [
    {
     "name": "stdout",
     "output_type": "stream",
     "text": [
      "Top 10 stemmed words per topic in LDA model\n",
      "\n",
      "Topic #0:\n",
      "trump, death, debat, like, ask, look, hes, tiktok, media, deal\n",
      "Topic #1:\n",
      "trump, vote, elect, covid, presid, republican, america, peopl, want, state\n",
      "Topic #2:\n",
      "trump, right, said, lewi, john, come, start, rememb, know, didnt\n",
      "Topic #3:\n",
      "biden, joe, democrat, news, plan, accept, swan, presid, coronavirus, china\n",
      "Topic #4:\n",
      "trump, biden, peopl, need, test, black, think, american, year, like\n",
      "Topic #5:\n",
      "trump, white, hous, follow, new, million, speech, law, leader, usa\n",
      "Topic #6:\n",
      "trump, talk, like, obama, bad, lose, love, peopl, care, tell\n",
      "Topic #7:\n",
      "trump, say, support, fuck, actual, thing, biden, fake, laugh, know\n",
      "Topic #8:\n",
      "trump, campaign, school, money, say, open, make, fraud, corrupt, kid\n",
      "Topic #9:\n",
      "trump, interview, presid, like, world, watch, offic, donald, time, want\n",
      "\n"
     ]
    }
   ],
   "source": [
    "# LDA topic \n",
    "print(\"Top 10 stemmed words per topic in LDA model\\n\")\n",
    "show_topics(lda_m, tf_m.get_feature_names(), 10)"
   ]
  },
  {
   "cell_type": "code",
   "execution_count": 72,
   "metadata": {},
   "outputs": [
    {
     "name": "stdout",
     "output_type": "stream",
     "text": [
      "Top 10 stemmed words per cluster in Kmeans model\n",
      "\n",
      "Cluster #0:\n",
      "school, open, kid, trump, reopen, children, barron, send, close, want, teacher, virus, covid, presid, say, son, parent, like, safe, push\n",
      "Cluster #1:\n",
      "want, trump, peopl, biden, know, like, vote, presid, debat, think, support, elect, american, doesnt, democrat, america, say, need, tiktok, joe\n",
      "Cluster #2:\n",
      "lie, trump, say, time, know, biden, claim, fals, peopl, truth, hemingway, trackrecord, molli, examin, like, arrest, bizarr, american, virus, fact\n",
      "Cluster #3:\n",
      "vote, mail, trump, mailin, ballot, biden, state, peopl, elect, florida, nevada, republican, voter, democrat, win, right, im, need, think, tri\n",
      "Cluster #4:\n",
      "presid, trump, donald, like, obama, american, peopl, elect, biden, america, state, know, say, year, said, countri, unit, think, need, republican\n",
      "Cluster #5:\n",
      "biden, joe, vp, debat, pick, democrat, run, think, like, elect, win, know, campaign, peopl, obama, time, need, candid, basement, parti\n",
      "Cluster #6:\n",
      "trump, like, donald, peopl, know, think, american, support, say, elect, covid, time, need, look, right, death, thing, im, america, said\n",
      "Cluster #7:\n",
      "milwauke, accept, travel, nomin, biden, concern, democrat, coronavirus, joe, convent, scrap, cite, plan, presidenti, dnc, longer, break, foxnew, delawar, nation\n",
      "Cluster #8:\n",
      "test, cognit, biden, junki, ask, joe, report, hell, black, taken, cocain, took, trump, say, snap, lash, video, case, covid, said\n",
      "Cluster #9:\n",
      "interview, axio, trump, hbo, watch, swan, presid, jonathan, exclus, episod, like, death, donald, toll, stun, look, covid, journalist, think, fox\n",
      "\n"
     ]
    }
   ],
   "source": [
    "# Kmean cluster of words\n",
    "print(\"Top 10 stemmed words per cluster in Kmeans model\\n\")\n",
    "show_cluster_topics(kmean_d, tfidf_d, tfidf_m.get_feature_names(),20)"
   ]
  },
  {
   "cell_type": "markdown",
   "metadata": {},
   "source": [
    "## Prepare data for plotting\n",
    "- TF/TFIDF matricies is a challenge to graphically represent documents as charts are limited to 3 dimensions. \n",
    "- Perform a heirarchical clustering, but the number of documents makes this approach very slow. \n",
    "- Let's perform a SVD/LSA to reduce the dimensionality of the matrix to something more manageable (eg. 30 dimensions)."
   ]
  },
  {
   "cell_type": "code",
   "execution_count": 73,
   "metadata": {},
   "outputs": [],
   "source": [
    "\n",
    "def get_svd(data, components):\n",
    "    svd = TruncatedSVD(n_components=components).fit(data)\n",
    "    o = pd.DataFrame(svd.transform(data), columns=range(0,components))\n",
    "    return svd,o\n",
    "\n",
    "def get_tsne(data, components, perplexity):\n",
    "    tsne = TSNE(n_components=components, perplexity=perplexity, n_iter=1000)\n",
    "    o = pd.DataFrame(tsne.fit_transform(data), columns=range(0,components))\n",
    "    return tsne,o\n",
    "\n",
    "svd_v, svd_m = get_svd(tfidf_d, 30)\n",
    "tnse_v, tsne_m = get_tsne(svd_m, 2, 25)\n",
    "\n",
    "lda_c = lda_d.argmax(axis=1)"
   ]
  },
  {
   "cell_type": "markdown",
   "metadata": {},
   "source": [
    "### Plot Data\n",
    "- Use LDA and Kmeans labels with reduced dimensions to plot our documents. \n",
    "- Create a rainbow color scheme which allows for a variable number of topics/clusters. \n",
    "- The plot tends to overlap quite a bit.  "
   ]
  },
  {
   "cell_type": "code",
   "execution_count": 75,
   "metadata": {},
   "outputs": [
    {
     "data": {
      "image/png": "[encoded data removed]",
      "text/plain": [
       "<Figure size 432x288 with 1 Axes>"
      ]
     },
     "metadata": {
      "needs_background": "light"
     },
     "output_type": "display_data"
    }
   ],
   "source": [
    "# Cluster topc plot\n",
    "def plot_scatter_2d(x, y, c, sample_size, title):\n",
    "    df = pd.DataFrame({'x': x, 'y': y, 'c': c}).sample(sample_size)\n",
    "    l = len(np.unique(c))\n",
    "    \n",
    "    ax = plt.subplot(111)\n",
    "    colors = cm.rainbow(np.linspace(0, 1, l))\n",
    "                                   \n",
    "    for c in range(0,l):\n",
    "        qq = df[df['c']==c]\n",
    "        ax.scatter(qq['x'], qq['y'], label=c)\n",
    "    plt.legend(loc='upper left', numpoints=1, ncol=3, fontsize=8, bbox_to_anchor=(0, 0), title='Topic/Cluster')\n",
    "    ax.set_yticklabels([])\n",
    "    ax.set_xticklabels([])\n",
    "    ax.set_title(title)\n",
    "    plt.show()\n",
    "\n",
    "# Plot\n",
    "plot_scatter_2d(tsne_m[0], tsne_m[1], kmean_d, 1000, 'KMeans Clustering of Tweeter Sentiment using TFIDF (t-SNE Plot)')"
   ]
  },
  {
   "cell_type": "code",
   "execution_count": 76,
   "metadata": {},
   "outputs": [
    {
     "data": {
      "image/png": "[encoded data removed]",
      "text/plain": [
       "<Figure size 432x288 with 1 Axes>"
      ]
     },
     "metadata": {
      "needs_background": "light"
     },
     "output_type": "display_data"
    }
   ],
   "source": [
    "# LDA topics plot\n",
    "plot_scatter_2d(tsne_m[0], tsne_m[1], lda_c, 1000, 'LDA Topics of Tweeter Sentiment using TF (t-SNE Plot)')"
   ]
  },
  {
   "cell_type": "markdown",
   "metadata": {},
   "source": [
    "### Prepare data for prediction\n",
    "- Scatter plots helps to understand how the data is structured, but it doesn't tell what drives positive or negative reviews. - - Lets use words within reviews to build a predictive scoring model.\n",
    "- When training models, split the data 70%/30% where 30% will be used for prediction to gauge final accuracy of the model.\n",
    "- For each review, the model that scores the highest will tell us which kind of review it likely is."
   ]
  },
  {
   "cell_type": "code",
   "execution_count": 77,
   "metadata": {},
   "outputs": [],
   "source": [
    "# Split data\n",
    "X_train, X_test, y_train, y_test = train_test_split(tfidf_d, df_pred['Prediction'], test_size=0.3)"
   ]
  },
  {
   "cell_type": "markdown",
   "metadata": {},
   "source": [
    "### Calculate model accuracies\n",
    "- Three different approaches to build the review predictions: Logistic Regression, Naive Bayes, and Support Vector Machines. \n",
    "- Final approach that does a combined \"vote\" of all three models. \n",
    "- Since we have limited data, lets use cross-validation to split the data 10 ways and measure accuracy in an unbiased way."
   ]
  },
  {
   "cell_type": "code",
   "execution_count": 80,
   "metadata": {},
   "outputs": [
    {
     "name": "stdout",
     "output_type": "stream",
     "text": [
      "Model accuracy predictions\n",
      "\n",
      "LR model (Positive rating): 77.3%\n",
      "LR model (Negative rating): 75.6%\n",
      "LR model (Neutral rating): 82.7%\n",
      "\n",
      "SVM model (Positive rating): 77.9%\n",
      "SVM model (Negative rating): 75.0%\n",
      "SVM model (Neutral rating): 83.3%\n",
      "\n",
      "NB model (Positive rating): 72.3%\n",
      "NB model (Negative rating): 72.3%\n",
      "NB model (Neutral rating): 81.0%\n",
      "\n",
      "COMBINED model (Positive rating): 77.3%\n",
      "COMBINED model (Negative rating): 75.2%\n",
      "COMBINED model (Neutral rating): 82.9%\n",
      "\n"
     ]
    }
   ],
   "source": [
    "# Calculate cross validation score\n",
    "cat = [\"Positive\",\"Negative\",\"Neutral\"]\n",
    "def calculate_cv(X, y):\n",
    "    results = {\n",
    "        'lr': [],\n",
    "        'svm': [],\n",
    "        'nb': [],\n",
    "        'combined': []\n",
    "    }\n",
    "    lm = LogisticRegression()\n",
    "    svm = LinearSVC()\n",
    "    nb = MultinomialNB()\n",
    "    vc = VotingClassifier([('lm', lm), ('svm', svm), ('nb', nb)])\n",
    "    \n",
    "    for c in cat:\n",
    "        y_adj = np.array(y==c)\n",
    "        results['lr'].append((cross_val_score(lm, X, y_adj, cv=10, scoring='accuracy').mean(), c))\n",
    "        results['svm'].append((cross_val_score(svm, X, y_adj, cv=10, scoring='accuracy').mean(), c))\n",
    "        results['nb'].append((cross_val_score(nb, X, y_adj, cv=10, scoring='accuracy').mean(), c))\n",
    "        results['combined'].append((cross_val_score(vc, X, y_adj, cv=10, scoring='accuracy').mean(), c))\n",
    "    return results\n",
    "\n",
    "# Call function\n",
    "cv_scores = calculate_cv(X_test, y_test)\n",
    "\n",
    "# print model accuracy predictions\n",
    "\n",
    "print(\"Model accuracy predictions\\n\")\n",
    "for m,s in cv_scores.items():\n",
    "    for ss in s:\n",
    "        print(\"{M} model ({R} rating): {S:.1%}\".format(M=m.upper(), R=ss[1], S=ss[0]))\n",
    "    print()"
   ]
  },
  {
   "cell_type": "markdown",
   "metadata": {},
   "source": [
    "### Training the model of choice\n",
    "- SVM have given better performance for. There is definitely room for improvement.  \n",
    "\n",
    "- There are lots of ways to tweak the prior steps to get a better result.\n",
    "\n",
    "    - Tweak any parameters in either the TF step or the modeling step\n",
    "    - Neg/Pos keywords might vary by topic so we might do this for one cluster at a time\n",
    "    - Nouns don't provide much insight and we are better off removing them\n",
    "    - \"good\" and \"not good\" have opposite meanings so maybe we should have included 2-grams"
   ]
  },
  {
   "cell_type": "code",
   "execution_count": 81,
   "metadata": {},
   "outputs": [],
   "source": [
    "# Build linear regression model and fit \n",
    "def get_lr(x, y):\n",
    "    models = []\n",
    "    for c in cat:\n",
    "        y_adj = np.array(y==c)\n",
    "        lm = LogisticRegression()\n",
    "        lm_f = lm.fit(x, y_adj)\n",
    "        models.append(lm_f)\n",
    "    return models\n",
    "\n",
    "lr_m = get_lr(X_train, y_train)"
   ]
  },
  {
   "cell_type": "markdown",
   "metadata": {},
   "source": [
    "### Plot the results\n",
    "- Charts show the result of Logistic Regression model. \n",
    "- Top 10 words negatively associated (red) with that review model, and the top 10 words positively associated (green) with that review model. \n",
    "- The values indiciate how much more likely or unlikely a review is to be low, neutral, high given the # of times that word occurs in the review."
   ]
  },
  {
   "cell_type": "code",
   "execution_count": 83,
   "metadata": {},
   "outputs": [
    {
     "data": {
      "image/png": "[encoded data removed]",
      "text/plain": [
       "<Figure size 432x288 with 1 Axes>"
      ]
     },
     "metadata": {
      "needs_background": "light"
     },
     "output_type": "display_data"
    },
    {
     "data": {
      "image/png": "[encoded data removed]",
      "text/plain": [
       "<Figure size 432x288 with 1 Axes>"
      ]
     },
     "metadata": {
      "needs_background": "light"
     },
     "output_type": "display_data"
    },
    {
     "data": {
      "image/png": "[encoded data removed]",
      "text/plain": [
       "<Figure size 432x288 with 1 Axes>"
      ]
     },
     "metadata": {
      "needs_background": "light"
     },
     "output_type": "display_data"
    }
   ],
   "source": [
    "# Plot coefficient \n",
    "\n",
    "def plot_coef(title, model, feature_names, n_words):\n",
    "    v = []\n",
    "    for topic_idx, topic in enumerate(model.coef_):\n",
    "        [v.append([feature_names[i], model.coef_.item(i)]) for i in topic.argsort()[:-n_words - 1:-1]]\n",
    "        [v.append([feature_names[i], model.coef_.item(i)]) for i in topic.argsort()[0:n_words]]\n",
    "    \n",
    "    df = pd.DataFrame(v, columns=['Term','Coefficient']).sort_values(by='Coefficient',ascending=False)\n",
    "    \n",
    "    df['c'] = df['Coefficient']>0\n",
    "    \n",
    "    ax = df.plot(x='Term', y='Coefficient', kind='barh', color=df['c'].map({True: 'g', False: 'r'}), grid=True, legend=False,\n",
    "           title=title)\n",
    "    \n",
    "    ax.set_xlabel(\"Coefficient\")\n",
    "\n",
    "n_terms = 10\n",
    "for c in range(0,len(cat)):\n",
    "    plot_coef('Top {N} words in ({R}) Tweet sentiment model\\nGreen = Associated | Red = Not Associated'.format(N=n_terms*2, \n",
    "               R=cat[c]), lr_m[c], tfidf_m.get_feature_names(), n_terms)"
   ]
  },
  {
   "cell_type": "markdown",
   "metadata": {},
   "source": [
    "### Test output\n",
    "- Below is a test function which allows to supply review to see how well the model will predict it's rating. \n",
    "- For simplicity, logistic regression model is used and only allow for one review at a time.\n",
    "- The program uses the stored TFIDF matrix to tokenize and transform our new review which is then fed to all three of logistic regression models. \n",
    "- Each model has an independent assessment of how likely it is that our review is a positive hit.  "
   ]
  },
  {
   "cell_type": "code",
   "execution_count": 84,
   "metadata": {},
   "outputs": [],
   "source": [
    "# Function to test sentiment\n",
    "def test_sentiment(text,model):\n",
    "    test_str = [text]\n",
    "    test_new = tfidf_m.transform(test_str)\n",
    "\n",
    "    print('Tweet text: \"{R}\"\\n'.format(R=test_str[0]))\n",
    "    print('Model Predction')\n",
    "    for m in range(0,3):\n",
    "        print('Model ({M}): {P:.1%}'.format(M=cat[m], P=model[m].predict_proba(test_new)[0][1]))       "
   ]
  },
  {
   "cell_type": "code",
   "execution_count": 85,
   "metadata": {},
   "outputs": [
    {
     "name": "stdout",
     "output_type": "stream",
     "text": [
      "Tweet text: \"President Trump killed too many people because his COVID19 policies. He should have shut country in early stage.\"\n",
      "\n",
      "Model Predction\n",
      "Model (Positive): 6.0%\n",
      "Model (Negative): 64.2%\n",
      "Model (Neutral): 34.1%\n"
     ]
    }
   ],
   "source": [
    "# Bad sentiment\n",
    "test_sentiment('President Trump killed too many people because his COVID19 policies. He should have shut country in early stage.',lr_m)"
   ]
  },
  {
   "cell_type": "code",
   "execution_count": 86,
   "metadata": {},
   "outputs": [
    {
     "name": "stdout",
     "output_type": "stream",
     "text": [
      "Tweet text: \"President Trump kept his word on trade policies. He is great for the businesses.\"\n",
      "\n",
      "Model Predction\n",
      "Model (Positive): 67.5%\n",
      "Model (Negative): 8.6%\n",
      "Model (Neutral): 26.3%\n"
     ]
    }
   ],
   "source": [
    "# Good sentiment\n",
    "test_sentiment('President Trump kept his word on trade policies. He is great for the businesses.',lr_m)"
   ]
  },
  {
   "cell_type": "markdown",
   "metadata": {},
   "source": [
    "### Save Model"
   ]
  },
  {
   "cell_type": "code",
   "execution_count": null,
   "metadata": {},
   "outputs": [],
   "source": [
    "# Need to save 3 models"
   ]
  }
 ],
 "metadata": {
  "kernelspec": {
   "display_name": "Python 3",
   "language": "python",
   "name": "python3"
  },
  "language_info": {
   "codemirror_mode": {
    "name": "ipython",
    "version": 3
   },
   "file_extension": ".py",
   "mimetype": "text/x-python",
   "name": "python",
   "nbconvert_exporter": "python",
   "pygments_lexer": "ipython3",
   "version": "3.7.6"
  }
 },
 "nbformat": 4,
 "nbformat_minor": 2
}
