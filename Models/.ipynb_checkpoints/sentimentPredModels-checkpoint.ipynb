{
 "cells": [
  {
   "cell_type": "markdown",
   "metadata": {},
   "source": [
    "### Tweeter Sentiment Prediction Modelling"
   ]
  },
  {
   "cell_type": "code",
   "execution_count": 1,
   "metadata": {},
   "outputs": [],
   "source": [
    "#! pip install spacy==2.2"
   ]
  },
  {
   "cell_type": "code",
   "execution_count": 2,
   "metadata": {},
   "outputs": [],
   "source": [
    "#pip list"
   ]
  },
  {
   "cell_type": "code",
   "execution_count": 3,
   "metadata": {},
   "outputs": [],
   "source": [
    "# Load dependencies\n",
    "import pandas as pd\n",
    "import numpy as np\n",
    "\n",
    "import matplotlib.pyplot as plt\n",
    "import matplotlib.cm as cm\n",
    "import matplotlib\n",
    "\n",
    "from sklearn.feature_extraction.text import TfidfVectorizer, CountVectorizer\n",
    "from sklearn.decomposition import LatentDirichletAllocation,TruncatedSVD\n",
    "from sklearn.cluster import KMeans\n",
    "from sklearn.preprocessing import MinMaxScaler\n",
    "from sklearn.manifold import TSNE\n",
    "\n",
    "from sklearn.linear_model import LogisticRegression\n",
    "from sklearn.naive_bayes import MultinomialNB\n",
    "from sklearn.svm import LinearSVC\n",
    "from sklearn.model_selection import train_test_split\n",
    "from sklearn.model_selection import cross_val_score\n",
    "from sklearn.ensemble import VotingClassifier\n",
    "\n",
    "from nltk.stem.snowball import SnowballStemmer\n",
    "from nltk.tokenize import RegexpTokenizer\n",
    "\n",
    "import spacy\n",
    "import en_core_web_sm\n",
    "import sys\n",
    "import unicodedata\n",
    "import os\n",
    "\n",
    "import warnings\n",
    "warnings.filterwarnings('ignore') # Hides warning\n",
    "warnings.filterwarnings(\"ignore\", category=DeprecationWarning)\n",
    "warnings.filterwarnings(\"ignore\",category=UserWarning)\n",
    "np.random.seed(7) # seeding random number generator"
   ]
  },
  {
   "cell_type": "code",
   "execution_count": 31,
   "metadata": {},
   "outputs": [
    {
     "data": {
      "text/plain": [
       "'..\\\\Resources\\\\data\\\\tweetPredData.csv'"
      ]
     },
     "execution_count": 31,
     "metadata": {},
     "output_type": "execute_result"
    }
   ],
   "source": [
    "# File paths\n",
    "pred_data_file = os.path.join(\"..\",\"Resources\",\"data\",\"tweetPredData.csv\")\n",
    "pred_data_file"
   ]
  },
  {
   "cell_type": "code",
   "execution_count": 32,
   "metadata": {},
   "outputs": [
    {
     "ename": "FileNotFoundError",
     "evalue": "[Errno 2] File ..\\Resources\\data\\tweetPredData.csv does not exist: '..\\\\Resources\\\\data\\\\tweetPredData.csv'",
     "output_type": "error",
     "traceback": [
      "\u001b[1;31m---------------------------------------------------------------------------\u001b[0m",
      "\u001b[1;31mFileNotFoundError\u001b[0m                         Traceback (most recent call last)",
      "\u001b[1;32m<ipython-input-32-5751d8847141>\u001b[0m in \u001b[0;36m<module>\u001b[1;34m\u001b[0m\n\u001b[0;32m      1\u001b[0m \u001b[1;31m# Load Tweeter data file\u001b[0m\u001b[1;33m\u001b[0m\u001b[1;33m\u001b[0m\u001b[1;33m\u001b[0m\u001b[0m\n\u001b[1;32m----> 2\u001b[1;33m \u001b[0mdf\u001b[0m \u001b[1;33m=\u001b[0m \u001b[0mpd\u001b[0m\u001b[1;33m.\u001b[0m\u001b[0mread_csv\u001b[0m\u001b[1;33m(\u001b[0m\u001b[0mpred_data_file\u001b[0m\u001b[1;33m)\u001b[0m\u001b[1;33m\u001b[0m\u001b[1;33m\u001b[0m\u001b[0m\n\u001b[0m",
      "\u001b[1;32m~\\Anaconda3\\envs\\PythonData2020_1\\lib\\site-packages\\pandas\\io\\parsers.py\u001b[0m in \u001b[0;36mparser_f\u001b[1;34m(filepath_or_buffer, sep, delimiter, header, names, index_col, usecols, squeeze, prefix, mangle_dupe_cols, dtype, engine, converters, true_values, false_values, skipinitialspace, skiprows, skipfooter, nrows, na_values, keep_default_na, na_filter, verbose, skip_blank_lines, parse_dates, infer_datetime_format, keep_date_col, date_parser, dayfirst, cache_dates, iterator, chunksize, compression, thousands, decimal, lineterminator, quotechar, quoting, doublequote, escapechar, comment, encoding, dialect, error_bad_lines, warn_bad_lines, delim_whitespace, low_memory, memory_map, float_precision)\u001b[0m\n\u001b[0;32m    674\u001b[0m         )\n\u001b[0;32m    675\u001b[0m \u001b[1;33m\u001b[0m\u001b[0m\n\u001b[1;32m--> 676\u001b[1;33m         \u001b[1;32mreturn\u001b[0m \u001b[0m_read\u001b[0m\u001b[1;33m(\u001b[0m\u001b[0mfilepath_or_buffer\u001b[0m\u001b[1;33m,\u001b[0m \u001b[0mkwds\u001b[0m\u001b[1;33m)\u001b[0m\u001b[1;33m\u001b[0m\u001b[1;33m\u001b[0m\u001b[0m\n\u001b[0m\u001b[0;32m    677\u001b[0m \u001b[1;33m\u001b[0m\u001b[0m\n\u001b[0;32m    678\u001b[0m     \u001b[0mparser_f\u001b[0m\u001b[1;33m.\u001b[0m\u001b[0m__name__\u001b[0m \u001b[1;33m=\u001b[0m \u001b[0mname\u001b[0m\u001b[1;33m\u001b[0m\u001b[1;33m\u001b[0m\u001b[0m\n",
      "\u001b[1;32m~\\Anaconda3\\envs\\PythonData2020_1\\lib\\site-packages\\pandas\\io\\parsers.py\u001b[0m in \u001b[0;36m_read\u001b[1;34m(filepath_or_buffer, kwds)\u001b[0m\n\u001b[0;32m    446\u001b[0m \u001b[1;33m\u001b[0m\u001b[0m\n\u001b[0;32m    447\u001b[0m     \u001b[1;31m# Create the parser.\u001b[0m\u001b[1;33m\u001b[0m\u001b[1;33m\u001b[0m\u001b[1;33m\u001b[0m\u001b[0m\n\u001b[1;32m--> 448\u001b[1;33m     \u001b[0mparser\u001b[0m \u001b[1;33m=\u001b[0m \u001b[0mTextFileReader\u001b[0m\u001b[1;33m(\u001b[0m\u001b[0mfp_or_buf\u001b[0m\u001b[1;33m,\u001b[0m \u001b[1;33m**\u001b[0m\u001b[0mkwds\u001b[0m\u001b[1;33m)\u001b[0m\u001b[1;33m\u001b[0m\u001b[1;33m\u001b[0m\u001b[0m\n\u001b[0m\u001b[0;32m    449\u001b[0m \u001b[1;33m\u001b[0m\u001b[0m\n\u001b[0;32m    450\u001b[0m     \u001b[1;32mif\u001b[0m \u001b[0mchunksize\u001b[0m \u001b[1;32mor\u001b[0m \u001b[0miterator\u001b[0m\u001b[1;33m:\u001b[0m\u001b[1;33m\u001b[0m\u001b[1;33m\u001b[0m\u001b[0m\n",
      "\u001b[1;32m~\\Anaconda3\\envs\\PythonData2020_1\\lib\\site-packages\\pandas\\io\\parsers.py\u001b[0m in \u001b[0;36m__init__\u001b[1;34m(self, f, engine, **kwds)\u001b[0m\n\u001b[0;32m    878\u001b[0m             \u001b[0mself\u001b[0m\u001b[1;33m.\u001b[0m\u001b[0moptions\u001b[0m\u001b[1;33m[\u001b[0m\u001b[1;34m\"has_index_names\"\u001b[0m\u001b[1;33m]\u001b[0m \u001b[1;33m=\u001b[0m \u001b[0mkwds\u001b[0m\u001b[1;33m[\u001b[0m\u001b[1;34m\"has_index_names\"\u001b[0m\u001b[1;33m]\u001b[0m\u001b[1;33m\u001b[0m\u001b[1;33m\u001b[0m\u001b[0m\n\u001b[0;32m    879\u001b[0m \u001b[1;33m\u001b[0m\u001b[0m\n\u001b[1;32m--> 880\u001b[1;33m         \u001b[0mself\u001b[0m\u001b[1;33m.\u001b[0m\u001b[0m_make_engine\u001b[0m\u001b[1;33m(\u001b[0m\u001b[0mself\u001b[0m\u001b[1;33m.\u001b[0m\u001b[0mengine\u001b[0m\u001b[1;33m)\u001b[0m\u001b[1;33m\u001b[0m\u001b[1;33m\u001b[0m\u001b[0m\n\u001b[0m\u001b[0;32m    881\u001b[0m \u001b[1;33m\u001b[0m\u001b[0m\n\u001b[0;32m    882\u001b[0m     \u001b[1;32mdef\u001b[0m \u001b[0mclose\u001b[0m\u001b[1;33m(\u001b[0m\u001b[0mself\u001b[0m\u001b[1;33m)\u001b[0m\u001b[1;33m:\u001b[0m\u001b[1;33m\u001b[0m\u001b[1;33m\u001b[0m\u001b[0m\n",
      "\u001b[1;32m~\\Anaconda3\\envs\\PythonData2020_1\\lib\\site-packages\\pandas\\io\\parsers.py\u001b[0m in \u001b[0;36m_make_engine\u001b[1;34m(self, engine)\u001b[0m\n\u001b[0;32m   1112\u001b[0m     \u001b[1;32mdef\u001b[0m \u001b[0m_make_engine\u001b[0m\u001b[1;33m(\u001b[0m\u001b[0mself\u001b[0m\u001b[1;33m,\u001b[0m \u001b[0mengine\u001b[0m\u001b[1;33m=\u001b[0m\u001b[1;34m\"c\"\u001b[0m\u001b[1;33m)\u001b[0m\u001b[1;33m:\u001b[0m\u001b[1;33m\u001b[0m\u001b[1;33m\u001b[0m\u001b[0m\n\u001b[0;32m   1113\u001b[0m         \u001b[1;32mif\u001b[0m \u001b[0mengine\u001b[0m \u001b[1;33m==\u001b[0m \u001b[1;34m\"c\"\u001b[0m\u001b[1;33m:\u001b[0m\u001b[1;33m\u001b[0m\u001b[1;33m\u001b[0m\u001b[0m\n\u001b[1;32m-> 1114\u001b[1;33m             \u001b[0mself\u001b[0m\u001b[1;33m.\u001b[0m\u001b[0m_engine\u001b[0m \u001b[1;33m=\u001b[0m \u001b[0mCParserWrapper\u001b[0m\u001b[1;33m(\u001b[0m\u001b[0mself\u001b[0m\u001b[1;33m.\u001b[0m\u001b[0mf\u001b[0m\u001b[1;33m,\u001b[0m \u001b[1;33m**\u001b[0m\u001b[0mself\u001b[0m\u001b[1;33m.\u001b[0m\u001b[0moptions\u001b[0m\u001b[1;33m)\u001b[0m\u001b[1;33m\u001b[0m\u001b[1;33m\u001b[0m\u001b[0m\n\u001b[0m\u001b[0;32m   1115\u001b[0m         \u001b[1;32melse\u001b[0m\u001b[1;33m:\u001b[0m\u001b[1;33m\u001b[0m\u001b[1;33m\u001b[0m\u001b[0m\n\u001b[0;32m   1116\u001b[0m             \u001b[1;32mif\u001b[0m \u001b[0mengine\u001b[0m \u001b[1;33m==\u001b[0m \u001b[1;34m\"python\"\u001b[0m\u001b[1;33m:\u001b[0m\u001b[1;33m\u001b[0m\u001b[1;33m\u001b[0m\u001b[0m\n",
      "\u001b[1;32m~\\Anaconda3\\envs\\PythonData2020_1\\lib\\site-packages\\pandas\\io\\parsers.py\u001b[0m in \u001b[0;36m__init__\u001b[1;34m(self, src, **kwds)\u001b[0m\n\u001b[0;32m   1889\u001b[0m         \u001b[0mkwds\u001b[0m\u001b[1;33m[\u001b[0m\u001b[1;34m\"usecols\"\u001b[0m\u001b[1;33m]\u001b[0m \u001b[1;33m=\u001b[0m \u001b[0mself\u001b[0m\u001b[1;33m.\u001b[0m\u001b[0musecols\u001b[0m\u001b[1;33m\u001b[0m\u001b[1;33m\u001b[0m\u001b[0m\n\u001b[0;32m   1890\u001b[0m \u001b[1;33m\u001b[0m\u001b[0m\n\u001b[1;32m-> 1891\u001b[1;33m         \u001b[0mself\u001b[0m\u001b[1;33m.\u001b[0m\u001b[0m_reader\u001b[0m \u001b[1;33m=\u001b[0m \u001b[0mparsers\u001b[0m\u001b[1;33m.\u001b[0m\u001b[0mTextReader\u001b[0m\u001b[1;33m(\u001b[0m\u001b[0msrc\u001b[0m\u001b[1;33m,\u001b[0m \u001b[1;33m**\u001b[0m\u001b[0mkwds\u001b[0m\u001b[1;33m)\u001b[0m\u001b[1;33m\u001b[0m\u001b[1;33m\u001b[0m\u001b[0m\n\u001b[0m\u001b[0;32m   1892\u001b[0m         \u001b[0mself\u001b[0m\u001b[1;33m.\u001b[0m\u001b[0munnamed_cols\u001b[0m \u001b[1;33m=\u001b[0m \u001b[0mself\u001b[0m\u001b[1;33m.\u001b[0m\u001b[0m_reader\u001b[0m\u001b[1;33m.\u001b[0m\u001b[0munnamed_cols\u001b[0m\u001b[1;33m\u001b[0m\u001b[1;33m\u001b[0m\u001b[0m\n\u001b[0;32m   1893\u001b[0m \u001b[1;33m\u001b[0m\u001b[0m\n",
      "\u001b[1;32mpandas\\_libs\\parsers.pyx\u001b[0m in \u001b[0;36mpandas._libs.parsers.TextReader.__cinit__\u001b[1;34m()\u001b[0m\n",
      "\u001b[1;32mpandas\\_libs\\parsers.pyx\u001b[0m in \u001b[0;36mpandas._libs.parsers.TextReader._setup_parser_source\u001b[1;34m()\u001b[0m\n",
      "\u001b[1;31mFileNotFoundError\u001b[0m: [Errno 2] File ..\\Resources\\data\\tweetPredData.csv does not exist: '..\\\\Resources\\\\data\\\\tweetPredData.csv'"
     ]
    }
   ],
   "source": [
    "# Load Tweeter data file\n",
    "df = pd.read_csv(pred_data_file)"
   ]
  },
  {
   "cell_type": "code",
   "execution_count": 7,
   "metadata": {},
   "outputs": [
    {
     "ename": "NameError",
     "evalue": "name 'df' is not defined",
     "output_type": "error",
     "traceback": [
      "\u001b[1;31m---------------------------------------------------------------------------\u001b[0m",
      "\u001b[1;31mNameError\u001b[0m                                 Traceback (most recent call last)",
      "\u001b[1;32m<ipython-input-7-dc1817dbdd35>\u001b[0m in \u001b[0;36m<module>\u001b[1;34m\u001b[0m\n\u001b[0;32m      1\u001b[0m \u001b[1;31m# Display sample results\u001b[0m\u001b[1;33m\u001b[0m\u001b[1;33m\u001b[0m\u001b[1;33m\u001b[0m\u001b[0m\n\u001b[1;32m----> 2\u001b[1;33m \u001b[0mdf\u001b[0m\u001b[1;33m.\u001b[0m\u001b[0mhead\u001b[0m\u001b[1;33m(\u001b[0m\u001b[1;33m)\u001b[0m\u001b[1;33m\u001b[0m\u001b[1;33m\u001b[0m\u001b[0m\n\u001b[0m",
      "\u001b[1;31mNameError\u001b[0m: name 'df' is not defined"
     ]
    }
   ],
   "source": [
    "# Display sample results\n",
    "df.head()"
   ]
  },
  {
   "cell_type": "code",
   "execution_count": 7,
   "metadata": {},
   "outputs": [],
   "source": [
    "# Remove redudent rows\n",
    "df = df[df['review_id']!='review_id']"
   ]
  },
  {
   "cell_type": "code",
   "execution_count": 8,
   "metadata": {},
   "outputs": [
    {
     "data": {
      "text/html": [
       "<div>\n",
       "<style scoped>\n",
       "    .dataframe tbody tr th:only-of-type {\n",
       "        vertical-align: middle;\n",
       "    }\n",
       "\n",
       "    .dataframe tbody tr th {\n",
       "        vertical-align: top;\n",
       "    }\n",
       "\n",
       "    .dataframe thead th {\n",
       "        text-align: right;\n",
       "    }\n",
       "</style>\n",
       "<table border=\"1\" class=\"dataframe\">\n",
       "  <thead>\n",
       "    <tr style=\"text-align: right;\">\n",
       "      <th></th>\n",
       "      <th>Unnamed: 0</th>\n",
       "      <th>marketplace</th>\n",
       "      <th>customer_id</th>\n",
       "      <th>review_id</th>\n",
       "      <th>product_id</th>\n",
       "      <th>product_parent</th>\n",
       "      <th>product_title</th>\n",
       "      <th>product_category</th>\n",
       "      <th>star_rating</th>\n",
       "      <th>helpful_votes</th>\n",
       "      <th>total_votes</th>\n",
       "      <th>vine</th>\n",
       "      <th>verified_purchase</th>\n",
       "      <th>review_headline</th>\n",
       "      <th>review_body</th>\n",
       "      <th>review_date</th>\n",
       "    </tr>\n",
       "  </thead>\n",
       "  <tbody>\n",
       "    <tr>\n",
       "      <th>count</th>\n",
       "      <td>3109332</td>\n",
       "      <td>3109332</td>\n",
       "      <td>3109332</td>\n",
       "      <td>3109332</td>\n",
       "      <td>3109332</td>\n",
       "      <td>3109332</td>\n",
       "      <td>3109328</td>\n",
       "      <td>3109332</td>\n",
       "      <td>3109332</td>\n",
       "      <td>3109332</td>\n",
       "      <td>3109332</td>\n",
       "      <td>3109332</td>\n",
       "      <td>3109332</td>\n",
       "      <td>3109301</td>\n",
       "      <td>3109244</td>\n",
       "      <td>3100077</td>\n",
       "    </tr>\n",
       "    <tr>\n",
       "      <th>unique</th>\n",
       "      <td>3091053</td>\n",
       "      <td>7950</td>\n",
       "      <td>2161840</td>\n",
       "      <td>3096842</td>\n",
       "      <td>190926</td>\n",
       "      <td>171298</td>\n",
       "      <td>167866</td>\n",
       "      <td>7</td>\n",
       "      <td>55</td>\n",
       "      <td>896</td>\n",
       "      <td>937</td>\n",
       "      <td>3</td>\n",
       "      <td>5385</td>\n",
       "      <td>1643309</td>\n",
       "      <td>2894839</td>\n",
       "      <td>5908</td>\n",
       "    </tr>\n",
       "    <tr>\n",
       "      <th>top</th>\n",
       "      <td>US</td>\n",
       "      <td>US</td>\n",
       "      <td>49266466</td>\n",
       "      <td>product_id</td>\n",
       "      <td>B003L1ZYYM</td>\n",
       "      <td>921315865</td>\n",
       "      <td>Panasonic ErgoFit In-Ear Earbud Headphone</td>\n",
       "      <td>Electronics</td>\n",
       "      <td>5</td>\n",
       "      <td>0</td>\n",
       "      <td>0</td>\n",
       "      <td>N</td>\n",
       "      <td>Y</td>\n",
       "      <td>Five Stars</td>\n",
       "      <td>good</td>\n",
       "      <td>2015-08-31</td>\n",
       "    </tr>\n",
       "    <tr>\n",
       "      <th>freq</th>\n",
       "      <td>9050</td>\n",
       "      <td>3100101</td>\n",
       "      <td>234</td>\n",
       "      <td>181</td>\n",
       "      <td>15380</td>\n",
       "      <td>24898</td>\n",
       "      <td>24903</td>\n",
       "      <td>3100101</td>\n",
       "      <td>1785066</td>\n",
       "      <td>2103018</td>\n",
       "      <td>1883861</td>\n",
       "      <td>3082269</td>\n",
       "      <td>2605980</td>\n",
       "      <td>326811</td>\n",
       "      <td>4702</td>\n",
       "      <td>6918</td>\n",
       "    </tr>\n",
       "  </tbody>\n",
       "</table>\n",
       "</div>"
      ],
      "text/plain": [
       "       Unnamed: 0 marketplace customer_id   review_id  product_id  \\\n",
       "count     3109332     3109332     3109332     3109332     3109332   \n",
       "unique    3091053        7950     2161840     3096842      190926   \n",
       "top            US          US    49266466  product_id  B003L1ZYYM   \n",
       "freq         9050     3100101         234         181       15380   \n",
       "\n",
       "       product_parent                              product_title  \\\n",
       "count         3109332                                    3109328   \n",
       "unique         171298                                     167866   \n",
       "top         921315865  Panasonic ErgoFit In-Ear Earbud Headphone   \n",
       "freq            24898                                      24903   \n",
       "\n",
       "       product_category star_rating helpful_votes total_votes     vine  \\\n",
       "count           3109332     3109332       3109332     3109332  3109332   \n",
       "unique                7          55           896         937        3   \n",
       "top         Electronics           5             0           0        N   \n",
       "freq            3100101     1785066       2103018     1883861  3082269   \n",
       "\n",
       "       verified_purchase review_headline review_body review_date  \n",
       "count            3109332         3109301     3109244     3100077  \n",
       "unique              5385         1643309     2894839        5908  \n",
       "top                    Y      Five Stars        good  2015-08-31  \n",
       "freq             2605980          326811        4702        6918  "
      ]
     },
     "execution_count": 8,
     "metadata": {},
     "output_type": "execute_result"
    }
   ],
   "source": [
    "# Describe data set\n",
    "df.describe()"
   ]
  },
  {
   "cell_type": "code",
   "execution_count": 9,
   "metadata": {},
   "outputs": [],
   "source": [
    "# Keep onlly required columns\n",
    "df_review = df[['product_id','product_parent','star_rating','review_body']]"
   ]
  },
  {
   "cell_type": "code",
   "execution_count": 10,
   "metadata": {},
   "outputs": [
    {
     "data": {
      "text/plain": [
       "B003L1ZYYM    15380\n",
       "B0002L5R78    11170\n",
       "B003EM8008     9806\n",
       "B0012S4APK     9382\n",
       "B0001FTVEK     8816\n",
       "              ...  \n",
       "B00HHDGPOS        1\n",
       "B002MANOUO        1\n",
       "685250077         1\n",
       "B00ECRWFJG        1\n",
       "B00RU4LZ62        1\n",
       "Name: product_id, Length: 190926, dtype: int64"
      ]
     },
     "execution_count": 10,
     "metadata": {},
     "output_type": "execute_result"
    }
   ],
   "source": [
    "# Get unique values from columns\n",
    "df_review[\"product_id\"].value_counts()"
   ]
  },
  {
   "cell_type": "code",
   "execution_count": 11,
   "metadata": {},
   "outputs": [],
   "source": [
    "# Chanage dtype of features\n",
    "df_review['product_id'] = df_review['product_id'].astype(str)\n",
    "df_review = df_review[pd.to_numeric(df_review['product_parent'], errors='coerce').notnull()]\n",
    "df_review = df_review[pd.to_numeric(df_review['star_rating'], errors='coerce').notnull()]"
   ]
  },
  {
   "cell_type": "code",
   "execution_count": 12,
   "metadata": {},
   "outputs": [
    {
     "data": {
      "text/html": [
       "<div>\n",
       "<style scoped>\n",
       "    .dataframe tbody tr th:only-of-type {\n",
       "        vertical-align: middle;\n",
       "    }\n",
       "\n",
       "    .dataframe tbody tr th {\n",
       "        vertical-align: top;\n",
       "    }\n",
       "\n",
       "    .dataframe thead th {\n",
       "        text-align: right;\n",
       "    }\n",
       "</style>\n",
       "<table border=\"1\" class=\"dataframe\">\n",
       "  <thead>\n",
       "    <tr style=\"text-align: right;\">\n",
       "      <th></th>\n",
       "      <th>product_id</th>\n",
       "      <th>product_parent</th>\n",
       "      <th>star_rating</th>\n",
       "      <th>review_body</th>\n",
       "    </tr>\n",
       "  </thead>\n",
       "  <tbody>\n",
       "    <tr>\n",
       "      <th>count</th>\n",
       "      <td>3100102</td>\n",
       "      <td>3100102</td>\n",
       "      <td>3100102</td>\n",
       "      <td>3100014</td>\n",
       "    </tr>\n",
       "    <tr>\n",
       "      <th>unique</th>\n",
       "      <td>185776</td>\n",
       "      <td>166174</td>\n",
       "      <td>6</td>\n",
       "      <td>2894836</td>\n",
       "    </tr>\n",
       "    <tr>\n",
       "      <th>top</th>\n",
       "      <td>B003L1ZYYM</td>\n",
       "      <td>921315865</td>\n",
       "      <td>5</td>\n",
       "      <td>good</td>\n",
       "    </tr>\n",
       "    <tr>\n",
       "      <th>freq</th>\n",
       "      <td>15380</td>\n",
       "      <td>24898</td>\n",
       "      <td>1785029</td>\n",
       "      <td>4702</td>\n",
       "    </tr>\n",
       "  </tbody>\n",
       "</table>\n",
       "</div>"
      ],
      "text/plain": [
       "        product_id product_parent star_rating review_body\n",
       "count      3100102        3100102     3100102     3100014\n",
       "unique      185776         166174           6     2894836\n",
       "top     B003L1ZYYM      921315865           5        good\n",
       "freq         15380          24898     1785029        4702"
      ]
     },
     "execution_count": 12,
     "metadata": {},
     "output_type": "execute_result"
    }
   ],
   "source": [
    "# Check df stats\n",
    "df_review.describe()"
   ]
  },
  {
   "cell_type": "code",
   "execution_count": 13,
   "metadata": {},
   "outputs": [],
   "source": [
    "# Keep products which has good count of reviews\n",
    "df_review = df_review.groupby('product_parent').filter(lambda x: len(x) > 10000)"
   ]
  },
  {
   "cell_type": "code",
   "execution_count": 14,
   "metadata": {},
   "outputs": [],
   "source": [
    "# Select meaningful reviews by filtering reviews with more than 40 words in the review comment.\n",
    "df_review = df_review[df_review['review_body'].fillna(\"\").apply(lambda x: len(x.split())>=25)] "
   ]
  },
  {
   "cell_type": "code",
   "execution_count": 15,
   "metadata": {},
   "outputs": [
    {
     "data": {
      "text/html": [
       "<div>\n",
       "<style scoped>\n",
       "    .dataframe tbody tr th:only-of-type {\n",
       "        vertical-align: middle;\n",
       "    }\n",
       "\n",
       "    .dataframe tbody tr th {\n",
       "        vertical-align: top;\n",
       "    }\n",
       "\n",
       "    .dataframe thead th {\n",
       "        text-align: right;\n",
       "    }\n",
       "</style>\n",
       "<table border=\"1\" class=\"dataframe\">\n",
       "  <thead>\n",
       "    <tr style=\"text-align: right;\">\n",
       "      <th></th>\n",
       "      <th>product_id</th>\n",
       "      <th>product_parent</th>\n",
       "      <th>star_rating</th>\n",
       "      <th>review_body</th>\n",
       "    </tr>\n",
       "  </thead>\n",
       "  <tbody>\n",
       "    <tr>\n",
       "      <th>45</th>\n",
       "      <td>B003EM6AQE</td>\n",
       "      <td>921315865</td>\n",
       "      <td>5</td>\n",
       "      <td>I LOVE THESE HEADPHONES! I am totally satisfie...</td>\n",
       "    </tr>\n",
       "    <tr>\n",
       "      <th>288</th>\n",
       "      <td>B002MAPT7U</td>\n",
       "      <td>808084969</td>\n",
       "      <td>1</td>\n",
       "      <td>died on me only after a year of use, ridiculou...</td>\n",
       "    </tr>\n",
       "    <tr>\n",
       "      <th>332</th>\n",
       "      <td>B003EM8008</td>\n",
       "      <td>921315865</td>\n",
       "      <td>5</td>\n",
       "      <td>Probably the best earphones ever. Better than ...</td>\n",
       "    </tr>\n",
       "    <tr>\n",
       "      <th>368</th>\n",
       "      <td>B003EM6AOG</td>\n",
       "      <td>921315865</td>\n",
       "      <td>5</td>\n",
       "      <td>Great headphones, I mean they aren't going to ...</td>\n",
       "    </tr>\n",
       "    <tr>\n",
       "      <th>414</th>\n",
       "      <td>B008JR72SO</td>\n",
       "      <td>572574607</td>\n",
       "      <td>5</td>\n",
       "      <td>This is a wonderful cable, especially for the ...</td>\n",
       "    </tr>\n",
       "  </tbody>\n",
       "</table>\n",
       "</div>"
      ],
      "text/plain": [
       "     product_id product_parent star_rating  \\\n",
       "45   B003EM6AQE      921315865           5   \n",
       "288  B002MAPT7U      808084969           1   \n",
       "332  B003EM8008      921315865           5   \n",
       "368  B003EM6AOG      921315865           5   \n",
       "414  B008JR72SO      572574607           5   \n",
       "\n",
       "                                           review_body  \n",
       "45   I LOVE THESE HEADPHONES! I am totally satisfie...  \n",
       "288  died on me only after a year of use, ridiculou...  \n",
       "332  Probably the best earphones ever. Better than ...  \n",
       "368  Great headphones, I mean they aren't going to ...  \n",
       "414  This is a wonderful cable, especially for the ...  "
      ]
     },
     "execution_count": 15,
     "metadata": {},
     "output_type": "execute_result"
    }
   ],
   "source": [
    "# Review df \n",
    "df_review.head()"
   ]
  },
  {
   "cell_type": "code",
   "execution_count": 16,
   "metadata": {},
   "outputs": [
    {
     "data": {
      "image/png": "[encoded data removed]",
      "text/plain": [
       "<Figure size 1152x720 with 2 Axes>"
      ]
     },
     "metadata": {
      "needs_background": "light"
     },
     "output_type": "display_data"
    }
   ],
   "source": [
    "# Plot bar chart to understand product distribution\n",
    "fig = plt.figure(figsize=(16,10))\n",
    "ax1 = plt.subplot(211)\n",
    "ax2 = plt.subplot(212, sharex = ax1)\n",
    "df_review[\"product_id\"].value_counts().plot(kind=\"bar\", ax=ax1, title=\"Product Frequency\")\n",
    "np.log10(df_review[\"product_id\"].value_counts()).plot(kind=\"bar\", ax=ax2,\n",
    "                                               title=\"Product Frequency (Log10 Adjusted)\")\n",
    "plt.show()"
   ]
  },
  {
   "cell_type": "code",
   "execution_count": 17,
   "metadata": {},
   "outputs": [],
   "source": [
    "# We will be anlyzing product B0002L5R78"
   ]
  },
  {
   "cell_type": "code",
   "execution_count": 18,
   "metadata": {},
   "outputs": [],
   "source": [
    "#Lets get data specific to product ID=B0002L5R78   \n",
    "df_review = df[df['product_id']=='B0002L5R78']"
   ]
  },
  {
   "cell_type": "code",
   "execution_count": 19,
   "metadata": {},
   "outputs": [
    {
     "data": {
      "text/plain": [
       "(11170, 16)"
      ]
     },
     "execution_count": 19,
     "metadata": {},
     "output_type": "execute_result"
    }
   ],
   "source": [
    "# Check data dimension - this step is required to make sure we have enough data points to train and test model\n",
    "df_review.shape"
   ]
  },
  {
   "cell_type": "code",
   "execution_count": 20,
   "metadata": {},
   "outputs": [],
   "source": [
    "# Select meaningful reviews by filtering reviews with more than 40 words in the review comment.\n",
    "df_review = df_review[df_review['review_body'].fillna(\"\").apply(lambda x: len(x.split())>=25)] "
   ]
  },
  {
   "cell_type": "code",
   "execution_count": 21,
   "metadata": {},
   "outputs": [
    {
     "data": {
      "text/plain": [
       "(7001, 16)"
      ]
     },
     "execution_count": 21,
     "metadata": {},
     "output_type": "execute_result"
    }
   ],
   "source": [
    "# Check the data dimension\n",
    "df_review.shape"
   ]
  },
  {
   "cell_type": "code",
   "execution_count": 22,
   "metadata": {},
   "outputs": [],
   "source": [
    "# Lemmatization and Stop words\n",
    "nlp = en_core_web_sm.load()\n",
    "\n",
    "# Define default stopwords list\n",
    "stoplist = spacy.lang.en.STOP_WORDS \n",
    "\n",
    "# Functions to remove encodes\n",
    "def replace_ptbr_char_by_word(word):\n",
    "    #  \"\"\" Will remove the encode token by token\"\"\"\n",
    "    word = str(word)\n",
    "    word = unicodedata.normalize('NFKD', word).encode('ASCII','ignore').decode('ASCII')\n",
    "    return word\n",
    "\n",
    "def remove_pt_br_char_by_text(text):\n",
    "    #  \"\"\" Will remove the encode using the entire text\"\"\"\n",
    "    text = str(text)\n",
    "    text = \" \".join(replace_ptbr_char_by_word(word) for word in text.split() if word not in stoplist)\n",
    "    return text"
   ]
  },
  {
   "cell_type": "code",
   "execution_count": 23,
   "metadata": {},
   "outputs": [],
   "source": [
    "# Lemmatization and Stop words\n",
    "df_review['review_body'] = df_review['review_body'].apply(remove_pt_br_char_by_text)"
   ]
  },
  {
   "cell_type": "code",
   "execution_count": 24,
   "metadata": {},
   "outputs": [],
   "source": [
    "# Keep only required columns\n",
    "df_review=df_review[['review_body','star_rating']]"
   ]
  },
  {
   "cell_type": "code",
   "execution_count": 25,
   "metadata": {},
   "outputs": [
    {
     "name": "stdout",
     "output_type": "stream",
     "text": [
      "<class 'pandas.core.frame.DataFrame'>\n",
      "Int64Index: 7001 entries, 563 to 3136134\n",
      "Data columns (total 2 columns):\n",
      " #   Column       Non-Null Count  Dtype \n",
      "---  ------       --------------  ----- \n",
      " 0   review_body  7001 non-null   object\n",
      " 1   star_rating  7001 non-null   object\n",
      "dtypes: object(2)\n",
      "memory usage: 164.1+ KB\n"
     ]
    }
   ],
   "source": [
    "# Check data types\n",
    "df_review.info()"
   ]
  },
  {
   "cell_type": "code",
   "execution_count": 26,
   "metadata": {},
   "outputs": [],
   "source": [
    "# Convert review_body to text\n",
    "df_review['review_body'] = df_review['review_body'].astype(str)"
   ]
  },
  {
   "cell_type": "code",
   "execution_count": 27,
   "metadata": {},
   "outputs": [],
   "source": [
    "# Convert review_body to text\n",
    "df_review['star_rating'] = df_review['star_rating'].astype(int)"
   ]
  },
  {
   "cell_type": "code",
   "execution_count": 28,
   "metadata": {},
   "outputs": [],
   "source": [
    "# Change categories to buckets\n",
    "cat = ['low','neutral','high']\n",
    "def cat_y(y):\n",
    "    y=int(y)\n",
    "    if y<=2:\n",
    "        return cat[0]\n",
    "    elif y>=4:\n",
    "        return cat[2]\n",
    "    else:\n",
    "        return cat[1]\n"
   ]
  },
  {
   "cell_type": "code",
   "execution_count": 29,
   "metadata": {},
   "outputs": [],
   "source": [
    "# Populat new column\n",
    "df_review['bucket'] = df_review['star_rating'].fillna(0).apply(cat_y)"
   ]
  },
  {
   "cell_type": "code",
   "execution_count": 30,
   "metadata": {},
   "outputs": [
    {
     "data": {
      "text/html": [
       "<div>\n",
       "<style scoped>\n",
       "    .dataframe tbody tr th:only-of-type {\n",
       "        vertical-align: middle;\n",
       "    }\n",
       "\n",
       "    .dataframe tbody tr th {\n",
       "        vertical-align: top;\n",
       "    }\n",
       "\n",
       "    .dataframe thead th {\n",
       "        text-align: right;\n",
       "    }\n",
       "</style>\n",
       "<table border=\"1\" class=\"dataframe\">\n",
       "  <thead>\n",
       "    <tr style=\"text-align: right;\">\n",
       "      <th></th>\n",
       "      <th>review_body</th>\n",
       "      <th>star_rating</th>\n",
       "      <th>bucket</th>\n",
       "    </tr>\n",
       "  </thead>\n",
       "  <tbody>\n",
       "    <tr>\n",
       "      <th>563</th>\n",
       "      <td>I bought cord attach laptop TV works great tha...</td>\n",
       "      <td>4</td>\n",
       "      <td>high</td>\n",
       "    </tr>\n",
       "    <tr>\n",
       "      <th>19025</th>\n",
       "      <td>I bought cord attach laptop TV works great tha...</td>\n",
       "      <td>4</td>\n",
       "      <td>high</td>\n",
       "    </tr>\n",
       "    <tr>\n",
       "      <th>31055</th>\n",
       "      <td>I ex Best Buy/Circuit City employee, I got sec...</td>\n",
       "      <td>5</td>\n",
       "      <td>high</td>\n",
       "    </tr>\n",
       "    <tr>\n",
       "      <th>32889</th>\n",
       "      <td>Why buy Monster? Digital works doesn't. This c...</td>\n",
       "      <td>5</td>\n",
       "      <td>high</td>\n",
       "    </tr>\n",
       "    <tr>\n",
       "      <th>56736</th>\n",
       "      <td>I love cables expensive, work I second thought...</td>\n",
       "      <td>5</td>\n",
       "      <td>high</td>\n",
       "    </tr>\n",
       "  </tbody>\n",
       "</table>\n",
       "</div>"
      ],
      "text/plain": [
       "                                             review_body  star_rating bucket\n",
       "563    I bought cord attach laptop TV works great tha...            4   high\n",
       "19025  I bought cord attach laptop TV works great tha...            4   high\n",
       "31055  I ex Best Buy/Circuit City employee, I got sec...            5   high\n",
       "32889  Why buy Monster? Digital works doesn't. This c...            5   high\n",
       "56736  I love cables expensive, work I second thought...            5   high"
      ]
     },
     "execution_count": 30,
     "metadata": {},
     "output_type": "execute_result"
    }
   ],
   "source": [
    "# Display df sample\n",
    "df_review.head()"
   ]
  },
  {
   "cell_type": "code",
   "execution_count": 31,
   "metadata": {},
   "outputs": [],
   "source": [
    "# Keep only required columns\n",
    "df_review=df_review[['review_body','bucket']]"
   ]
  },
  {
   "cell_type": "code",
   "execution_count": 32,
   "metadata": {},
   "outputs": [
    {
     "data": {
      "text/html": [
       "<div>\n",
       "<style scoped>\n",
       "    .dataframe tbody tr th:only-of-type {\n",
       "        vertical-align: middle;\n",
       "    }\n",
       "\n",
       "    .dataframe tbody tr th {\n",
       "        vertical-align: top;\n",
       "    }\n",
       "\n",
       "    .dataframe thead th {\n",
       "        text-align: right;\n",
       "    }\n",
       "</style>\n",
       "<table border=\"1\" class=\"dataframe\">\n",
       "  <thead>\n",
       "    <tr style=\"text-align: right;\">\n",
       "      <th></th>\n",
       "      <th>review_body</th>\n",
       "      <th>bucket</th>\n",
       "    </tr>\n",
       "  </thead>\n",
       "  <tbody>\n",
       "    <tr>\n",
       "      <th>563</th>\n",
       "      <td>I bought cord attach laptop TV works great tha...</td>\n",
       "      <td>high</td>\n",
       "    </tr>\n",
       "    <tr>\n",
       "      <th>19025</th>\n",
       "      <td>I bought cord attach laptop TV works great tha...</td>\n",
       "      <td>high</td>\n",
       "    </tr>\n",
       "    <tr>\n",
       "      <th>31055</th>\n",
       "      <td>I ex Best Buy/Circuit City employee, I got sec...</td>\n",
       "      <td>high</td>\n",
       "    </tr>\n",
       "    <tr>\n",
       "      <th>32889</th>\n",
       "      <td>Why buy Monster? Digital works doesn't. This c...</td>\n",
       "      <td>high</td>\n",
       "    </tr>\n",
       "    <tr>\n",
       "      <th>56736</th>\n",
       "      <td>I love cables expensive, work I second thought...</td>\n",
       "      <td>high</td>\n",
       "    </tr>\n",
       "  </tbody>\n",
       "</table>\n",
       "</div>"
      ],
      "text/plain": [
       "                                             review_body bucket\n",
       "563    I bought cord attach laptop TV works great tha...   high\n",
       "19025  I bought cord attach laptop TV works great tha...   high\n",
       "31055  I ex Best Buy/Circuit City employee, I got sec...   high\n",
       "32889  Why buy Monster? Digital works doesn't. This c...   high\n",
       "56736  I love cables expensive, work I second thought...   high"
      ]
     },
     "execution_count": 32,
     "metadata": {},
     "output_type": "execute_result"
    }
   ],
   "source": [
    "# Display sample data\n",
    "df_review.head() "
   ]
  },
  {
   "cell_type": "markdown",
   "metadata": {},
   "source": [
    "### Calculate Term Frequencies\n",
    "- Calculate both the actual term frequency as well as the tfidf weighted term frequency. Let's limit words occuring in at most 90% of documents and in at least 10 documents. \n",
    "- The term-frequency matrix is just a word count, the IDF calculation adjusts for \"boring\" or \"irrelvant\" words that occur in many reviews.\n",
    "\n",
    "- Perform two tokenizing operations. First, tokenize only letters, ignoring special symbols & numbers. \n",
    "- Use the NLTK Snowball stemmer to try and get the root of a word as best as possible. Stop words are removed in the vectorization step."
   ]
  },
  {
   "cell_type": "code",
   "execution_count": 33,
   "metadata": {},
   "outputs": [],
   "source": [
    "# Calculate TD and IDF\n",
    "stemmer = SnowballStemmer(\"english\")\n",
    "tokenizer = RegexpTokenizer(\"[a-z']+\")\n",
    "\n",
    "def tokenize(text):\n",
    "    tokens = tokenizer.tokenize(text)\n",
    "    return [stemmer.stem(t) for t in tokens] \n",
    "\n",
    "def get_tf(data, use_idf, max_df=1.0, min_df=1, ngram_range=(1,1)):\n",
    "    if use_idf:\n",
    "        m = TfidfVectorizer(max_df=max_df, min_df=min_df, stop_words='english', ngram_range=ngram_range, tokenizer=tokenize)\n",
    "    else:\n",
    "        m = CountVectorizer(max_df=max_df, min_df=min_df, stop_words='english', ngram_range=ngram_range, tokenizer=tokenize)\n",
    "    \n",
    "    d = m.fit_transform(data)\n",
    "    return m, d\n",
    "\n",
    "tf_m, tf_d = get_tf(df_review['review_body'], use_idf=False, max_df=0.90, min_df=10)\n",
    "tfidf_m, tfidf_d = get_tf(df_review['review_body'], use_idf=True, max_df=0.90, min_df=10)"
   ]
  },
  {
   "cell_type": "markdown",
   "metadata": {},
   "source": [
    "### Compute topics using Kmeans and LDA\n",
    "\n",
    "- Kmeans approach: Using our TFIDF matrix, cluster documents into N clusters based on their TFIDF similarity. Within each cluster, count the top occuring terms.\n",
    "\n",
    "- LDA approach: Using TF matrix, attempt to extact N topics from the collection of documents.\n",
    "\n",
    "##### Note: Kmeans forces each review to belong to only one cluster while LDA allows a review to have many topics associated with it. "
   ]
  },
  {
   "cell_type": "code",
   "execution_count": 34,
   "metadata": {},
   "outputs": [],
   "source": [
    "# Let's choose 15 topics\n",
    "n_topics = 10\n",
    "\n",
    "# LDA Approach\n",
    "def get_lda(data, topics):\n",
    "    m = LatentDirichletAllocation(n_components=topics, n_jobs=-1, learning_method='online').fit(data)\n",
    "    d = m.transform(data)\n",
    "    return m, d\n",
    "\n",
    "# Kmeans Approach\n",
    "def get_kmeans(data, k, scale=True):\n",
    "    if scale:\n",
    "        s = MinMaxScaler()\n",
    "        data = s.fit_transform(data)\n",
    "    \n",
    "    m = KMeans(n_clusters=k).fit(data)\n",
    "    d = m.predict(data)\n",
    "    return m, d        \n",
    "\n",
    "lda_m, lda_d = get_lda(tf_d, n_topics)\n",
    "kmean_m, kmean_d = get_kmeans(tfidf_d, n_topics, scale=False)"
   ]
  },
  {
   "cell_type": "markdown",
   "metadata": {},
   "source": [
    "### Show cluster top 10 words per topic\n",
    "- First extract the top 10 stemmed words per topic in our LDA model. \n",
    "- Repeate process for kmeans clustered documents. \n",
    "\n",
    "##### Note: Here we just count the top 15 most frequent stemmed words per cluster. Both show similar sets of results."
   ]
  },
  {
   "cell_type": "code",
   "execution_count": 35,
   "metadata": {},
   "outputs": [],
   "source": [
    "# Show topics\n",
    "def show_topics(model, feature_names, n_words):\n",
    "    for topic_idx, topic in enumerate(model.components_):\n",
    "        print(\"Topic #%d:\" % topic_idx)\n",
    "        print(\", \".join([feature_names[i]\n",
    "                        for i in topic.argsort()[:-n_words - 1:-1]]))\n",
    "    print()\n",
    "    \n",
    "# Show Clusters    \n",
    "def show_cluster_topics(cluster_labels, tf_matrix, feature_names, n_words):\n",
    "    d = pd.DataFrame(tf_matrix.toarray())\n",
    "    d['c'] = cluster_labels\n",
    "    d = d.groupby('c').sum().T\n",
    "    \n",
    "    for col in d:\n",
    "        top_n = d[col].nlargest(n_words).index.tolist()\n",
    "        print(\"Cluster #%d:\" % col)\n",
    "        print(\", \".join([feature_names[i]\n",
    "                for i in top_n]))\n",
    "    print()"
   ]
  },
  {
   "cell_type": "code",
   "execution_count": 36,
   "metadata": {},
   "outputs": [
    {
     "name": "stdout",
     "output_type": "stream",
     "text": [
      "Top 10 stemmed words per topic in LDA model\n",
      "\n",
      "Topic #0:\n",
      "br, awesom, end, review, hard, wire, gold, type, hdmi, cabl\n",
      "Topic #1:\n",
      "bad, upconvert, mail, plastic, littl, sharp, piec, make, onli, end\n",
      "Topic #2:\n",
      "digit, signal, doesn't, cabl, includ, receiv, took, s, result, whi\n",
      "Topic #3:\n",
      "work, cord, buy, great, deal, bought, price, paid, got, buck\n",
      "Topic #4:\n",
      "product, price, great, ship, work, item, purchas, recommend, order, arriv\n",
      "Topic #5:\n",
      "cabl, hdmi, buy, work, price, qualiti, don't, store, expens, money\n",
      "Topic #6:\n",
      "cabl, tv, hdmi, work, connect, great, use, laptop, need, watch\n",
      "Topic #7:\n",
      "cabl, tv, work, player, hdmi, dvd, bought, pictur, ps, hook\n",
      "Topic #8:\n",
      "cabl, p, video, qualiti, audio, hdmi, problem, high, signal, cheap\n",
      "Topic #9:\n",
      "rip, skeptic, resolut, fact, 's, won't, befor, chanc, black, bit\n",
      "\n"
     ]
    }
   ],
   "source": [
    "# LDA topic \n",
    "print(\"Top 10 stemmed words per topic in LDA model\\n\")\n",
    "show_topics(lda_m, tf_m.get_feature_names(), 10)"
   ]
  },
  {
   "cell_type": "code",
   "execution_count": 37,
   "metadata": {},
   "outputs": [
    {
     "name": "stdout",
     "output_type": "stream",
     "text": [
      "Top 10 stemmed words per cluster in Kmeans model\n",
      "\n",
      "Cluster #0:\n",
      "cord, work, hdmi, great, buy, price, cheap, tv, need, time, bought, store, perfect, good, use, qualiti, got, product, look, pictur\n",
      "Cluster #1:\n",
      "player, dvd, cabl, ray, blu, work, tv, great, hdmi, connect, price, use, pictur, new, bought, purchas, hd, hook, qualiti, buy\n",
      "Cluster #2:\n",
      "br, cabl, hdmi, work, price, buy, qualiti, great, tv, bought, need, high, connect, cheap, product, time, good, use, look, like\n",
      "Cluster #3:\n",
      "buy, best, cabl, hdmi, work, great, price, bought, amazon, dollar, like, qualiti, need, cheap, don't, store, ship, save, deal, money\n",
      "Cluster #4:\n",
      "store, cabl, price, hdmi, work, retail, buy, great, cost, local, big, pay, box, electron, bought, purchas, amazon, good, perfect, need\n",
      "Cluster #5:\n",
      "tv, connect, cabl, laptop, work, use, great, hdmi, bought, watch, ps, hd, comput, perfect, good, pictur, new, price, qualiti, hook\n",
      "Cluster #6:\n",
      "cabl, work, price, great, hdmi, order, bought, ship, item, time, good, purchas, problem, got, qualiti, need, cheap, buy, perfect, fine\n",
      "Cluster #7:\n",
      "product, great, price, work, cabl, good, recommend, qualiti, hdmi, ship, time, purchas, buy, need, bought, cheap, seller, fast, order, look\n",
      "Cluster #8:\n",
      "money, cabl, don't, wast, work, hdmi, signal, digit, spend, buy, expens, great, save, price, qualiti, monster, good, need, lot, cheap\n",
      "Cluster #9:\n",
      "cabl, hdmi, qualiti, work, expens, good, differ, pictur, price, need, monster, great, bought, buy, cheap, better, look, pay, high, sound\n",
      "\n"
     ]
    }
   ],
   "source": [
    "# Kmean cluster of words\n",
    "print(\"Top 10 stemmed words per cluster in Kmeans model\\n\")\n",
    "show_cluster_topics(kmean_d, tfidf_d, tfidf_m.get_feature_names(),20)"
   ]
  },
  {
   "cell_type": "markdown",
   "metadata": {},
   "source": [
    "## Prepare data for plotting\n",
    "- TF/TFIDF matricies is a challenge to graphically represent documents as charts are limited to 3 dimensions. \n",
    "- Perform a heirarchical clustering, but the number of documents makes this approach very slow. \n",
    "- Let's perform a SVD/LSA to reduce the dimensionality of the matrix to something more manageable (eg. 30 dimensions)."
   ]
  },
  {
   "cell_type": "code",
   "execution_count": 38,
   "metadata": {},
   "outputs": [],
   "source": [
    "\n",
    "def get_svd(data, components):\n",
    "    svd = TruncatedSVD(n_components=components).fit(data)\n",
    "    o = pd.DataFrame(svd.transform(data), columns=range(0,components))\n",
    "    return svd,o\n",
    "\n",
    "def get_tsne(data, components, perplexity):\n",
    "    tsne = TSNE(n_components=components, perplexity=perplexity, n_iter=1000)\n",
    "    o = pd.DataFrame(tsne.fit_transform(data), columns=range(0,components))\n",
    "    return tsne,o\n",
    "\n",
    "svd_v, svd_m = get_svd(tfidf_d, 30)\n",
    "tnse_v, tsne_m = get_tsne(svd_m, 2, 25)\n",
    "\n",
    "lda_c = lda_d.argmax(axis=1)"
   ]
  },
  {
   "cell_type": "markdown",
   "metadata": {},
   "source": [
    "### Plot Data\n",
    "- Use LDA and Kmeans labels with reduced dimensions to plot our documents. \n",
    "- Create a rainbow color scheme which allows for a variable number of topics/clusters. \n",
    "- The plot tends to overlap quite a bit.  "
   ]
  },
  {
   "cell_type": "code",
   "execution_count": 45,
   "metadata": {},
   "outputs": [
    {
     "name": "stderr",
     "output_type": "stream",
     "text": [
      "'c' argument looks like a single numeric RGB or RGBA sequence, which should be avoided as value-mapping will have precedence in case its length matches with 'x' & 'y'.  Please use a 2-D array with a single row if you really want to specify the same RGB or RGBA value for all points.\n",
      "'c' argument looks like a single numeric RGB or RGBA sequence, which should be avoided as value-mapping will have precedence in case its length matches with 'x' & 'y'.  Please use a 2-D array with a single row if you really want to specify the same RGB or RGBA value for all points.\n",
      "'c' argument looks like a single numeric RGB or RGBA sequence, which should be avoided as value-mapping will have precedence in case its length matches with 'x' & 'y'.  Please use a 2-D array with a single row if you really want to specify the same RGB or RGBA value for all points.\n",
      "'c' argument looks like a single numeric RGB or RGBA sequence, which should be avoided as value-mapping will have precedence in case its length matches with 'x' & 'y'.  Please use a 2-D array with a single row if you really want to specify the same RGB or RGBA value for all points.\n",
      "'c' argument looks like a single numeric RGB or RGBA sequence, which should be avoided as value-mapping will have precedence in case its length matches with 'x' & 'y'.  Please use a 2-D array with a single row if you really want to specify the same RGB or RGBA value for all points.\n",
      "'c' argument looks like a single numeric RGB or RGBA sequence, which should be avoided as value-mapping will have precedence in case its length matches with 'x' & 'y'.  Please use a 2-D array with a single row if you really want to specify the same RGB or RGBA value for all points.\n",
      "'c' argument looks like a single numeric RGB or RGBA sequence, which should be avoided as value-mapping will have precedence in case its length matches with 'x' & 'y'.  Please use a 2-D array with a single row if you really want to specify the same RGB or RGBA value for all points.\n",
      "'c' argument looks like a single numeric RGB or RGBA sequence, which should be avoided as value-mapping will have precedence in case its length matches with 'x' & 'y'.  Please use a 2-D array with a single row if you really want to specify the same RGB or RGBA value for all points.\n",
      "'c' argument looks like a single numeric RGB or RGBA sequence, which should be avoided as value-mapping will have precedence in case its length matches with 'x' & 'y'.  Please use a 2-D array with a single row if you really want to specify the same RGB or RGBA value for all points.\n",
      "'c' argument looks like a single numeric RGB or RGBA sequence, which should be avoided as value-mapping will have precedence in case its length matches with 'x' & 'y'.  Please use a 2-D array with a single row if you really want to specify the same RGB or RGBA value for all points.\n"
     ]
    },
    {
     "data": {
      "image/png": "[encoded data removed]",
      "text/plain": [
       "<Figure size 432x288 with 1 Axes>"
      ]
     },
     "metadata": {
      "needs_background": "light"
     },
     "output_type": "display_data"
    }
   ],
   "source": [
    "# Cluster topc plot\n",
    "def plot_scatter_2d(x, y, c, sample_size, title):\n",
    "    df = pd.DataFrame({'x': x, 'y': y, 'c': c}).sample(sample_size)\n",
    "    l = len(np.unique(c))\n",
    "    \n",
    "    ax = plt.subplot(111)\n",
    "    colors = cm.rainbow(np.linspace(0, 1, l))\n",
    "                                   \n",
    "    for c in range(0,l):\n",
    "        qq = df[df['c']==c]\n",
    "        ax.scatter(qq['x'], qq['y'],c=colors[c], label=c)\n",
    "    plt.legend(loc='upper left', numpoints=1, ncol=3, fontsize=8, bbox_to_anchor=(0, 0), title='Topic/Cluster')\n",
    "    ax.set_yticklabels([])\n",
    "    ax.set_xticklabels([])\n",
    "    ax.set_title(title)\n",
    "    plt.show()\n",
    "\n",
    "# Plot\n",
    "plot_scatter_2d(tsne_m[0], tsne_m[1], kmean_d, 1000, 'KMeans Clustering of Amazon Reviews using TFIDF (t-SNE Plot)')"
   ]
  },
  {
   "cell_type": "code",
   "execution_count": 46,
   "metadata": {},
   "outputs": [
    {
     "name": "stderr",
     "output_type": "stream",
     "text": [
      "'c' argument looks like a single numeric RGB or RGBA sequence, which should be avoided as value-mapping will have precedence in case its length matches with 'x' & 'y'.  Please use a 2-D array with a single row if you really want to specify the same RGB or RGBA value for all points.\n",
      "'c' argument looks like a single numeric RGB or RGBA sequence, which should be avoided as value-mapping will have precedence in case its length matches with 'x' & 'y'.  Please use a 2-D array with a single row if you really want to specify the same RGB or RGBA value for all points.\n",
      "'c' argument looks like a single numeric RGB or RGBA sequence, which should be avoided as value-mapping will have precedence in case its length matches with 'x' & 'y'.  Please use a 2-D array with a single row if you really want to specify the same RGB or RGBA value for all points.\n",
      "'c' argument looks like a single numeric RGB or RGBA sequence, which should be avoided as value-mapping will have precedence in case its length matches with 'x' & 'y'.  Please use a 2-D array with a single row if you really want to specify the same RGB or RGBA value for all points.\n",
      "'c' argument looks like a single numeric RGB or RGBA sequence, which should be avoided as value-mapping will have precedence in case its length matches with 'x' & 'y'.  Please use a 2-D array with a single row if you really want to specify the same RGB or RGBA value for all points.\n",
      "'c' argument looks like a single numeric RGB or RGBA sequence, which should be avoided as value-mapping will have precedence in case its length matches with 'x' & 'y'.  Please use a 2-D array with a single row if you really want to specify the same RGB or RGBA value for all points.\n",
      "'c' argument looks like a single numeric RGB or RGBA sequence, which should be avoided as value-mapping will have precedence in case its length matches with 'x' & 'y'.  Please use a 2-D array with a single row if you really want to specify the same RGB or RGBA value for all points.\n",
      "'c' argument looks like a single numeric RGB or RGBA sequence, which should be avoided as value-mapping will have precedence in case its length matches with 'x' & 'y'.  Please use a 2-D array with a single row if you really want to specify the same RGB or RGBA value for all points.\n",
      "'c' argument looks like a single numeric RGB or RGBA sequence, which should be avoided as value-mapping will have precedence in case its length matches with 'x' & 'y'.  Please use a 2-D array with a single row if you really want to specify the same RGB or RGBA value for all points.\n",
      "'c' argument looks like a single numeric RGB or RGBA sequence, which should be avoided as value-mapping will have precedence in case its length matches with 'x' & 'y'.  Please use a 2-D array with a single row if you really want to specify the same RGB or RGBA value for all points.\n"
     ]
    },
    {
     "data": {
      "image/png": "[encoded data removed]",
      "text/plain": [
       "<Figure size 432x288 with 1 Axes>"
      ]
     },
     "metadata": {
      "needs_background": "light"
     },
     "output_type": "display_data"
    }
   ],
   "source": [
    "# LDA topics plot\n",
    "plot_scatter_2d(tsne_m[0], tsne_m[1], lda_c, 1000, 'LDA Topics of Amazon Reviews using TF (t-SNE Plot)')"
   ]
  },
  {
   "cell_type": "markdown",
   "metadata": {},
   "source": [
    "### Prepare data for prediction\n",
    "- Scatter plots helps to understand how the data is structured, but it doesn't tell what drives positive or negative reviews. - - Lets use words within reviews to build a predictive scoring model.\n",
    "- When training models, split the data 70%/30% where 30% will be used for prediction to gauge final accuracy of the model.\n",
    "- For each review, the model that scores the highest will tell us which kind of review it likely is."
   ]
  },
  {
   "cell_type": "code",
   "execution_count": 47,
   "metadata": {},
   "outputs": [],
   "source": [
    "# Split data\n",
    "X_train, X_test, y_train, y_test = train_test_split(tfidf_d, df_review['bucket'], test_size=0.3)"
   ]
  },
  {
   "cell_type": "markdown",
   "metadata": {},
   "source": [
    "### Calculate model accuracies\n",
    "- Three different approaches to build the review predictions: Logistic Regression, Naive Bayes, and Support Vector Machines. \n",
    "- Final approach that does a combined \"vote\" of all three models. \n",
    "- Since we have limited data, lets use cross-validation to split the data 10 ways and measure accuracy in an unbiased way."
   ]
  },
  {
   "cell_type": "code",
   "execution_count": 48,
   "metadata": {},
   "outputs": [
    {
     "name": "stdout",
     "output_type": "stream",
     "text": [
      "Model accuracy predictions\n",
      "\n",
      "LR model (low rating): 89.1%\n",
      "LR model (neutral rating): 95.4%\n",
      "LR model (high rating): 86.3%\n",
      "\n",
      "SVM model (low rating): 93.1%\n",
      "SVM model (neutral rating): 95.3%\n",
      "SVM model (high rating): 90.1%\n",
      "\n",
      "NB model (low rating): 88.9%\n",
      "NB model (neutral rating): 95.4%\n",
      "NB model (high rating): 85.2%\n",
      "\n",
      "COMBINED model (low rating): 89.2%\n",
      "COMBINED model (neutral rating): 95.4%\n",
      "COMBINED model (high rating): 86.7%\n",
      "\n"
     ]
    }
   ],
   "source": [
    "# Calculate cross validation score\n",
    "\n",
    "def calculate_cv(X, y):\n",
    "    results = {\n",
    "        'lr': [],\n",
    "        'svm': [],\n",
    "        'nb': [],\n",
    "        'combined': []\n",
    "    }\n",
    "    lm = LogisticRegression()\n",
    "    svm = LinearSVC()\n",
    "    nb = MultinomialNB()\n",
    "    vc = VotingClassifier([('lm', lm), ('svm', svm), ('nb', nb)])\n",
    "    \n",
    "    for c in cat:\n",
    "        y_adj = np.array(y==c)\n",
    "        results['lr'].append((cross_val_score(lm, X, y_adj, cv=10, scoring='accuracy').mean(), c))\n",
    "        results['svm'].append((cross_val_score(svm, X, y_adj, cv=10, scoring='accuracy').mean(), c))\n",
    "        results['nb'].append((cross_val_score(nb, X, y_adj, cv=10, scoring='accuracy').mean(), c))\n",
    "        results['combined'].append((cross_val_score(vc, X, y_adj, cv=10, scoring='accuracy').mean(), c))\n",
    "    return results\n",
    "\n",
    "# Call function\n",
    "cv_scores = calculate_cv(X_test, y_test)\n",
    "\n",
    "# print model accuracy predictions\n",
    "\n",
    "print(\"Model accuracy predictions\\n\")\n",
    "for m,s in cv_scores.items():\n",
    "    for ss in s:\n",
    "        print(\"{M} model ({R} rating): {S:.1%}\".format(M=m.upper(), R=ss[1], S=ss[0]))\n",
    "    print()"
   ]
  },
  {
   "cell_type": "markdown",
   "metadata": {},
   "source": [
    "### Training the model of choice\n",
    "- SVM have given better performance for. There is definitely room for improvement.  \n",
    "\n",
    "- There are lots of ways to tweak the prior steps to get a better result.\n",
    "\n",
    "    - Tweak any parameters in either the TF step or the modeling step\n",
    "    - Neg/Pos keywords might vary by topic so we might do this for one cluster at a time\n",
    "    - Nouns don't provide much insight and we are better off removing them\n",
    "    - \"good\" and \"not good\" have opposite meanings so maybe we should have included 2-grams"
   ]
  },
  {
   "cell_type": "code",
   "execution_count": 49,
   "metadata": {},
   "outputs": [],
   "source": [
    "# Build linear regression model and fit \n",
    "def get_lr(x, y):\n",
    "    models = []\n",
    "    for c in cat:\n",
    "        y_adj = np.array(y==c)\n",
    "        lm = LogisticRegression()\n",
    "        lm_f = lm.fit(x, y_adj)\n",
    "        models.append(lm_f)\n",
    "    return models\n",
    "\n",
    "lr_m = get_lr(X_train, y_train)"
   ]
  },
  {
   "cell_type": "markdown",
   "metadata": {},
   "source": [
    "### Plot the results\n",
    "- Charts show the result of Logistic Regression model. \n",
    "- Top 10 words negatively associated (red) with that review model, and the top 10 words positively associated (green) with that review model. \n",
    "- The values indiciate how much more likely or unlikely a review is to be low, neutral, high given the # of times that word occurs in the review."
   ]
  },
  {
   "cell_type": "code",
   "execution_count": 50,
   "metadata": {},
   "outputs": [
    {
     "data": {
      "image/png": "[encoded data removed]",
      "text/plain": [
       "<Figure size 432x288 with 1 Axes>"
      ]
     },
     "metadata": {
      "needs_background": "light"
     },
     "output_type": "display_data"
    },
    {
     "data": {
      "image/png": "[encoded data removed]",
      "text/plain": [
       "<Figure size 432x288 with 1 Axes>"
      ]
     },
     "metadata": {
      "needs_background": "light"
     },
     "output_type": "display_data"
    },
    {
     "data": {
      "image/png": "[encoded data removed]",
      "text/plain": [
       "<Figure size 432x288 with 1 Axes>"
      ]
     },
     "metadata": {
      "needs_background": "light"
     },
     "output_type": "display_data"
    }
   ],
   "source": [
    "# Plot coefficient \n",
    "\n",
    "def plot_coef(title, model, feature_names, n_words):\n",
    "    v = []\n",
    "    for topic_idx, topic in enumerate(model.coef_):\n",
    "        [v.append([feature_names[i], model.coef_.item(i)]) for i in topic.argsort()[:-n_words - 1:-1]]\n",
    "        [v.append([feature_names[i], model.coef_.item(i)]) for i in topic.argsort()[0:n_words]]\n",
    "    \n",
    "    df = pd.DataFrame(v, columns=['Term','Coefficient']).sort_values(by='Coefficient',ascending=False)\n",
    "    \n",
    "    df['c'] = df['Coefficient']>0\n",
    "    \n",
    "    ax = df.plot(x='Term', y='Coefficient', kind='barh', color=df['c'].map({True: 'g', False: 'r'}), grid=True, legend=False,\n",
    "           title=title)\n",
    "    \n",
    "    ax.set_xlabel(\"Coefficient\")\n",
    "\n",
    "n_terms = 10\n",
    "for c in range(0,len(cat)):\n",
    "    plot_coef('Top {N} words in ({R}) review model\\nGreen = Associated | Red = Not Associated'.format(N=n_terms*2, \n",
    "               R=cat[c]), lr_m[c], tfidf_m.get_feature_names(), n_terms)"
   ]
  },
  {
   "cell_type": "markdown",
   "metadata": {},
   "source": [
    "### Test output\n",
    "- Below is a test function which allows to supply review to see how well the model will predict it's rating. \n",
    "- For simplicity, logistic regression model is used and only allow for one review at a time.\n",
    "- The program uses the stored TFIDF matrix to tokenize and transform our new review which is then fed to all three of logistic regression models. \n",
    "- Each model has an independent assessment of how likely it is that our review is a positive hit.  "
   ]
  },
  {
   "cell_type": "code",
   "execution_count": 51,
   "metadata": {},
   "outputs": [],
   "source": [
    "# Function to test review\n",
    "def test_review(text,model):\n",
    "    test_str = [text]\n",
    "    test_new = tfidf_m.transform(test_str)\n",
    "\n",
    "    print('Review text: \"{R}\"\\n'.format(R=test_str[0]))\n",
    "    print('Model Predction')\n",
    "    for m in range(0,3):\n",
    "        print('Model ({M}): {P:.1%}'.format(M=cat[m], P=model[m].predict_proba(test_new)[0][1]))       "
   ]
  },
  {
   "cell_type": "code",
   "execution_count": 52,
   "metadata": {},
   "outputs": [
    {
     "name": "stdout",
     "output_type": "stream",
     "text": [
      "Review text: \"Too short and could not connect to TV. It had a bad signal. Disappointed with the purchase. Returned to get the refund\"\n",
      "\n",
      "Model Predction\n",
      "Model (low): 87.4%\n",
      "Model (neutral): 11.6%\n",
      "Model (high): 7.2%\n"
     ]
    }
   ],
   "source": [
    "# Bad review\n",
    "test_review('Too short and could not connect to TV. It had a bad signal. Disappointed with the purchase. Returned to get the refund',lr_m)"
   ]
  },
  {
   "cell_type": "code",
   "execution_count": 53,
   "metadata": {},
   "outputs": [
    {
     "name": "stdout",
     "output_type": "stream",
     "text": [
      "Review text: \"This is the best cable I received so far. It worked well. I am glad I bought it.\"\n",
      "\n",
      "Model Predction\n",
      "Model (low): 3.0%\n",
      "Model (neutral): 8.8%\n",
      "Model (high): 90.4%\n"
     ]
    }
   ],
   "source": [
    "# Good Review\n",
    "test_review('This is the best cable I received so far. It worked well. I am glad I bought it.',lr_m)"
   ]
  },
  {
   "cell_type": "markdown",
   "metadata": {},
   "source": [
    "### Save Model"
   ]
  },
  {
   "cell_type": "code",
   "execution_count": null,
   "metadata": {},
   "outputs": [],
   "source": [
    "# Need to save 3 models"
   ]
  }
 ],
 "metadata": {
  "kernelspec": {
   "display_name": "Python 3",
   "language": "python",
   "name": "python3"
  },
  "language_info": {
   "codemirror_mode": {
    "name": "ipython",
    "version": 3
   },
   "file_extension": ".py",
   "mimetype": "text/x-python",
   "name": "python",
   "nbconvert_exporter": "python",
   "pygments_lexer": "ipython3",
   "version": "3.7.6"
  }
 },
 "nbformat": 4,
 "nbformat_minor": 2
}
