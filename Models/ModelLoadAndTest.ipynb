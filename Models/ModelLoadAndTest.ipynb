{
 "cells": [
  {
   "cell_type": "markdown",
   "metadata": {},
   "source": [
    "### Model Testing - LM "
   ]
  },
  {
   "cell_type": "code",
   "execution_count": 1,
   "metadata": {},
   "outputs": [],
   "source": [
    "# Import Libraries\n",
    "import pickle\n",
    "from nltk.stem.snowball import SnowballStemmer\n",
    "from nltk.tokenize import RegexpTokenizer\n",
    "import warnings\n",
    "warnings.filterwarnings('ignore')"
   ]
  },
  {
   "cell_type": "code",
   "execution_count": 2,
   "metadata": {},
   "outputs": [],
   "source": [
    "# Model File Path\n",
    "model_file_name = os.path.join(\"..\",\"Resources\",\"model\",'final_model.pickle')\n",
    "tfidf_model_file_name = os.path.join(\"..\",\"Resources\",\"model\",'tfidf_model.pickle')"
   ]
  },
  {
   "cell_type": "code",
   "execution_count": 3,
   "metadata": {},
   "outputs": [],
   "source": [
    "stemmer = SnowballStemmer(\"english\")\n",
    "tokenizer = RegexpTokenizer(\"[a-z']+\")\n",
    "\n",
    "def tokenize(text):\n",
    "    tokens = tokenizer.tokenize(text)\n",
    "    return [stemmer.stem(t) for t in tokens] "
   ]
  },
  {
   "cell_type": "code",
   "execution_count": 4,
   "metadata": {},
   "outputs": [],
   "source": [
    "# Prediction using the saved model\n",
    "loaded_model = pickle.load(open(model_file_name, 'rb'))\n",
    "tfidf_model = pickle.load(open(tfidf_model_file_name, \"rb\"))"
   ]
  },
  {
   "cell_type": "code",
   "execution_count": 5,
   "metadata": {},
   "outputs": [],
   "source": [
    "x=\"President Trump kept his word on trade policies. He is great for the businesses\""
   ]
  },
  {
   "cell_type": "code",
   "execution_count": 6,
   "metadata": {},
   "outputs": [],
   "source": [
    "test_new=tfidf_model.transform([x])"
   ]
  },
  {
   "cell_type": "code",
   "execution_count": 7,
   "metadata": {},
   "outputs": [
    {
     "name": "stdout",
     "output_type": "stream",
     "text": [
      "Model Predction:\n",
      "Model (Positive): 0.92%\n",
      "Model (Negative): 0.02%\n",
      "Model (Neutral): 0.10%\n"
     ]
    }
   ],
   "source": [
    "print('Model Predction:')\n",
    "print(\"Model (Positive): {:.2f}%\".format(loaded_model[0].predict_proba(test_new)[0][1]))   \n",
    "print(\"Model (Negative): {:.2f}%\".format(loaded_model[1].predict_proba(test_new)[0][1]))  \n",
    "print(\"Model (Neutral): {:.2f}%\".format(loaded_model[2].predict_proba(test_new)[0][1]))  "
   ]
  },
  {
   "cell_type": "code",
   "execution_count": 8,
   "metadata": {},
   "outputs": [],
   "source": [
    "y='President Trump killed too many people because his COVID19 policies. He should have shut country in early stage.'"
   ]
  },
  {
   "cell_type": "code",
   "execution_count": 9,
   "metadata": {},
   "outputs": [],
   "source": [
    "test_y=tfidf_model.transform([y])"
   ]
  },
  {
   "cell_type": "code",
   "execution_count": 11,
   "metadata": {},
   "outputs": [
    {
     "name": "stdout",
     "output_type": "stream",
     "text": [
      "Model Predction:\n",
      "Model (Positive): 0.03%\n",
      "Model (Negative): 0.92%\n",
      "Model (Neutral): 0.06%\n"
     ]
    }
   ],
   "source": [
    "print('Model Predction:')\n",
    "print(\"Model (Positive): {:.2f}%\".format(loaded_model[0].predict_proba(test_y)[0][1]))   \n",
    "print(\"Model (Negative): {:.2f}%\".format(loaded_model[1].predict_proba(test_y)[0][1]))  \n",
    "print(\"Model (Neutral): {:.2f}%\".format(loaded_model[2].predict_proba(test_y)[0][1]))  "
   ]
  },
  {
   "cell_type": "code",
   "execution_count": null,
   "metadata": {},
   "outputs": [],
   "source": []
  }
 ],
 "metadata": {
  "kernelspec": {
   "display_name": "Python 3",
   "language": "python",
   "name": "python3"
  },
  "language_info": {
   "codemirror_mode": {
    "name": "ipython",
    "version": 3
   },
   "file_extension": ".py",
   "mimetype": "text/x-python",
   "name": "python",
   "nbconvert_exporter": "python",
   "pygments_lexer": "ipython3",
   "version": "3.7.6"
  }
 },
 "nbformat": 4,
 "nbformat_minor": 4
}
