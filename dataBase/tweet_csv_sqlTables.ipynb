{
 "cells": [
  {
   "cell_type": "code",
   "execution_count": 42,
   "metadata": {},
   "outputs": [],
   "source": [
    "# Import libraries\n",
    "import sqlalchemy\n",
    "import pandas as pd\n",
    "from  psycopg2 import connect\n",
    "import os\n",
    "from config import *\n",
    "from sqlalchemy import Column, ForeignKey,Table, Integer, String, Float, Boolean, MetaData, create_engine"
   ]
  },
  {
   "cell_type": "code",
   "execution_count": 43,
   "metadata": {},
   "outputs": [],
   "source": [
    "# Input file paths\n",
    "cleaned_tweet_file=os.path.join(\"\",\"..\",\"Resources\",\"outputData\",\"tweetCleandata.csv\")"
   ]
  },
  {
   "cell_type": "code",
   "execution_count": 44,
   "metadata": {},
   "outputs": [
    {
     "data": {
      "text/html": [
       "<div>\n",
       "<style scoped>\n",
       "    .dataframe tbody tr th:only-of-type {\n",
       "        vertical-align: middle;\n",
       "    }\n",
       "\n",
       "    .dataframe tbody tr th {\n",
       "        vertical-align: top;\n",
       "    }\n",
       "\n",
       "    .dataframe thead th {\n",
       "        text-align: right;\n",
       "    }\n",
       "</style>\n",
       "<table border=\"1\" class=\"dataframe\">\n",
       "  <thead>\n",
       "    <tr style=\"text-align: right;\">\n",
       "      <th></th>\n",
       "      <th>Date</th>\n",
       "      <th>TweetID</th>\n",
       "      <th>Tweet</th>\n",
       "      <th>Matched Keywords</th>\n",
       "      <th>User</th>\n",
       "      <th>Source</th>\n",
       "      <th>Followers</th>\n",
       "      <th>Friends</th>\n",
       "      <th>Favorite</th>\n",
       "      <th>OrgTweet</th>\n",
       "      <th>Sentiment</th>\n",
       "    </tr>\n",
       "  </thead>\n",
       "  <tbody>\n",
       "    <tr>\n",
       "      <th>0</th>\n",
       "      <td>8/10/2020</td>\n",
       "      <td>1292795662485130000</td>\n",
       "      <td>even right certain kind liberal deeply wants g...</td>\n",
       "      <td>Trump</td>\n",
       "      <td>MenshevikM</td>\n",
       "      <td>Twitter Web App</td>\n",
       "      <td>5882.0</td>\n",
       "      <td>320.0</td>\n",
       "      <td>0.0</td>\n",
       "      <td>They're even right that there's a certain kind...</td>\n",
       "      <td>Positive</td>\n",
       "    </tr>\n",
       "    <tr>\n",
       "      <th>1</th>\n",
       "      <td>8/10/2020</td>\n",
       "      <td>1292795661809850000</td>\n",
       "      <td>press people encouraged voters vote trump like...</td>\n",
       "      <td>Trump</td>\n",
       "      <td>balling_it</td>\n",
       "      <td>Twitter Web App</td>\n",
       "      <td>33.0</td>\n",
       "      <td>156.0</td>\n",
       "      <td>0.0</td>\n",
       "      <td>@jonathanchait Naw, that is the press, people ...</td>\n",
       "      <td>Positive</td>\n",
       "    </tr>\n",
       "    <tr>\n",
       "      <th>2</th>\n",
       "      <td>8/10/2020</td>\n",
       "      <td>1292795659704240000</td>\n",
       "      <td>trump signs executive order throw rotted scrap...</td>\n",
       "      <td>Trump</td>\n",
       "      <td>laurie71</td>\n",
       "      <td>Twitter for iPhone</td>\n",
       "      <td>85.0</td>\n",
       "      <td>141.0</td>\n",
       "      <td>0.0</td>\n",
       "      <td>@sarahcpr Trump signs an executive order to th...</td>\n",
       "      <td>Negative</td>\n",
       "    </tr>\n",
       "    <tr>\n",
       "      <th>3</th>\n",
       "      <td>8/10/2020</td>\n",
       "      <td>1292795658747940000</td>\n",
       "      <td>sorry want real team truthful team justice tea...</td>\n",
       "      <td>Biden</td>\n",
       "      <td>bluewave4peace</td>\n",
       "      <td>Twitter for iPhone</td>\n",
       "      <td>528.0</td>\n",
       "      <td>745.0</td>\n",
       "      <td>0.0</td>\n",
       "      <td>@glennkirschner2 Sorry I want to be on a real ...</td>\n",
       "      <td>Positive</td>\n",
       "    </tr>\n",
       "    <tr>\n",
       "      <th>4</th>\n",
       "      <td>8/10/2020</td>\n",
       "      <td>1292795658550810000</td>\n",
       "      <td>yeah sase cowers yelps befor jumping embarrass...</td>\n",
       "      <td>Trump</td>\n",
       "      <td>OGOPer</td>\n",
       "      <td>Twitter for iPhone</td>\n",
       "      <td>2839.0</td>\n",
       "      <td>2655.0</td>\n",
       "      <td>0.0</td>\n",
       "      <td>Yeah. Until Ben Sasse cowers and yelps befor j...</td>\n",
       "      <td>Negative</td>\n",
       "    </tr>\n",
       "  </tbody>\n",
       "</table>\n",
       "</div>"
      ],
      "text/plain": [
       "        Date              TweetID  \\\n",
       "0  8/10/2020  1292795662485130000   \n",
       "1  8/10/2020  1292795661809850000   \n",
       "2  8/10/2020  1292795659704240000   \n",
       "3  8/10/2020  1292795658747940000   \n",
       "4  8/10/2020  1292795658550810000   \n",
       "\n",
       "                                               Tweet Matched Keywords  \\\n",
       "0  even right certain kind liberal deeply wants g...            Trump   \n",
       "1  press people encouraged voters vote trump like...            Trump   \n",
       "2  trump signs executive order throw rotted scrap...            Trump   \n",
       "3  sorry want real team truthful team justice tea...            Biden   \n",
       "4  yeah sase cowers yelps befor jumping embarrass...            Trump   \n",
       "\n",
       "             User              Source  Followers  Friends  Favorite  \\\n",
       "0      MenshevikM     Twitter Web App     5882.0    320.0       0.0   \n",
       "1      balling_it     Twitter Web App       33.0    156.0       0.0   \n",
       "2        laurie71  Twitter for iPhone       85.0    141.0       0.0   \n",
       "3  bluewave4peace  Twitter for iPhone      528.0    745.0       0.0   \n",
       "4          OGOPer  Twitter for iPhone     2839.0   2655.0       0.0   \n",
       "\n",
       "                                            OrgTweet Sentiment  \n",
       "0  They're even right that there's a certain kind...  Positive  \n",
       "1  @jonathanchait Naw, that is the press, people ...  Positive  \n",
       "2  @sarahcpr Trump signs an executive order to th...  Negative  \n",
       "3  @glennkirschner2 Sorry I want to be on a real ...  Positive  \n",
       "4  Yeah. Until Ben Sasse cowers and yelps befor j...  Negative  "
      ]
     },
     "execution_count": 44,
     "metadata": {},
     "output_type": "execute_result"
    }
   ],
   "source": [
    "# Load tweet csv file\n",
    "tweet_clean_df= pd.read_csv(cleaned_tweet_file)\n",
    "tweet_clean_df.head()"
   ]
  },
  {
   "cell_type": "code",
   "execution_count": 45,
   "metadata": {},
   "outputs": [],
   "source": [
    "# Create table specific data frames"
   ]
  },
  {
   "cell_type": "code",
   "execution_count": 46,
   "metadata": {},
   "outputs": [],
   "source": [
    "tweet_user_df= tweet_clean_df[['Date','Matched Keywords','User','Followers','Friends','Favorite']]"
   ]
  },
  {
   "cell_type": "code",
   "execution_count": 47,
   "metadata": {},
   "outputs": [],
   "source": [
    "tweet_source_df = tweet_clean_df[['Date','Matched Keywords','Source']]"
   ]
  },
  {
   "cell_type": "code",
   "execution_count": 48,
   "metadata": {},
   "outputs": [],
   "source": [
    "tweet_df = tweet_clean_df[['Date','Matched Keywords','OrgTweet','Sentiment']]"
   ]
  },
  {
   "cell_type": "code",
   "execution_count": 49,
   "metadata": {},
   "outputs": [],
   "source": [
    "tweet_clean_df = tweet_clean_df[['Date','Matched Keywords','Tweet','Sentiment']]"
   ]
  },
  {
   "cell_type": "code",
   "execution_count": null,
   "metadata": {},
   "outputs": [],
   "source": []
  },
  {
   "cell_type": "code",
   "execution_count": 50,
   "metadata": {},
   "outputs": [],
   "source": [
    "# Database connection\n",
    "engine = create_engine(f'postgresql://{username}:{password}@{host}:{port}/{dbName}')"
   ]
  },
  {
   "cell_type": "code",
   "execution_count": 51,
   "metadata": {},
   "outputs": [],
   "source": [
    "# Create MetaData\n",
    "meta = MetaData(engine)"
   ]
  },
  {
   "cell_type": "code",
   "execution_count": 52,
   "metadata": {},
   "outputs": [],
   "source": [
    "# 1. Twitter User Table\n",
    "twitter_user = Table('tweetUser', meta,\n",
    "    Column('id', Integer, primary_key = True), \n",
    "    Column('Date', String),\n",
    "    Column('Matched Keywords', String),\n",
    "    Column('User', String),\n",
    "    Column('Followers', Integer),\n",
    "    Column('Friends', Integer),\n",
    "    Column('Favorite', Integer))\n",
    "\n",
    "meta.create_all(engine)\n",
    "\n",
    "tweet_user_df.to_sql(name='tweetUser', con=engine, if_exists='append', index=False)"
   ]
  },
  {
   "cell_type": "code",
   "execution_count": 59,
   "metadata": {},
   "outputs": [],
   "source": [
    "# 2. Twitte Source Table\n",
    "twitter_source = Table('twitterSource', meta, \n",
    "    Column('id', Integer, primary_key = True), \n",
    "    Column('Date', String),\n",
    "    Column('Matched Keywords', String),\n",
    "    Column('Source', String),\n",
    "    extend_existing=True)\n",
    "\n",
    "meta.create_all(engine)\n",
    "\n",
    "tweet_source_df.to_sql(name='twitterSource',  con=engine, if_exists='append', index=False)"
   ]
  },
  {
   "cell_type": "code",
   "execution_count": 54,
   "metadata": {},
   "outputs": [],
   "source": [
    "# 3. Twitte Data Table\n",
    "twitter_data = Table('tweetsData', meta,\n",
    "    Column('id', Integer, primary_key = True), \n",
    "    Column('Date', String),\n",
    "    Column('Matched Keywords', String),\n",
    "    Column('OrgTweet', String),\n",
    "    Column('Sentiment', String),\n",
    "    extend_existing=True)\n",
    "\n",
    "meta.create_all(engine)\n",
    "\n",
    "tweet_df.to_sql(name='tweetsData', con=engine, if_exists='append', index=False)"
   ]
  },
  {
   "cell_type": "code",
   "execution_count": 55,
   "metadata": {},
   "outputs": [],
   "source": [
    "# 4. Twitter Clean Data Table\n",
    "twitter_clean_data = Table('tweetsCleanData', meta, \n",
    "    Column('id', Integer, primary_key = True), \n",
    "    Column('Date', String),\n",
    "    Column('Matched Keywords', String),\n",
    "    Column('Tweet', String),\n",
    "    Column('Sentiment', String))\n",
    "\n",
    "meta.create_all(engine)\n",
    "\n",
    "tweet_clean_df.to_sql(name='tweetsCleanData', con=engine, if_exists='append', index=False)"
   ]
  },
  {
   "cell_type": "code",
   "execution_count": 60,
   "metadata": {},
   "outputs": [
    {
     "data": {
      "text/plain": [
       "['tweetUser', 'tweetsData', 'tweetsCleanData', 'twitterSource']"
      ]
     },
     "execution_count": 60,
     "metadata": {},
     "output_type": "execute_result"
    }
   ],
   "source": [
    "engine.table_names()"
   ]
  },
  {
   "cell_type": "code",
   "execution_count": null,
   "metadata": {},
   "outputs": [],
   "source": []
  }
 ],
 "metadata": {
  "kernelspec": {
   "display_name": "Python 3",
   "language": "python",
   "name": "python3"
  },
  "language_info": {
   "codemirror_mode": {
    "name": "ipython",
    "version": 3
   },
   "file_extension": ".py",
   "mimetype": "text/x-python",
   "name": "python",
   "nbconvert_exporter": "python",
   "pygments_lexer": "ipython3",
   "version": "3.7.6"
  }
 },
 "nbformat": 4,
 "nbformat_minor": 4
}
