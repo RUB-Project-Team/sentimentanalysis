{
 "cells": [
  {
   "cell_type": "code",
   "execution_count": 2,
   "metadata": {},
   "outputs": [],
   "source": [
    "#!pip install simplejson"
   ]
  },
  {
   "cell_type": "code",
   "execution_count": 3,
   "metadata": {},
   "outputs": [],
   "source": [
    "# Import dependencis\n",
    "import os, tweepy\n",
    "from requests.exceptions import Timeout, ConnectionError\n",
    "from requests.packages.urllib3.exceptions import ReadTimeoutError\n",
    "import csv,ssl,time\n",
    "import warnings\n",
    "warnings.filterwarnings('ignore') # Hides warning\n",
    "warnings.filterwarnings(\"ignore\", category=DeprecationWarning)\n",
    "warnings.filterwarnings(\"ignore\",category=UserWarning)"
   ]
  },
  {
   "cell_type": "code",
   "execution_count": 4,
   "metadata": {},
   "outputs": [],
   "source": [
    "# API credentials - need to move them to config file \n",
    "consumerKey =\"8QzKAL9poBEwy0vgD2RMXKTDv\"\n",
    "consumerSecretKey = \"rJHM1691uU6zk9ulFehVQznpEgmpZUfd3HVE7VMMlTR2KAJjA3\"\n",
    "accessToken = \"1247938131841683456-oSN2nufp1b0tUZkYqe3kUs6j3VhisL\"\n",
    "accessToeknSecret= \"9a7EbDW1jww5KQiR6PxEsaf0aaySh9ZE37lgpuPgbpTZY\""
   ]
  },
  {
   "cell_type": "code",
   "execution_count": 5,
   "metadata": {},
   "outputs": [],
   "source": [
    "# File paths\n",
    "tweet_data_file = os.path.join(\"\",\"Resources\",\"data\",\"tweetStreamSearch.csv\")"
   ]
  },
  {
   "cell_type": "code",
   "execution_count": 6,
   "metadata": {},
   "outputs": [],
   "source": [
    "# Authenticate twitter account\n",
    "auth = tweepy.OAuthHandler(consumer_key= consumerKey,consumer_secret= consumerSecretKey)"
   ]
  },
  {
   "cell_type": "code",
   "execution_count": 7,
   "metadata": {},
   "outputs": [],
   "source": [
    "# Set access token\n",
    "auth.set_access_token(accessToken,accessToeknSecret)"
   ]
  },
  {
   "cell_type": "code",
   "execution_count": 8,
   "metadata": {},
   "outputs": [],
   "source": [
    "# Create API instance with authentication\n",
    "api= tweepy.API(auth,wait_on_rate_limit=True)"
   ]
  },
  {
   "cell_type": "code",
   "execution_count": 9,
   "metadata": {},
   "outputs": [],
   "source": [
    "# Set keywords, hashtag or mentions tag and # of searches - keep in mind the daily limitation\n",
    "keywords = '#Trump OR Trump OR Biden OR #Biden'\n",
    "key_words =['Trump','#Trump','Biden','#Biden']"
   ]
  },
  {
   "cell_type": "code",
   "execution_count": 10,
   "metadata": {},
   "outputs": [],
   "source": [
    "# Function for handling pagination in our search\n",
    "def limit_handled(cursor):\n",
    "    while True:\n",
    "        try:\n",
    "            yield cursor.next()\n",
    "        except tweepy.RateLimitError:\n",
    "            print('Reached rate limite. Sleeping for >15 minutes')\n",
    "            time.sleep(15 * 61)"
   ]
  },
  {
   "cell_type": "code",
   "execution_count": 17,
   "metadata": {},
   "outputs": [],
   "source": [
    "class StreamListener(tweepy.StreamListener):\n",
    "\n",
    "    def on_status(self, status):\n",
    "\n",
    "        try:\n",
    "            # saves the tweet object\n",
    "            tweet_object = status\n",
    "\n",
    "            # Checks if its a extended tweet (>140 characters)\n",
    "            if 'extended_tweet' in tweet_object._json:\n",
    "                tweet = tweet_object.extended_tweet['full_text']\n",
    "            else:\n",
    "                tweet = tweet_object.text\n",
    "\n",
    "            # Convert all named and numeric character references (e.g. &gt;, &#62;, &#x3e;) in the string \n",
    "            # to the corresponding Unicode characters'''\n",
    "            tweet = (tweet.replace('&amp;', '&').replace('&lt;', '<')\n",
    "                     .replace('&gt;', '>').replace('&quot;', '\"')\n",
    "                     .replace('&#39;', \"'\").replace(';', \" \")\n",
    "                     .replace(r'\\u', \" \"))\n",
    "\n",
    "            # Remove special characters, numbers, punctuations\n",
    "            tweet=tweet.replace(\"[^a-zA-Z#]\", \" \")\n",
    "            \n",
    "            # Save the keyword that matches the stream\n",
    "            keyword_matches = []\n",
    "            for word in key_words:\n",
    "                if word.lower() in tweet.lower():\n",
    "                    keyword_matches.extend([word])\n",
    "\n",
    "            keywords_strings = \", \".join(str(x) for x in keyword_matches)\n",
    "            \n",
    "            if len(keywords_stringsstrip())>0:\n",
    "                # Save other information from the tweet\n",
    "                user = status.author.screen_name\n",
    "                timeTweet = status.created_at\n",
    "                source = status.source\n",
    "                tweetId = status.id\n",
    "                tweetUrl = \"https://twitter.com/statuses/\" + str(tweetId)\n",
    "                followers= status.author.followers_count #Indicates user follower\n",
    "                friends= status.author.friends_count #Friend Count\n",
    "                favorite= status.favorite_count #Indicates approx how many times this Tweet has been liked by Twitter users\n",
    "\n",
    "                # Exclude retweets, too many mentions and too many hashtags\n",
    "                if not any((('RT @' in tweet, 'RT' in tweet,\n",
    "                           tweet.count('@') >= 2, tweet.count('#') >= 3))):\n",
    "\n",
    "                    # Saves the tweet information in a new row of the CSV file\n",
    "                    writer.writerow([tweet,keywords_strings,timeTweet,user, source, \n",
    "                                     tweetId, tweetUrl,followers,friends,favorite])\n",
    "\n",
    "        except StopIteration:\n",
    "            time.sleep(1001)\n",
    "            pass\n",
    "        \n",
    "        except Exception as e:\n",
    "            print('Encountered Exception:', e)\n",
    "            time.sleep(1001)\n",
    "            pass\n",
    "\n"
   ]
  },
  {
   "cell_type": "code",
   "execution_count": 18,
   "metadata": {},
   "outputs": [],
   "source": [
    "# Function to save tweets in to csv\n",
    "def saveTweets():\n",
    "\n",
    "    # Opening a CSV file to save the gathered tweets\n",
    "    with open(tweet_data_file, 'w',encoding='utf-8', newline='') as file:\n",
    "        global writer\n",
    "        writer = csv.writer(file)\n",
    "\n",
    "        # Add a header row to the CSV\n",
    "        writer.writerow([\"Tweet\", \"Matched Keywords\", \"Date\",\"User\",\"Source\", \n",
    "                         \"Tweet ID\", \"Tweet URL\",\"Followers\",\"Friends\",\"Favorite\"])\n",
    "\n",
    "\n",
    "        # Initializing the twitter streap Stream\n",
    "        try:\n",
    "            streamingAPI = tweepy.streaming.Stream(auth, StreamListener())\n",
    "            streamingAPI.filter(track=keywords)\n",
    "\n",
    "        # Stop temporarily when hitting Twitter rate Limit\n",
    "        except tweepy.RateLimitError:\n",
    "            print(\"RateLimitError...waiting ~15 minutes to continue\")\n",
    "            time.sleep(1001)\n",
    "            streamingAPI = tweepy.streaming.Stream(auth, StreamListener())\n",
    "            streamingAPI.filter(track=[keywords])\n",
    "\n",
    "        # Stop temporarily when getting a timeout or connection error\n",
    "        except (Timeout, ssl.SSLError, ReadTimeoutError,\n",
    "                ConnectionError) as exc:\n",
    "            print(\"Timeout/connection error...waiting ~15 minutes to continue\")\n",
    "            time.sleep(1001)\n",
    "            streamingAPI = tweepy.streaming.Stream(auth, StreamListener())\n",
    "            streamingAPI.filter(track=[keywords])\n",
    "\n",
    "        # Stop temporarily when getting other errors\n",
    "        except tweepy.TweepError as e:\n",
    "            if 'Failed to send request:' in e.reason:\n",
    "                print(\"Time out error caught.\")\n",
    "                time.sleep(1001)\n",
    "                streamingAPI = tweepy.streaming.Stream(auth, StreamListener())\n",
    "                streamingAPI.filter(track=[keywords])\n",
    "            else:\n",
    "                print(\"Other error with this user...passing\")\n",
    "                time.sleep(1001)\n",
    "                streamingAPI = tweepy.streaming.Stream(auth, StreamListener())\n",
    "                streamingAPI.filter(track=[keywords])\n"
   ]
  },
  {
   "cell_type": "code",
   "execution_count": 20,
   "metadata": {},
   "outputs": [],
   "source": [
    "#Get and Save Data\n",
    "saveTweets()"
   ]
  },
  {
   "cell_type": "code",
   "execution_count": null,
   "metadata": {},
   "outputs": [],
   "source": []
  }
 ],
 "metadata": {
  "kernelspec": {
   "display_name": "Python 3",
   "language": "python",
   "name": "python3"
  },
  "language_info": {
   "codemirror_mode": {
    "name": "ipython",
    "version": 3
   },
   "file_extension": ".py",
   "mimetype": "text/x-python",
   "name": "python",
   "nbconvert_exporter": "python",
   "pygments_lexer": "ipython3",
   "version": "3.7.6"
  }
 },
 "nbformat": 4,
 "nbformat_minor": 4
}
