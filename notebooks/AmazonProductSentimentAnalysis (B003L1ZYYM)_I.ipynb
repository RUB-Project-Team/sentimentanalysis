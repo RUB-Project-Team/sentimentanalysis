{
 "cells": [
  {
   "cell_type": "markdown",
   "metadata": {},
   "source": [
    "# Amazon Basics High-Speed HDMI Cable - 6.5 Feet "
   ]
  },
  {
   "cell_type": "code",
   "execution_count": 1,
   "metadata": {},
   "outputs": [],
   "source": [
    "#!pip install spacy==2.2"
   ]
  },
  {
   "cell_type": "code",
   "execution_count": 2,
   "metadata": {},
   "outputs": [],
   "source": [
    "# Load dependencies\n",
    "import pandas as pd\n",
    "import numpy as np\n",
    "\n",
    "import matplotlib.pyplot as plt\n",
    "import matplotlib.cm as cm\n",
    "import matplotlib\n",
    "\n",
    "from sklearn.feature_extraction.text import TfidfVectorizer, CountVectorizer\n",
    "from sklearn.decomposition import LatentDirichletAllocation,TruncatedSVD\n",
    "from sklearn.cluster import KMeans\n",
    "from sklearn.preprocessing import MinMaxScaler\n",
    "from sklearn.manifold import TSNE\n",
    "\n",
    "from sklearn.linear_model import LogisticRegression\n",
    "from sklearn.naive_bayes import MultinomialNB\n",
    "from sklearn.svm import LinearSVC\n",
    "from sklearn.model_selection import train_test_split\n",
    "from sklearn.model_selection import cross_val_score\n",
    "from sklearn.ensemble import VotingClassifier\n",
    "\n",
    "from nltk.stem.snowball import SnowballStemmer\n",
    "from nltk.tokenize import RegexpTokenizer\n",
    "\n",
    "import spacy\n",
    "import en_core_web_sm\n",
    "import sys\n",
    "import unicodedata\n",
    "import os\n",
    "\n",
    "import warnings\n",
    "warnings.filterwarnings('ignore') # Hides warning\n",
    "warnings.filterwarnings(\"ignore\", category=DeprecationWarning)\n",
    "warnings.filterwarnings(\"ignore\",category=UserWarning)\n",
    "np.random.seed(7) # seeding random number generator"
   ]
  },
  {
   "cell_type": "code",
   "execution_count": 3,
   "metadata": {},
   "outputs": [],
   "source": [
    "# File paths\n",
    "raw_data_file = os.path.join(\"\",\"Resources\",\"data\",\"amazon_reviews.tsv\")\n",
    "cleaned_data_file = os.path.join(\"\",\"Resources\",\"data\",\"amazon_reviews.csv\")"
   ]
  },
  {
   "cell_type": "code",
   "execution_count": 4,
   "metadata": {},
   "outputs": [],
   "source": [
    "# Load Amzon review raw file \n",
    "dfs = pd.read_csv(raw_data_file, sep='\\t', chunksize=50,error_bad_lines=False,warn_bad_lines=False)\n",
    "# build the clean file\n",
    "for df in dfs:\n",
    "    df.to_csv(cleaned_data_file, sep=',', mode='a')"
   ]
  },
  {
   "cell_type": "code",
   "execution_count": 5,
   "metadata": {},
   "outputs": [],
   "source": [
    "# Load error free Amazon review file\n",
    "df = pd.read_csv(cleaned_data_file)"
   ]
  },
  {
   "cell_type": "code",
   "execution_count": 6,
   "metadata": {},
   "outputs": [],
   "source": [
    "# Remove duplicate header entries\n",
    "df = df[df['review_id']!='review_id']"
   ]
  },
  {
   "cell_type": "code",
   "execution_count": 7,
   "metadata": {},
   "outputs": [
    {
     "data": {
      "text/html": [
       "<div>\n",
       "<style scoped>\n",
       "    .dataframe tbody tr th:only-of-type {\n",
       "        vertical-align: middle;\n",
       "    }\n",
       "\n",
       "    .dataframe tbody tr th {\n",
       "        vertical-align: top;\n",
       "    }\n",
       "\n",
       "    .dataframe thead th {\n",
       "        text-align: right;\n",
       "    }\n",
       "</style>\n",
       "<table border=\"1\" class=\"dataframe\">\n",
       "  <thead>\n",
       "    <tr style=\"text-align: right;\">\n",
       "      <th></th>\n",
       "      <th>Unnamed: 0</th>\n",
       "      <th>marketplace</th>\n",
       "      <th>customer_id</th>\n",
       "      <th>review_id</th>\n",
       "      <th>product_id</th>\n",
       "      <th>product_parent</th>\n",
       "      <th>product_title</th>\n",
       "      <th>product_category</th>\n",
       "      <th>star_rating</th>\n",
       "      <th>helpful_votes</th>\n",
       "      <th>total_votes</th>\n",
       "      <th>vine</th>\n",
       "      <th>verified_purchase</th>\n",
       "      <th>review_headline</th>\n",
       "      <th>review_body</th>\n",
       "      <th>review_date</th>\n",
       "    </tr>\n",
       "  </thead>\n",
       "  <tbody>\n",
       "    <tr>\n",
       "      <th>0</th>\n",
       "      <td>0.0</td>\n",
       "      <td>US</td>\n",
       "      <td>41409413</td>\n",
       "      <td>R2MTG1GCZLR2DK</td>\n",
       "      <td>B00428R89M</td>\n",
       "      <td>112201306</td>\n",
       "      <td>yoomall 5M Antenna WIFI RP-SMA Female to Male ...</td>\n",
       "      <td>Electronics</td>\n",
       "      <td>5</td>\n",
       "      <td>0</td>\n",
       "      <td>0</td>\n",
       "      <td>N</td>\n",
       "      <td>Y</td>\n",
       "      <td>Five Stars</td>\n",
       "      <td>As described.</td>\n",
       "      <td>2015-08-31</td>\n",
       "    </tr>\n",
       "    <tr>\n",
       "      <th>1</th>\n",
       "      <td>1.0</td>\n",
       "      <td>US</td>\n",
       "      <td>49668221</td>\n",
       "      <td>R2HBOEM8LE9928</td>\n",
       "      <td>B000068O48</td>\n",
       "      <td>734576678</td>\n",
       "      <td>Hosa GPM-103 3.5mm TRS to 1/4\" TRS Adaptor</td>\n",
       "      <td>Electronics</td>\n",
       "      <td>5</td>\n",
       "      <td>0</td>\n",
       "      <td>0</td>\n",
       "      <td>N</td>\n",
       "      <td>Y</td>\n",
       "      <td>It works as advertising.</td>\n",
       "      <td>It works as advertising.</td>\n",
       "      <td>2015-08-31</td>\n",
       "    </tr>\n",
       "    <tr>\n",
       "      <th>2</th>\n",
       "      <td>2.0</td>\n",
       "      <td>US</td>\n",
       "      <td>12338275</td>\n",
       "      <td>R1P4RW1R9FDPEE</td>\n",
       "      <td>B000GGKOG8</td>\n",
       "      <td>614448099</td>\n",
       "      <td>Channel Master Titan 2 Antenna Preamplifier</td>\n",
       "      <td>Electronics</td>\n",
       "      <td>5</td>\n",
       "      <td>1</td>\n",
       "      <td>1</td>\n",
       "      <td>N</td>\n",
       "      <td>Y</td>\n",
       "      <td>Five Stars</td>\n",
       "      <td>Works pissa</td>\n",
       "      <td>2015-08-31</td>\n",
       "    </tr>\n",
       "    <tr>\n",
       "      <th>3</th>\n",
       "      <td>3.0</td>\n",
       "      <td>US</td>\n",
       "      <td>38487968</td>\n",
       "      <td>R1EBPM82ENI67M</td>\n",
       "      <td>B000NU4OTA</td>\n",
       "      <td>72265257</td>\n",
       "      <td>LIMTECH Wall charger + USB Hotsync &amp; Charging ...</td>\n",
       "      <td>Electronics</td>\n",
       "      <td>1</td>\n",
       "      <td>0</td>\n",
       "      <td>0</td>\n",
       "      <td>N</td>\n",
       "      <td>Y</td>\n",
       "      <td>One Star</td>\n",
       "      <td>Did not work at all.</td>\n",
       "      <td>2015-08-31</td>\n",
       "    </tr>\n",
       "    <tr>\n",
       "      <th>4</th>\n",
       "      <td>4.0</td>\n",
       "      <td>US</td>\n",
       "      <td>23732619</td>\n",
       "      <td>R372S58V6D11AT</td>\n",
       "      <td>B00JOQIO6S</td>\n",
       "      <td>308169188</td>\n",
       "      <td>Skullcandy Air Raid Portable Bluetooth Speaker</td>\n",
       "      <td>Electronics</td>\n",
       "      <td>5</td>\n",
       "      <td>1</td>\n",
       "      <td>1</td>\n",
       "      <td>N</td>\n",
       "      <td>Y</td>\n",
       "      <td>Overall pleased with the item</td>\n",
       "      <td>Works well. Bass is somewhat lacking but is pr...</td>\n",
       "      <td>2015-08-31</td>\n",
       "    </tr>\n",
       "  </tbody>\n",
       "</table>\n",
       "</div>"
      ],
      "text/plain": [
       "   Unnamed: 0 marketplace customer_id       review_id  product_id  \\\n",
       "0         0.0          US    41409413  R2MTG1GCZLR2DK  B00428R89M   \n",
       "1         1.0          US    49668221  R2HBOEM8LE9928  B000068O48   \n",
       "2         2.0          US    12338275  R1P4RW1R9FDPEE  B000GGKOG8   \n",
       "3         3.0          US    38487968  R1EBPM82ENI67M  B000NU4OTA   \n",
       "4         4.0          US    23732619  R372S58V6D11AT  B00JOQIO6S   \n",
       "\n",
       "  product_parent                                      product_title  \\\n",
       "0      112201306  yoomall 5M Antenna WIFI RP-SMA Female to Male ...   \n",
       "1      734576678         Hosa GPM-103 3.5mm TRS to 1/4\" TRS Adaptor   \n",
       "2      614448099        Channel Master Titan 2 Antenna Preamplifier   \n",
       "3       72265257  LIMTECH Wall charger + USB Hotsync & Charging ...   \n",
       "4      308169188     Skullcandy Air Raid Portable Bluetooth Speaker   \n",
       "\n",
       "  product_category star_rating helpful_votes total_votes vine  \\\n",
       "0      Electronics           5             0           0    N   \n",
       "1      Electronics           5             0           0    N   \n",
       "2      Electronics           5             1           1    N   \n",
       "3      Electronics           1             0           0    N   \n",
       "4      Electronics           5             1           1    N   \n",
       "\n",
       "  verified_purchase                review_headline  \\\n",
       "0                 Y                     Five Stars   \n",
       "1                 Y       It works as advertising.   \n",
       "2                 Y                     Five Stars   \n",
       "3                 Y                       One Star   \n",
       "4                 Y  Overall pleased with the item   \n",
       "\n",
       "                                         review_body review_date  \n",
       "0                                      As described.  2015-08-31  \n",
       "1                           It works as advertising.  2015-08-31  \n",
       "2                                        Works pissa  2015-08-31  \n",
       "3                               Did not work at all.  2015-08-31  \n",
       "4  Works well. Bass is somewhat lacking but is pr...  2015-08-31  "
      ]
     },
     "execution_count": 7,
     "metadata": {},
     "output_type": "execute_result"
    }
   ],
   "source": [
    "# Display sample results\n",
    "df.head()"
   ]
  },
  {
   "cell_type": "code",
   "execution_count": 8,
   "metadata": {},
   "outputs": [
    {
     "data": {
      "text/plain": [
       "B003L1ZYYM    15334\n",
       "B0002L5R78    11166\n",
       "B003EM8008     9766\n",
       "B0012S4APK     9359\n",
       "B0001FTVEK     8793\n",
       "              ...  \n",
       "B00ERVWVNM        1\n",
       "B002AEVPWG        1\n",
       "B0055MQUZW        1\n",
       "B00RRGGX2Y        1\n",
       "B0015CRF2I        1\n",
       "Name: product_id, Length: 185775, dtype: int64"
      ]
     },
     "execution_count": 8,
     "metadata": {},
     "output_type": "execute_result"
    }
   ],
   "source": [
    "# Get product review count\n",
    "df['product_id'].value_counts()"
   ]
  },
  {
   "cell_type": "code",
   "execution_count": 9,
   "metadata": {},
   "outputs": [],
   "source": [
    "# We will be anlyzing product B003L1ZYYM"
   ]
  },
  {
   "cell_type": "code",
   "execution_count": 10,
   "metadata": {},
   "outputs": [],
   "source": [
    "#Lets get data specific to product ID=B003L1ZYYM   \n",
    "df_review = df[df['product_id']=='B003L1ZYYM']"
   ]
  },
  {
   "cell_type": "code",
   "execution_count": 11,
   "metadata": {},
   "outputs": [
    {
     "data": {
      "text/plain": [
       "(15334, 16)"
      ]
     },
     "execution_count": 11,
     "metadata": {},
     "output_type": "execute_result"
    }
   ],
   "source": [
    "# Check data dimension - this step is required to make sure we have enough data points to train and test model\n",
    "df_review.shape"
   ]
  },
  {
   "cell_type": "code",
   "execution_count": 12,
   "metadata": {},
   "outputs": [],
   "source": [
    "# Select meaningful reviews by filtering reviews with more than 40 words in the review comment.\n",
    "df_review = df_review[df_review['review_body'].fillna(\"\").apply(lambda x: len(x.split())>=25)] "
   ]
  },
  {
   "cell_type": "code",
   "execution_count": 13,
   "metadata": {},
   "outputs": [
    {
     "data": {
      "text/plain": [
       "(5296, 16)"
      ]
     },
     "execution_count": 13,
     "metadata": {},
     "output_type": "execute_result"
    }
   ],
   "source": [
    "# Check the data dimension\n",
    "df_review.shape"
   ]
  },
  {
   "cell_type": "code",
   "execution_count": 14,
   "metadata": {},
   "outputs": [],
   "source": [
    "# Lemmatization and Stop words\n",
    "nlp = en_core_web_sm.load()\n",
    "\n",
    "# Define default stopwords list\n",
    "stoplist = spacy.lang.en.STOP_WORDS \n",
    "\n",
    "# Functions to remove encodes\n",
    "def replace_ptbr_char_by_word(word):\n",
    "    #  \"\"\" Will remove the encode token by token\"\"\"\n",
    "    word = str(word)\n",
    "    word = unicodedata.normalize('NFKD', word).encode('ASCII','ignore').decode('ASCII')\n",
    "    return word\n",
    "\n",
    "def remove_pt_br_char_by_text(text):\n",
    "    #  \"\"\" Will remove the encode using the entire text\"\"\"\n",
    "    text = str(text)\n",
    "    text = \" \".join(replace_ptbr_char_by_word(word) for word in text.split() if word not in stoplist)\n",
    "    return text"
   ]
  },
  {
   "cell_type": "code",
   "execution_count": 15,
   "metadata": {},
   "outputs": [],
   "source": [
    "# Lemmatization and Stop words\n",
    "df_review['review_body'] = df_review['review_body'].apply(remove_pt_br_char_by_text)"
   ]
  },
  {
   "cell_type": "code",
   "execution_count": 16,
   "metadata": {},
   "outputs": [],
   "source": [
    "# Keep only required columns\n",
    "df_review=df_review[['review_body','star_rating']]"
   ]
  },
  {
   "cell_type": "code",
   "execution_count": 17,
   "metadata": {},
   "outputs": [
    {
     "name": "stdout",
     "output_type": "stream",
     "text": [
      "<class 'pandas.core.frame.DataFrame'>\n",
      "Int64Index: 5296 entries, 1982 to 2734959\n",
      "Data columns (total 2 columns):\n",
      " #   Column       Non-Null Count  Dtype \n",
      "---  ------       --------------  ----- \n",
      " 0   review_body  5296 non-null   object\n",
      " 1   star_rating  5296 non-null   object\n",
      "dtypes: object(2)\n",
      "memory usage: 124.1+ KB\n"
     ]
    }
   ],
   "source": [
    "# Check data types\n",
    "df_review.info()"
   ]
  },
  {
   "cell_type": "code",
   "execution_count": 18,
   "metadata": {},
   "outputs": [],
   "source": [
    "# Convert review_body to text\n",
    "df_review['review_body'] = df_review['review_body'].astype(str)"
   ]
  },
  {
   "cell_type": "code",
   "execution_count": 19,
   "metadata": {},
   "outputs": [],
   "source": [
    "# Convert star_rating to text\n",
    "df_review['star_rating'] = df_review['star_rating'].astype(int)"
   ]
  },
  {
   "cell_type": "code",
   "execution_count": 20,
   "metadata": {},
   "outputs": [],
   "source": [
    "# Change categories to buckets\n",
    "cat = ['low','neutral','high']\n",
    "def cat_y(y):\n",
    "    y=int(y)\n",
    "    if y<=2:\n",
    "        return cat[0]\n",
    "    elif y>=4:\n",
    "        return cat[2]\n",
    "    else:\n",
    "        return cat[1]\n"
   ]
  },
  {
   "cell_type": "code",
   "execution_count": 21,
   "metadata": {},
   "outputs": [],
   "source": [
    "# Populat new column\n",
    "df_review['bucket'] = df_review['star_rating'].fillna(0).apply(cat_y)"
   ]
  },
  {
   "cell_type": "code",
   "execution_count": 22,
   "metadata": {},
   "outputs": [
    {
     "data": {
      "text/html": [
       "<div>\n",
       "<style scoped>\n",
       "    .dataframe tbody tr th:only-of-type {\n",
       "        vertical-align: middle;\n",
       "    }\n",
       "\n",
       "    .dataframe tbody tr th {\n",
       "        vertical-align: top;\n",
       "    }\n",
       "\n",
       "    .dataframe thead th {\n",
       "        text-align: right;\n",
       "    }\n",
       "</style>\n",
       "<table border=\"1\" class=\"dataframe\">\n",
       "  <thead>\n",
       "    <tr style=\"text-align: right;\">\n",
       "      <th></th>\n",
       "      <th>review_body</th>\n",
       "      <th>star_rating</th>\n",
       "      <th>bucket</th>\n",
       "    </tr>\n",
       "  </thead>\n",
       "  <tbody>\n",
       "    <tr>\n",
       "      <th>1982</th>\n",
       "      <td>Bought replacement HDMI cable. The Local elect...</td>\n",
       "      <td>5</td>\n",
       "      <td>high</td>\n",
       "    </tr>\n",
       "    <tr>\n",
       "      <th>2033</th>\n",
       "      <td>Just good HDMI cable there! It's basic HDMI ca...</td>\n",
       "      <td>5</td>\n",
       "      <td>high</td>\n",
       "    </tr>\n",
       "    <tr>\n",
       "      <th>2239</th>\n",
       "      <td>Great Cables, Anything 25 feet works fine tran...</td>\n",
       "      <td>5</td>\n",
       "      <td>high</td>\n",
       "    </tr>\n",
       "    <tr>\n",
       "      <th>3013</th>\n",
       "      <td>It works great fast! good price too! looking c...</td>\n",
       "      <td>5</td>\n",
       "      <td>high</td>\n",
       "    </tr>\n",
       "    <tr>\n",
       "      <th>3247</th>\n",
       "      <td>cheaper work apple tv, tivo roku connected sam...</td>\n",
       "      <td>5</td>\n",
       "      <td>high</td>\n",
       "    </tr>\n",
       "  </tbody>\n",
       "</table>\n",
       "</div>"
      ],
      "text/plain": [
       "                                            review_body  star_rating bucket\n",
       "1982  Bought replacement HDMI cable. The Local elect...            5   high\n",
       "2033  Just good HDMI cable there! It's basic HDMI ca...            5   high\n",
       "2239  Great Cables, Anything 25 feet works fine tran...            5   high\n",
       "3013  It works great fast! good price too! looking c...            5   high\n",
       "3247  cheaper work apple tv, tivo roku connected sam...            5   high"
      ]
     },
     "execution_count": 22,
     "metadata": {},
     "output_type": "execute_result"
    }
   ],
   "source": [
    "# Display df sample\n",
    "df_review.head()"
   ]
  },
  {
   "cell_type": "code",
   "execution_count": 23,
   "metadata": {},
   "outputs": [],
   "source": [
    "# Keep only required columns\n",
    "df_review=df_review[['review_body','bucket']]"
   ]
  },
  {
   "cell_type": "code",
   "execution_count": 24,
   "metadata": {},
   "outputs": [
    {
     "data": {
      "text/html": [
       "<div>\n",
       "<style scoped>\n",
       "    .dataframe tbody tr th:only-of-type {\n",
       "        vertical-align: middle;\n",
       "    }\n",
       "\n",
       "    .dataframe tbody tr th {\n",
       "        vertical-align: top;\n",
       "    }\n",
       "\n",
       "    .dataframe thead th {\n",
       "        text-align: right;\n",
       "    }\n",
       "</style>\n",
       "<table border=\"1\" class=\"dataframe\">\n",
       "  <thead>\n",
       "    <tr style=\"text-align: right;\">\n",
       "      <th></th>\n",
       "      <th>review_body</th>\n",
       "      <th>bucket</th>\n",
       "    </tr>\n",
       "  </thead>\n",
       "  <tbody>\n",
       "    <tr>\n",
       "      <th>1982</th>\n",
       "      <td>Bought replacement HDMI cable. The Local elect...</td>\n",
       "      <td>high</td>\n",
       "    </tr>\n",
       "    <tr>\n",
       "      <th>2033</th>\n",
       "      <td>Just good HDMI cable there! It's basic HDMI ca...</td>\n",
       "      <td>high</td>\n",
       "    </tr>\n",
       "    <tr>\n",
       "      <th>2239</th>\n",
       "      <td>Great Cables, Anything 25 feet works fine tran...</td>\n",
       "      <td>high</td>\n",
       "    </tr>\n",
       "    <tr>\n",
       "      <th>3013</th>\n",
       "      <td>It works great fast! good price too! looking c...</td>\n",
       "      <td>high</td>\n",
       "    </tr>\n",
       "    <tr>\n",
       "      <th>3247</th>\n",
       "      <td>cheaper work apple tv, tivo roku connected sam...</td>\n",
       "      <td>high</td>\n",
       "    </tr>\n",
       "  </tbody>\n",
       "</table>\n",
       "</div>"
      ],
      "text/plain": [
       "                                            review_body bucket\n",
       "1982  Bought replacement HDMI cable. The Local elect...   high\n",
       "2033  Just good HDMI cable there! It's basic HDMI ca...   high\n",
       "2239  Great Cables, Anything 25 feet works fine tran...   high\n",
       "3013  It works great fast! good price too! looking c...   high\n",
       "3247  cheaper work apple tv, tivo roku connected sam...   high"
      ]
     },
     "execution_count": 24,
     "metadata": {},
     "output_type": "execute_result"
    }
   ],
   "source": [
    "# Display sample data\n",
    "df_review.head() "
   ]
  },
  {
   "cell_type": "markdown",
   "metadata": {},
   "source": [
    "### Calculate Term Frequencies\n",
    "- Calculate both the actual term frequency as well as the tfidf weighted term frequency. Let's limit words occuring in at most 90% of documents and in at least 10 documents. \n",
    "- The term-frequency matrix is just a word count, the IDF calculation adjusts for \"boring\" or \"irrelvant\" words that occur in many reviews.\n",
    "\n",
    "- Perform two tokenizing operations. First, tokenize only letters, ignoring special symbols & numbers. \n",
    "- Use the NLTK Snowball stemmer to try and get the root of a word as best as possible. Stop words are removed in the vectorization step."
   ]
  },
  {
   "cell_type": "code",
   "execution_count": 25,
   "metadata": {},
   "outputs": [],
   "source": [
    "# Calculate TD and IDF\n",
    "stemmer = SnowballStemmer(\"english\")\n",
    "tokenizer = RegexpTokenizer(\"[a-z']+\")\n",
    "\n",
    "def tokenize(text):\n",
    "    tokens = tokenizer.tokenize(text)\n",
    "    return [stemmer.stem(t) for t in tokens] \n",
    "\n",
    "def get_tf(data, use_idf, max_df=1.0, min_df=1, ngram_range=(1,1)):\n",
    "    if use_idf:\n",
    "        m = TfidfVectorizer(max_df=max_df, min_df=min_df, stop_words='english', ngram_range=ngram_range, tokenizer=tokenize)\n",
    "    else:\n",
    "        m = CountVectorizer(max_df=max_df, min_df=min_df, stop_words='english', ngram_range=ngram_range, tokenizer=tokenize)\n",
    "    \n",
    "    d = m.fit_transform(data)\n",
    "    return m, d\n",
    "\n",
    "tf_m, tf_d = get_tf(df_review['review_body'], use_idf=False, max_df=0.90, min_df=10)\n",
    "tfidf_m, tfidf_d = get_tf(df_review['review_body'], use_idf=True, max_df=0.90, min_df=10)"
   ]
  },
  {
   "cell_type": "markdown",
   "metadata": {},
   "source": [
    "### Compute topics using Kmeans and LDA\n",
    "\n",
    "- Kmeans approach: Using our TFIDF matrix, cluster documents into N clusters based on their TFIDF similarity. Within each cluster, count the top occuring terms.\n",
    "\n",
    "- LDA approach: Using TF matrix, attempt to extact N topics from the collection of documents.\n",
    "\n",
    "##### Note: Kmeans forces each review to belong to only one cluster while LDA allows a review to have many topics associated with it. "
   ]
  },
  {
   "cell_type": "code",
   "execution_count": 26,
   "metadata": {},
   "outputs": [],
   "source": [
    "# Let's choose 20 topics\n",
    "n_topics = 20\n",
    "\n",
    "# LDA Approach\n",
    "def get_lda(data, topics):\n",
    "    m = LatentDirichletAllocation(n_components=topics, n_jobs=-1, learning_method='online').fit(data)\n",
    "    d = m.transform(data)\n",
    "    return m, d\n",
    "\n",
    "# Kmeans Approach\n",
    "def get_kmeans(data, k, scale=True):\n",
    "    if scale:\n",
    "        s = MinMaxScaler()\n",
    "        data = s.fit_transform(data)\n",
    "    \n",
    "    m = KMeans(n_clusters=k).fit(data)\n",
    "    d = m.predict(data)\n",
    "    return m, d        \n",
    "\n",
    "lda_m, lda_d = get_lda(tf_d, n_topics)\n",
    "kmean_m, kmean_d = get_kmeans(tfidf_d, n_topics, scale=False)"
   ]
  },
  {
   "cell_type": "markdown",
   "metadata": {},
   "source": [
    "### Show cluster top 15 words per topic\n",
    "- First extract the top 15 stemmed words per topic in our LDA model. \n",
    "- Repeate process for kmeans clustered documents. \n",
    "\n",
    "##### Note: Here we just count the top 15 most frequent stemmed words per cluster. Both show similar sets of results."
   ]
  },
  {
   "cell_type": "code",
   "execution_count": 27,
   "metadata": {},
   "outputs": [],
   "source": [
    "# Show topics\n",
    "def show_topics(model, feature_names, n_words):\n",
    "    for topic_idx, topic in enumerate(model.components_):\n",
    "        print(\"Topic #%d:\" % topic_idx)\n",
    "        print(\", \".join([feature_names[i]\n",
    "                        for i in topic.argsort()[:-n_words - 1:-1]]))\n",
    "    print()\n",
    "    \n",
    "# Show Clusters    \n",
    "def show_cluster_topics(cluster_labels, tf_matrix, feature_names, n_words):\n",
    "    d = pd.DataFrame(tf_matrix.toarray())\n",
    "    d['c'] = cluster_labels\n",
    "    d = d.groupby('c').sum().T\n",
    "    \n",
    "    for col in d:\n",
    "        top_n = d[col].nlargest(n_words).index.tolist()\n",
    "        print(\"Cluster #%d:\" % col)\n",
    "        print(\", \".join([feature_names[i]\n",
    "                for i in top_n]))\n",
    "    print()"
   ]
  },
  {
   "cell_type": "code",
   "execution_count": 28,
   "metadata": {},
   "outputs": [
    {
     "name": "stdout",
     "output_type": "stream",
     "text": [
      "Top 15 stemmed words per topic in LDA model\n",
      "\n",
      "Topic #0:\n",
      "use, connect, tv, monitor, work, laptop, comput, problem, p, cabl, pc, sturdi, simpli, perfect, good, solid, inch, lcd, great, internet\n",
      "Topic #1:\n",
      "roku, i'v, month, x, they'r, wait, servic, sinc, continu, spent, custom, realiz, regular, previous, product, major, feel, i'll, proper, twice\n",
      "Topic #2:\n",
      "br, cabl, hdmi, support, audio, high, standard, video, ethernet, speed, perform, d, gold, amazonbas, qualiti, plate, construct, p, latest, connector\n",
      "Topic #3:\n",
      "cabl, hdmi, need, like, work, purchas, price, reason, length, thing, box, qualiti, amazon, great, end, littl, devic, perfect, pay, fit\n",
      "Topic #4:\n",
      "cabl, buy, hdmi, money, work, don't, pay, best, amazon, price, monster, expens, save, better, store, want, fast, spend, cheap, great\n",
      "Topic #5:\n",
      "cabl, issu, work, day, i'm, doesn't, far, haven't, amazon, problem, xbox, deal, prime, i'v, good, like, use, look, hdmi, i'd\n",
      "Topic #6:\n",
      "packag, box, come, second, plastic, open, room, easi, plus, live, nice, ship, simpl, pack, note, crisp, add, bag, hook, cardboard\n",
      "Topic #7:\n",
      "differ, receiv, cabl, tell, read, review, test, switch, turn, worth, channel, color, tri, notic, equip, stop, send, bluray, perform, pictur\n",
      "Topic #8:\n",
      "cabl, work, hdmi, price, great, need, cord, good, qualiti, buy, expens, can't, perfect, don't, bought, fine, say, differ, job, dollar\n",
      "Topic #9:\n",
      "player, ray, blu, tv, dvd, soni, connect, samsung, compon, cabl, bought, hook, work, wasn't, box, perfect, correct, import, smart, great\n",
      "Topic #10:\n",
      "time, plug, tv, arriv, veri, happi, appl, order, tri, bought, paid, i'm, clear, decid, thought, unplug, second, suggest, sure, snug\n",
      "Topic #11:\n",
      "game, free, includ, frustrat, display, consol, origin, gift, enjoy, hassl, didnt, busi, solut, left, bundl, shock, reciev, recogn, hmdi, prior\n",
      "Topic #12:\n",
      "cabl, new, hdmi, return, work, replac, didn't, got, problem, came, old, need, issu, audio, purchas, expect, addit, like, know, doe\n",
      "Topic #13:\n",
      "cabl, pictur, qualiti, sound, hdmi, d, great, price, year, high, provid, better, featur, clear, retail, ps, best, xbox, buck, ago\n",
      "Topic #14:\n",
      "signal, cabl, digit, set, devic, end, flawless, hdmi, v, black, work, won't, analog, fine, s, carri, t, manufactur, help, peopl\n",
      "Topic #15:\n",
      "tv, work, connect, hook, bought, screen, watch, laptop, movi, televis, cord, ps, play, comput, roku, fine, perfect, video, hd, got\n",
      "Topic #16:\n",
      "cabl, amazon, price, hdmi, store, work, qualiti, cost, purchas, basic, brand, buy, big, box, bought, good, electron, cheaper, local, way\n",
      "Topic #17:\n",
      "lg, final, mini, faulti, displayport, speed, blueray, cut, review, figur, cabl, d, soon, sometim, faster, tv, high, player, search, test\n",
      "Topic #18:\n",
      "love, easi, friend, instal, week, stream, reliabl, recommend, famili, anyon, purchas, exist, problem, alot, pass, hookup, program, blueray, broken, budget\n",
      "Topic #19:\n",
      "product, great, price, qualiti, work, recommend, amazon, good, cabl, item, purchas, high, look, expect, need, new, pictur, order, quick, excel\n",
      "\n"
     ]
    }
   ],
   "source": [
    "# LDA topic \n",
    "print(\"Top 15 stemmed words per topic in LDA model\\n\")\n",
    "show_topics(lda_m, tf_m.get_feature_names(), 20)"
   ]
  },
  {
   "cell_type": "code",
   "execution_count": 29,
   "metadata": {},
   "outputs": [
    {
     "name": "stdout",
     "output_type": "stream",
     "text": [
      "Top 15 stemmed words per cluster in Kmeans model\n",
      "\n",
      "Cluster #0:\n",
      "cabl, spend, digit, signal, don't, hdmi, money, work, need, expens, good, lot, better, qualiti, reason, price, buy, peopl, differ, fine\n",
      "Cluster #1:\n",
      "buy, cabl, best, hdmi, expens, work, money, amazon, price, need, qualiti, great, don't, save, cheap, bought, good, like, monster, differ\n",
      "Cluster #2:\n",
      "br, cabl, hdmi, work, qualiti, price, need, amazon, tv, great, buy, good, connect, product, bought, don't, like, problem, use, perfect\n",
      "Cluster #3:\n",
      "beat, can't, price, cabl, hdmi, qualiti, work, amazon, great, need, differ, buy, good, time, product, money, high, issu, tell, perfect\n",
      "Cluster #4:\n",
      "great, cabl, price, work, hdmi, qualiti, need, good, pictur, purchas, buy, product, look, bought, sound, time, tv, recommend, cheap, pay\n",
      "Cluster #5:\n",
      "laptop, tv, connect, work, use, cabl, great, watch, movi, screen, hdmi, hook, qualiti, good, sound, problem, pictur, need, price, plug\n",
      "Cluster #6:\n",
      "length, perfect, cabl, need, right, hdmi, work, price, good, tv, bought, long, purchas, great, qualiti, devic, feet, hook, use, like\n",
      "Cluster #7:\n",
      "tv, cabl, appl, connect, work, use, hdmi, new, hook, amazon, bought, need, comput, great, watch, problem, hd, purchas, order, box\n",
      "Cluster #8:\n",
      "cord, hdmi, work, great, need, price, amazon, good, qualiti, tv, buy, bought, long, problem, use, cabl, perfect, cheap, connect, exact\n",
      "Cluster #9:\n",
      "store, cabl, big, box, price, work, local, hdmi, retail, buy, great, electron, amazon, pay, cheaper, need, like, expens, qualiti, good\n",
      "Cluster #10:\n",
      "cabl, hdmi, amazon, price, work, need, brand, differ, pay, basic, monster, expens, good, cheap, bought, cost, purchas, i'v, better, qualiti\n",
      "Cluster #11:\n",
      "work, cabl, hdmi, like, fine, good, problem, use, bought, time, issu, price, need, connect, month, i'm, got, order, purchas, didn't\n",
      "Cluster #12:\n",
      "ray, blu, player, cabl, tv, work, blue, great, hdmi, connect, soni, bought, price, new, pictur, use, d, hook, qualiti, purchas\n",
      "Cluster #13:\n",
      "dvd, player, cabl, tv, work, hdmi, connect, new, need, great, hook, purchas, bought, bluray, ray, price, qualiti, blue, use, problem\n",
      "Cluster #14:\n",
      "ship, fast, cabl, price, free, prime, amazon, great, work, day, hdmi, good, qualiti, quick, need, product, buy, time, packag, item\n",
      "Cluster #15:\n",
      "product, amazon, good, qualiti, price, work, cabl, recommend, great, basic, brand, high, like, purchas, hdmi, need, tv, buy, look, expect\n",
      "Cluster #16:\n",
      "monitor, cabl, connect, comput, work, hdmi, laptop, use, hook, pc, good, new, qualiti, bought, price, br, problem, plug, game, card\n",
      "Cluster #17:\n",
      "roku, cabl, work, connect, bought, great, tv, purchas, price, hdmi, use, need, box, order, new, good, qualiti, pictur, got, hook\n",
      "Cluster #18:\n",
      "qualiti, cabl, high, hdmi, good, price, amazonbas, pictur, recommend, speed, amazon, sound, purchas, great, excel, video, work, brand, buy, i'v\n",
      "Cluster #19:\n",
      "p, cabl, tv, work, great, qualiti, hdmi, ps, video, hdtv, d, connect, use, hd, deliv, hook, need, lcd, xbox, perfect\n",
      "\n"
     ]
    }
   ],
   "source": [
    "# Kmean cluster of words\n",
    "print(\"Top 15 stemmed words per cluster in Kmeans model\\n\")\n",
    "show_cluster_topics(kmean_d, tfidf_d, tfidf_m.get_feature_names(),20)"
   ]
  },
  {
   "cell_type": "markdown",
   "metadata": {},
   "source": [
    "## Prepare data for plotting\n",
    "- TF/TFIDF matricies is a challenge to graphically represent documents as charts are limited to 3 dimensions. \n",
    "- Perform a heirarchical clustering, but the number of documents makes this approach very slow. \n",
    "- Let's perform a SVD/LSA to reduce the dimensionality of the matrix to something more manageable (eg. 30 dimensions)."
   ]
  },
  {
   "cell_type": "code",
   "execution_count": 30,
   "metadata": {},
   "outputs": [],
   "source": [
    "\n",
    "def get_svd(data, components):\n",
    "    svd = TruncatedSVD(n_components=components).fit(data)\n",
    "    o = pd.DataFrame(svd.transform(data), columns=range(0,components))\n",
    "    return svd,o\n",
    "\n",
    "def get_tsne(data, components, perplexity):\n",
    "    tsne = TSNE(n_components=components, perplexity=perplexity, n_iter=1000)\n",
    "    o = pd.DataFrame(tsne.fit_transform(data), columns=range(0,components))\n",
    "    return tsne,o\n",
    "\n",
    "svd_v, svd_m = get_svd(tfidf_d, 30)\n",
    "tnse_v, tsne_m = get_tsne(svd_m, 2, 25)\n",
    "\n",
    "lda_c = lda_d.argmax(axis=1)"
   ]
  },
  {
   "cell_type": "markdown",
   "metadata": {},
   "source": [
    "### Plot Data\n",
    "- Use LDA and Kmeans labels with reduced dimensions to plot our documents. \n",
    "- Create a rainbow color scheme which allows for a variable number of topics/clusters. \n",
    "- The plot tends to overlap quite a bit.  "
   ]
  },
  {
   "cell_type": "code",
   "execution_count": 31,
   "metadata": {},
   "outputs": [
    {
     "name": "stderr",
     "output_type": "stream",
     "text": [
      "'c' argument looks like a single numeric RGB or RGBA sequence, which should be avoided as value-mapping will have precedence in case its length matches with 'x' & 'y'.  Please use a 2-D array with a single row if you really want to specify the same RGB or RGBA value for all points.\n",
      "'c' argument looks like a single numeric RGB or RGBA sequence, which should be avoided as value-mapping will have precedence in case its length matches with 'x' & 'y'.  Please use a 2-D array with a single row if you really want to specify the same RGB or RGBA value for all points.\n",
      "'c' argument looks like a single numeric RGB or RGBA sequence, which should be avoided as value-mapping will have precedence in case its length matches with 'x' & 'y'.  Please use a 2-D array with a single row if you really want to specify the same RGB or RGBA value for all points.\n",
      "'c' argument looks like a single numeric RGB or RGBA sequence, which should be avoided as value-mapping will have precedence in case its length matches with 'x' & 'y'.  Please use a 2-D array with a single row if you really want to specify the same RGB or RGBA value for all points.\n",
      "'c' argument looks like a single numeric RGB or RGBA sequence, which should be avoided as value-mapping will have precedence in case its length matches with 'x' & 'y'.  Please use a 2-D array with a single row if you really want to specify the same RGB or RGBA value for all points.\n",
      "'c' argument looks like a single numeric RGB or RGBA sequence, which should be avoided as value-mapping will have precedence in case its length matches with 'x' & 'y'.  Please use a 2-D array with a single row if you really want to specify the same RGB or RGBA value for all points.\n",
      "'c' argument looks like a single numeric RGB or RGBA sequence, which should be avoided as value-mapping will have precedence in case its length matches with 'x' & 'y'.  Please use a 2-D array with a single row if you really want to specify the same RGB or RGBA value for all points.\n",
      "'c' argument looks like a single numeric RGB or RGBA sequence, which should be avoided as value-mapping will have precedence in case its length matches with 'x' & 'y'.  Please use a 2-D array with a single row if you really want to specify the same RGB or RGBA value for all points.\n",
      "'c' argument looks like a single numeric RGB or RGBA sequence, which should be avoided as value-mapping will have precedence in case its length matches with 'x' & 'y'.  Please use a 2-D array with a single row if you really want to specify the same RGB or RGBA value for all points.\n",
      "'c' argument looks like a single numeric RGB or RGBA sequence, which should be avoided as value-mapping will have precedence in case its length matches with 'x' & 'y'.  Please use a 2-D array with a single row if you really want to specify the same RGB or RGBA value for all points.\n",
      "'c' argument looks like a single numeric RGB or RGBA sequence, which should be avoided as value-mapping will have precedence in case its length matches with 'x' & 'y'.  Please use a 2-D array with a single row if you really want to specify the same RGB or RGBA value for all points.\n",
      "'c' argument looks like a single numeric RGB or RGBA sequence, which should be avoided as value-mapping will have precedence in case its length matches with 'x' & 'y'.  Please use a 2-D array with a single row if you really want to specify the same RGB or RGBA value for all points.\n",
      "'c' argument looks like a single numeric RGB or RGBA sequence, which should be avoided as value-mapping will have precedence in case its length matches with 'x' & 'y'.  Please use a 2-D array with a single row if you really want to specify the same RGB or RGBA value for all points.\n",
      "'c' argument looks like a single numeric RGB or RGBA sequence, which should be avoided as value-mapping will have precedence in case its length matches with 'x' & 'y'.  Please use a 2-D array with a single row if you really want to specify the same RGB or RGBA value for all points.\n",
      "'c' argument looks like a single numeric RGB or RGBA sequence, which should be avoided as value-mapping will have precedence in case its length matches with 'x' & 'y'.  Please use a 2-D array with a single row if you really want to specify the same RGB or RGBA value for all points.\n",
      "'c' argument looks like a single numeric RGB or RGBA sequence, which should be avoided as value-mapping will have precedence in case its length matches with 'x' & 'y'.  Please use a 2-D array with a single row if you really want to specify the same RGB or RGBA value for all points.\n",
      "'c' argument looks like a single numeric RGB or RGBA sequence, which should be avoided as value-mapping will have precedence in case its length matches with 'x' & 'y'.  Please use a 2-D array with a single row if you really want to specify the same RGB or RGBA value for all points.\n",
      "'c' argument looks like a single numeric RGB or RGBA sequence, which should be avoided as value-mapping will have precedence in case its length matches with 'x' & 'y'.  Please use a 2-D array with a single row if you really want to specify the same RGB or RGBA value for all points.\n",
      "'c' argument looks like a single numeric RGB or RGBA sequence, which should be avoided as value-mapping will have precedence in case its length matches with 'x' & 'y'.  Please use a 2-D array with a single row if you really want to specify the same RGB or RGBA value for all points.\n",
      "'c' argument looks like a single numeric RGB or RGBA sequence, which should be avoided as value-mapping will have precedence in case its length matches with 'x' & 'y'.  Please use a 2-D array with a single row if you really want to specify the same RGB or RGBA value for all points.\n"
     ]
    },
    {
     "data": {
      "image/png": "[encoded data removed]",
      "text/plain": [
       "<Figure size 432x288 with 1 Axes>"
      ]
     },
     "metadata": {
      "needs_background": "light"
     },
     "output_type": "display_data"
    }
   ],
   "source": [
    "# Cluster topc plot\n",
    "def plot_scatter_2d(x, y, c, sample_size, title):\n",
    "    df = pd.DataFrame({'x': x, 'y': y, 'c': c}).sample(sample_size)\n",
    "    l = len(np.unique(c))\n",
    "    \n",
    "    ax = plt.subplot(111)\n",
    "    colors = cm.rainbow(np.linspace(0, 1, l))\n",
    "                                   \n",
    "    for c in range(0,l):\n",
    "        qq = df[df['c']==c]\n",
    "        ax.scatter(qq['x'], qq['y'],c=colors[c], label=c)\n",
    "    plt.legend(loc='upper left', numpoints=1, ncol=3, fontsize=8, bbox_to_anchor=(0, 0), title='Topic/Cluster')\n",
    "    ax.set_yticklabels([])\n",
    "    ax.set_xticklabels([])\n",
    "    ax.set_title(title)\n",
    "    plt.show()\n",
    "\n",
    "# Plot\n",
    "plot_scatter_2d(tsne_m[0], tsne_m[1], kmean_d, 1000, 'KMeans Clustering of Amazon Reviews using TFIDF (t-SNE Plot)')"
   ]
  },
  {
   "cell_type": "code",
   "execution_count": 32,
   "metadata": {},
   "outputs": [
    {
     "name": "stderr",
     "output_type": "stream",
     "text": [
      "'c' argument looks like a single numeric RGB or RGBA sequence, which should be avoided as value-mapping will have precedence in case its length matches with 'x' & 'y'.  Please use a 2-D array with a single row if you really want to specify the same RGB or RGBA value for all points.\n",
      "'c' argument looks like a single numeric RGB or RGBA sequence, which should be avoided as value-mapping will have precedence in case its length matches with 'x' & 'y'.  Please use a 2-D array with a single row if you really want to specify the same RGB or RGBA value for all points.\n",
      "'c' argument looks like a single numeric RGB or RGBA sequence, which should be avoided as value-mapping will have precedence in case its length matches with 'x' & 'y'.  Please use a 2-D array with a single row if you really want to specify the same RGB or RGBA value for all points.\n",
      "'c' argument looks like a single numeric RGB or RGBA sequence, which should be avoided as value-mapping will have precedence in case its length matches with 'x' & 'y'.  Please use a 2-D array with a single row if you really want to specify the same RGB or RGBA value for all points.\n",
      "'c' argument looks like a single numeric RGB or RGBA sequence, which should be avoided as value-mapping will have precedence in case its length matches with 'x' & 'y'.  Please use a 2-D array with a single row if you really want to specify the same RGB or RGBA value for all points.\n",
      "'c' argument looks like a single numeric RGB or RGBA sequence, which should be avoided as value-mapping will have precedence in case its length matches with 'x' & 'y'.  Please use a 2-D array with a single row if you really want to specify the same RGB or RGBA value for all points.\n",
      "'c' argument looks like a single numeric RGB or RGBA sequence, which should be avoided as value-mapping will have precedence in case its length matches with 'x' & 'y'.  Please use a 2-D array with a single row if you really want to specify the same RGB or RGBA value for all points.\n",
      "'c' argument looks like a single numeric RGB or RGBA sequence, which should be avoided as value-mapping will have precedence in case its length matches with 'x' & 'y'.  Please use a 2-D array with a single row if you really want to specify the same RGB or RGBA value for all points.\n",
      "'c' argument looks like a single numeric RGB or RGBA sequence, which should be avoided as value-mapping will have precedence in case its length matches with 'x' & 'y'.  Please use a 2-D array with a single row if you really want to specify the same RGB or RGBA value for all points.\n",
      "'c' argument looks like a single numeric RGB or RGBA sequence, which should be avoided as value-mapping will have precedence in case its length matches with 'x' & 'y'.  Please use a 2-D array with a single row if you really want to specify the same RGB or RGBA value for all points.\n",
      "'c' argument looks like a single numeric RGB or RGBA sequence, which should be avoided as value-mapping will have precedence in case its length matches with 'x' & 'y'.  Please use a 2-D array with a single row if you really want to specify the same RGB or RGBA value for all points.\n",
      "'c' argument looks like a single numeric RGB or RGBA sequence, which should be avoided as value-mapping will have precedence in case its length matches with 'x' & 'y'.  Please use a 2-D array with a single row if you really want to specify the same RGB or RGBA value for all points.\n",
      "'c' argument looks like a single numeric RGB or RGBA sequence, which should be avoided as value-mapping will have precedence in case its length matches with 'x' & 'y'.  Please use a 2-D array with a single row if you really want to specify the same RGB or RGBA value for all points.\n",
      "'c' argument looks like a single numeric RGB or RGBA sequence, which should be avoided as value-mapping will have precedence in case its length matches with 'x' & 'y'.  Please use a 2-D array with a single row if you really want to specify the same RGB or RGBA value for all points.\n",
      "'c' argument looks like a single numeric RGB or RGBA sequence, which should be avoided as value-mapping will have precedence in case its length matches with 'x' & 'y'.  Please use a 2-D array with a single row if you really want to specify the same RGB or RGBA value for all points.\n",
      "'c' argument looks like a single numeric RGB or RGBA sequence, which should be avoided as value-mapping will have precedence in case its length matches with 'x' & 'y'.  Please use a 2-D array with a single row if you really want to specify the same RGB or RGBA value for all points.\n",
      "'c' argument looks like a single numeric RGB or RGBA sequence, which should be avoided as value-mapping will have precedence in case its length matches with 'x' & 'y'.  Please use a 2-D array with a single row if you really want to specify the same RGB or RGBA value for all points.\n",
      "'c' argument looks like a single numeric RGB or RGBA sequence, which should be avoided as value-mapping will have precedence in case its length matches with 'x' & 'y'.  Please use a 2-D array with a single row if you really want to specify the same RGB or RGBA value for all points.\n",
      "'c' argument looks like a single numeric RGB or RGBA sequence, which should be avoided as value-mapping will have precedence in case its length matches with 'x' & 'y'.  Please use a 2-D array with a single row if you really want to specify the same RGB or RGBA value for all points.\n",
      "'c' argument looks like a single numeric RGB or RGBA sequence, which should be avoided as value-mapping will have precedence in case its length matches with 'x' & 'y'.  Please use a 2-D array with a single row if you really want to specify the same RGB or RGBA value for all points.\n"
     ]
    },
    {
     "data": {
      "image/png": "[encoded data removed]",
      "text/plain": [
       "<Figure size 432x288 with 1 Axes>"
      ]
     },
     "metadata": {
      "needs_background": "light"
     },
     "output_type": "display_data"
    }
   ],
   "source": [
    "# LDA topics plot\n",
    "plot_scatter_2d(tsne_m[0], tsne_m[1], lda_c, 1000, 'LDA Topics of Amazon Reviews using TF (t-SNE Plot)')"
   ]
  },
  {
   "cell_type": "markdown",
   "metadata": {},
   "source": [
    "### Prepare data for prediction\n",
    "- Scatter plots helps to understand how the data is structured, but it doesn't tell what drives positive or negative reviews. - - Lets use words within reviews to build a predictive scoring model.\n",
    "- When training models, split the data 70%/30% where 30% will be used for prediction to gauge final accuracy of the model.\n",
    "- For each review, the model that scores the highest will tell us which kind of review it likely is."
   ]
  },
  {
   "cell_type": "code",
   "execution_count": 33,
   "metadata": {},
   "outputs": [],
   "source": [
    "# Split data\n",
    "X_train, X_test, y_train, y_test = train_test_split(tfidf_d, df_review['bucket'], test_size=0.3)"
   ]
  },
  {
   "cell_type": "markdown",
   "metadata": {},
   "source": [
    "### Calculate model accuracies\n",
    "- Three different approaches to build the review predictions: Logistic Regression, Naive Bayes, and Support Vector Machines. \n",
    "- Final approach that does a combined \"vote\" of all three models. \n",
    "- Since we have limited data, lets use cross-validation to split the data 10 ways and measure accuracy in an unbiased way."
   ]
  },
  {
   "cell_type": "code",
   "execution_count": 34,
   "metadata": {},
   "outputs": [
    {
     "name": "stdout",
     "output_type": "stream",
     "text": [
      "Model accuracy predictions\n",
      "\n",
      "LR model (low rating): 95.0%\n",
      "LR model (neutral rating): 97.0%\n",
      "LR model (high rating): 92.1%\n",
      "\n",
      "SVM model (low rating): 95.2%\n",
      "SVM model (neutral rating): 97.0%\n",
      "SVM model (high rating): 92.7%\n",
      "\n",
      "NB model (low rating): 95.0%\n",
      "NB model (neutral rating): 97.0%\n",
      "NB model (high rating): 92.1%\n",
      "\n",
      "COMBINED model (low rating): 95.0%\n",
      "COMBINED model (neutral rating): 97.0%\n",
      "COMBINED model (high rating): 92.1%\n",
      "\n"
     ]
    }
   ],
   "source": [
    "# Calculate cross validation score\n",
    "\n",
    "def calculate_cv(X, y):\n",
    "    results = {\n",
    "        'lr': [],\n",
    "        'svm': [],\n",
    "        'nb': [],\n",
    "        'combined': []\n",
    "    }\n",
    "    lm = LogisticRegression()\n",
    "    svm = LinearSVC()\n",
    "    nb = MultinomialNB()\n",
    "    vc = VotingClassifier([('lm', lm), ('svm', svm), ('nb', nb)])\n",
    "    \n",
    "    for c in cat:\n",
    "        y_adj = np.array(y==c)\n",
    "        results['lr'].append((cross_val_score(lm, X, y_adj, cv=10, scoring='accuracy').mean(), c))\n",
    "        results['svm'].append((cross_val_score(svm, X, y_adj, cv=10, scoring='accuracy').mean(), c))\n",
    "        results['nb'].append((cross_val_score(nb, X, y_adj, cv=10, scoring='accuracy').mean(), c))\n",
    "        results['combined'].append((cross_val_score(vc, X, y_adj, cv=10, scoring='accuracy').mean(), c))\n",
    "    return results\n",
    "\n",
    "# Call function\n",
    "cv_scores = calculate_cv(X_test, y_test)\n",
    "\n",
    "# print model accuracy predictions\n",
    "\n",
    "print(\"Model accuracy predictions\\n\")\n",
    "for m,s in cv_scores.items():\n",
    "    for ss in s:\n",
    "        print(\"{M} model ({R} rating): {S:.1%}\".format(M=m.upper(), R=ss[1], S=ss[0]))\n",
    "    print()"
   ]
  },
  {
   "cell_type": "markdown",
   "metadata": {},
   "source": [
    "### Training the model of choice\n",
    "- SVM have given better performance for. There is definitely room for improvement.  \n",
    "\n",
    "- There are lots of ways to tweak the prior steps to get a better result.\n",
    "\n",
    "    - Tweak any parameters in either the TF step or the modeling step\n",
    "    - Neg/Pos keywords might vary by topic so we might do this for one cluster at a time\n",
    "    - Nouns don't provide much insight and we are better off removing them\n",
    "    - \"good\" and \"not good\" have opposite meanings so maybe we should have included 2-grams"
   ]
  },
  {
   "cell_type": "code",
   "execution_count": 35,
   "metadata": {},
   "outputs": [],
   "source": [
    "# Build linear regression model and fit \n",
    "def get_lr(x, y):\n",
    "    models = []\n",
    "    for c in cat:\n",
    "        y_adj = np.array(y==c)\n",
    "        lm = LogisticRegression()\n",
    "        lm_f = lm.fit(x, y_adj)\n",
    "        models.append(lm_f)\n",
    "    return models\n",
    "\n",
    "lr_m = get_lr(X_train, y_train)"
   ]
  },
  {
   "cell_type": "markdown",
   "metadata": {},
   "source": [
    "### Plot the results\n",
    "- Charts show the result of Logistic Regression model. \n",
    "- Top 10 words negatively associated (red) with that review model, and the top 10 words positively associated (green) with that review model. \n",
    "- The values indiciate how much more likely or unlikely a review is to be low, neutral, high given the # of times that word occurs in the review."
   ]
  },
  {
   "cell_type": "code",
   "execution_count": 36,
   "metadata": {},
   "outputs": [
    {
     "data": {
      "image/png": "[encoded data removed]",
      "text/plain": [
       "<Figure size 432x288 with 1 Axes>"
      ]
     },
     "metadata": {
      "needs_background": "light"
     },
     "output_type": "display_data"
    },
    {
     "data": {
      "image/png": "[encoded data removed]",
      "text/plain": [
       "<Figure size 432x288 with 1 Axes>"
      ]
     },
     "metadata": {
      "needs_background": "light"
     },
     "output_type": "display_data"
    },
    {
     "data": {
      "image/png": "[encoded data removed]",
      "text/plain": [
       "<Figure size 432x288 with 1 Axes>"
      ]
     },
     "metadata": {
      "needs_background": "light"
     },
     "output_type": "display_data"
    }
   ],
   "source": [
    "# Plot coefficient \n",
    "\n",
    "def plot_coef(title, model, feature_names, n_words):\n",
    "    v = []\n",
    "    for topic_idx, topic in enumerate(model.coef_):\n",
    "        [v.append([feature_names[i], model.coef_.item(i)]) for i in topic.argsort()[:-n_words - 1:-1]]\n",
    "        [v.append([feature_names[i], model.coef_.item(i)]) for i in topic.argsort()[0:n_words]]\n",
    "    \n",
    "    df = pd.DataFrame(v, columns=['Term','Coefficient']).sort_values(by='Coefficient',ascending=False)\n",
    "    \n",
    "    df['c'] = df['Coefficient']>0\n",
    "    \n",
    "    ax = df.plot(x='Term', y='Coefficient', kind='barh', color=df['c'].map({True: 'g', False: 'r'}), grid=True, legend=False,\n",
    "           title=title)\n",
    "    \n",
    "    ax.set_xlabel(\"Coefficient\")\n",
    "\n",
    "n_terms = 10\n",
    "for c in range(0,len(cat)):\n",
    "    plot_coef('Top {N} words in ({R}) review model\\nGreen = Associated | Red = Not Associated'.format(N=n_terms*2, \n",
    "               R=cat[c]), lr_m[c], tfidf_m.get_feature_names(), n_terms)"
   ]
  },
  {
   "cell_type": "markdown",
   "metadata": {},
   "source": [
    "### Test output\n",
    "- Below is a test function which allows to supply review to see how well the model will predict it's rating. \n",
    "- For simplicity, logistic regression model is used and only allow for one review at a time.\n",
    "- The program uses the stored TFIDF matrix to tokenize and transform our new review which is then fed to all three of logistic regression models. \n",
    "- Each model has an independent assessment of how likely it is that our review is a positive hit.  "
   ]
  },
  {
   "cell_type": "code",
   "execution_count": 37,
   "metadata": {},
   "outputs": [],
   "source": [
    "# Function to test review\n",
    "def test_review(text,model):\n",
    "    test_str = [text]\n",
    "    test_new = tfidf_m.transform(test_str)\n",
    "\n",
    "    print('Review text: \"{R}\"\\n'.format(R=test_str[0]))\n",
    "    print('Model Predction')\n",
    "    for m in range(0,3):\n",
    "        print('Model ({M}): {P:.1%}'.format(M=cat[m], P=model[m].predict_proba(test_new)[0][1]))       "
   ]
  },
  {
   "cell_type": "code",
   "execution_count": 38,
   "metadata": {},
   "outputs": [
    {
     "name": "stdout",
     "output_type": "stream",
     "text": [
      "Review text: \"Too short and could not connect to TV. It had a bad signal. Disappointed with the purchase. Returned to get the refund\"\n",
      "\n",
      "Model Predction\n",
      "Model (low): 75.9%\n",
      "Model (neutral): 9.2%\n",
      "Model (high): 13.8%\n"
     ]
    }
   ],
   "source": [
    "# Bad review\n",
    "test_review('Too short and could not connect to TV. It had a bad signal. Disappointed with the purchase. Returned to get the refund',lr_m)"
   ]
  },
  {
   "cell_type": "code",
   "execution_count": 39,
   "metadata": {},
   "outputs": [
    {
     "name": "stdout",
     "output_type": "stream",
     "text": [
      "Review text: \"This is the best cable I received so far. It worked well. I am glad I bought it.\"\n",
      "\n",
      "Model Predction\n",
      "Model (low): 2.8%\n",
      "Model (neutral): 3.7%\n",
      "Model (high): 94.7%\n"
     ]
    }
   ],
   "source": [
    "# Good Review\n",
    "test_review('This is the best cable I received so far. It worked well. I am glad I bought it.',lr_m)"
   ]
  },
  {
   "cell_type": "markdown",
   "metadata": {},
   "source": [
    "### Save Model"
   ]
  },
  {
   "cell_type": "code",
   "execution_count": 40,
   "metadata": {},
   "outputs": [],
   "source": [
    "# Need to save 3 models"
   ]
  }
 ],
 "metadata": {
  "kernelspec": {
   "display_name": "Python 3",
   "language": "python",
   "name": "python3"
  },
  "language_info": {
   "codemirror_mode": {
    "name": "ipython",
    "version": 3
   },
   "file_extension": ".py",
   "mimetype": "text/x-python",
   "name": "python",
   "nbconvert_exporter": "python",
   "pygments_lexer": "ipython3",
   "version": "3.7.6"
  }
 },
 "nbformat": 4,
 "nbformat_minor": 2
}
