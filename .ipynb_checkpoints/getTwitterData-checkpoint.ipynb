{
 "cells": [
  {
   "cell_type": "code",
   "execution_count": 1,
   "metadata": {},
   "outputs": [],
   "source": [
    "#!pip install simplejson"
   ]
  },
  {
   "cell_type": "code",
   "execution_count": 2,
   "metadata": {},
   "outputs": [],
   "source": [
    "# Import dependencis\n",
    "import pandas as pd\n",
    "import sys, tweepy\n",
    "from requests.exceptions import Timeout, ConnectionError\n",
    "from requests.packages.urllib3.exceptions import ReadTimeoutError\n",
    "import csv\n",
    "import ssl\n",
    "import time\n",
    "import warnings\n",
    "warnings.filterwarnings('ignore') # Hides warning\n",
    "warnings.filterwarnings(\"ignore\", category=DeprecationWarning)\n",
    "warnings.filterwarnings(\"ignore\",category=UserWarning)"
   ]
  },
  {
   "cell_type": "code",
   "execution_count": 3,
   "metadata": {},
   "outputs": [],
   "source": [
    "# API credentials - need to move them to config file \n",
    "consumerKey =\"8QzKAL9poBEwy0vgD2RMXKTDv\"\n",
    "consumerSecretKey = \"rJHM1691uU6zk9ulFehVQznpEgmpZUfd3HVE7VMMlTR2KAJjA3\"\n",
    "accessToken = \"1247938131841683456-oSN2nufp1b0tUZkYqe3kUs6j3VhisL\"\n",
    "accessToeknSecret= \"9a7EbDW1jww5KQiR6PxEsaf0aaySh9ZE37lgpuPgbpTZY\""
   ]
  },
  {
   "cell_type": "code",
   "execution_count": 4,
   "metadata": {},
   "outputs": [],
   "source": [
    "# File paths\n",
    "tweet_data_file = os.path.join(\"\",\"Resources\",\"data\",\"tweetAPISearch.csv\")"
   ]
  },
  {
   "cell_type": "code",
   "execution_count": 5,
   "metadata": {},
   "outputs": [],
   "source": [
    "# Authenticate twitter account\n",
    "auth = tweepy.OAuthHandler(consumer_key= consumerKey,consumer_secret= consumerSecretKey)"
   ]
  },
  {
   "cell_type": "code",
   "execution_count": 6,
   "metadata": {},
   "outputs": [],
   "source": [
    "# Set access token\n",
    "auth.set_access_token(accessToken,accessToeknSecret)"
   ]
  },
  {
   "cell_type": "code",
   "execution_count": 7,
   "metadata": {},
   "outputs": [],
   "source": [
    "# Create API instance with authentication\n",
    "api= tweepy.API(auth,wait_on_rate_limit=True)"
   ]
  },
  {
   "cell_type": "code",
   "execution_count": 8,
   "metadata": {},
   "outputs": [],
   "source": [
    "# Set keywords, hashtag or mentions tag and # of searches - keep in mind the daily limitation\n",
    "keywords = '#Trump OR Trump OR Biden OR #Biden'\n",
    "key_words =['Trump','Biden']\n",
    "\n",
    "# Total tweets for the search\n",
    "totalTweets = 100000\n",
    "\n",
    "# Start date - Search for tweets - Twitter Standard Search API has a 7-day limit. \n",
    "#date_since = \"2020-07-29\"\n",
    "\n",
    "# Define until what date we are looking for tweets\n",
    "#date_until = \"\"\n",
    "\n",
    "# Numbers of tweets to return per page, max is 100. Default is 15.\n",
    "count = 100\n",
    "\n",
    "# Filter by language\n",
    "lang = \"en\"\n",
    "\n",
    "# Filter by latitude,longitude,radius.\n",
    "# 37.781157 -122.398720 1mi'''\n",
    "geocode = \"\"\n",
    "\n",
    "# Filter by recent, popular or mixed.\n",
    "result_type = \"recent\"\n",
    "\n",
    "# Include info on entities found in Tweets, including hashtags,links, and mentions. Set to True or False\n",
    "include_entities = True\n",
    "\n",
    "#Exclude retweets and replies \n",
    "new_search = keywords + \" -filter:retweets AND -filter:replies\""
   ]
  },
  {
   "cell_type": "code",
   "execution_count": 9,
   "metadata": {},
   "outputs": [],
   "source": [
    "# Function for handling pagination in our search\n",
    "def limit_handled(cursor):\n",
    "    while True:\n",
    "        try:\n",
    "            yield cursor.next()\n",
    "        except tweepy.RateLimitError:\n",
    "            print('Reached rate limite. Sleeping for >15 minutes')\n",
    "            time.sleep(15 * 61)\n",
    "        except Exception as e:\n",
    "            print('Encountered Exception:', e)\n",
    "            time.sleep(1001)\n",
    "            continue"
   ]
  },
  {
   "cell_type": "code",
   "execution_count": 10,
   "metadata": {},
   "outputs": [],
   "source": [
    "# Function for make the search using Twitter API\n",
    "def search_tweets(new_search):\n",
    "\n",
    "    # performs the search using the defined variables\n",
    "    for tweet in limit_handled(tweepy.Cursor(api.search,\n",
    "                               q=new_search,\n",
    "                               count=count,\n",
    "                               tweet_mode='extended',\n",
    "                               lang=lang,\n",
    "                               result_type=result_type,\n",
    "                               include_entities=include_entities).items(totalTweets)):\n",
    "\n",
    "        try:\n",
    "\n",
    "            # Checks if its a extended tweet (>140 characters)\n",
    "            content = tweet.full_text\n",
    "\n",
    "            # Convert all named and numeric character references (e.g. &gt;, &#62;, &#x3e;) in the string \n",
    "            # to the corresponding Unicode characters\n",
    "            content = (content.replace('&amp;', '&').replace('&lt;', '<')\n",
    "                       .replace('&gt;', '>').replace('&quot;', '\"')\n",
    "                       .replace('&#39;', \"'\").replace(';', \" \")\n",
    "                       .replace(r'\\u', \" \").replace('\\u2026', \"\"))\n",
    "            \n",
    "            # Remove special characters, numbers, punctuations\n",
    "            content=content.replace(\"[^a-zA-Z#]\", \" \")\n",
    "            \n",
    "            # Save the keyword that matches the stream\n",
    "            keyword_matches = []\n",
    "            for word in key_words:\n",
    "                if word.lower() in content.lower():\n",
    "                    keyword_matches.append(word)\n",
    "\n",
    "            keywords_strings = \",\".join(str(x) for x in keyword_matches)\n",
    "            \n",
    "            #Check if tweet matched with the search string\n",
    "            if len(keywords_strings.strip())> 0:\n",
    "\n",
    "                # Save other information from the tweet\n",
    "                user = tweet.author.screen_name # User screen name\n",
    "                timeTweet = tweet.created_at\n",
    "                source = tweet.source\n",
    "                tweetId = tweet.id\n",
    "                tweetUrl = \"https://twitter.com/statuses/\" + str(tweetId)\n",
    "                followers= tweet.author.followers_count #Indicates user follower\n",
    "                friends= tweet.author.friends_count #Friend Count\n",
    "                favorite= tweet.favorite_count #Indicates approx how many times this Tweet has been liked by Twitter users\n",
    "\n",
    "                # Exclude retweets, too many mentions and too many hashtags\n",
    "                if not any((('RT @' in content, 'RT' in content,\n",
    "                                   content.count('@') >= 2, content.count('#') >= 3))):\n",
    "\n",
    "                    # Saves the tweet information in a new row of the CSV file\n",
    "                    writer.writerow([content,keywords_strings,timeTweet,user, source, \n",
    "                                     tweetId, tweetUrl,followers,friends,favorite])\n",
    "        except StopIteration:\n",
    "            time.sleep(1001)\n",
    "            pass\n",
    "        \n",
    "        except Exception as e:\n",
    "            print('Encountered Exception:', e)\n",
    "            time.sleep(1001)\n",
    "            pass"
   ]
  },
  {
   "cell_type": "code",
   "execution_count": 11,
   "metadata": {},
   "outputs": [],
   "source": [
    "# Function to save tweets in to csv\n",
    "def saveTweets():\n",
    "\n",
    "    # Opening a CSV file to save the gathered tweets\n",
    "    with open(tweet_data_file, 'w',encoding='utf-8', newline='') as file:\n",
    "        global writer\n",
    "        writer = csv.writer(file)\n",
    "\n",
    "        # Add a header row to the CSV\n",
    "        writer.writerow([\"Tweet\", \"Matched Keywords\", \"Date\",\"User\",\"Source\", \n",
    "                         \"Tweet ID\", \"Tweet URL\",\"Followers\",\"Friends\",\"Favorite\"])\n",
    "\n",
    "        # Initializing the Twitter search\n",
    "        try:\n",
    "            search_tweets(keywords)\n",
    "\n",
    "        # Stop temporarily when hitting Twitter rate Limit\n",
    "        except tweepy.RateLimitError:\n",
    "            print(\"RateLimitError...waiting ~15 minutes to continue\")\n",
    "            time.sleep(1001)\n",
    "            search_tweets(keywords)\n",
    "\n",
    "        # Stop temporarily when getting a timeout or connection error\n",
    "        except (Timeout, ssl.SSLError, ReadTimeoutError, ConnectionError) as exc:\n",
    "            print(\"Timeout/connection error...waiting ~15 minutes to continue\")\n",
    "            time.sleep(1001)\n",
    "            search_tweets(keywords)\n",
    "\n",
    "        # Stop temporarily when getting other errors\n",
    "        except tweepy.TweepError as e:\n",
    "            if 'Failed to send request:' in e.reason:\n",
    "                print(\"Time out error caught.\")\n",
    "                time.sleep(1001)\n",
    "                search_tweets(keywords)\n",
    "            elif'Too Many Requests' in e.reason:\n",
    "                print(\"Too many requests, sleeping for 15 min\")\n",
    "                time.sleep(1001)\n",
    "                search_tweets(keywords)\n",
    "            else:\n",
    "                print(e)\n",
    "                print(\"Other error with this user...passing\")\n",
    "                time.sleep(1001)\n",
    "                search_tweets(keywords)"
   ]
  },
  {
   "cell_type": "code",
   "execution_count": null,
   "metadata": {},
   "outputs": [
    {
     "name": "stdout",
     "output_type": "stream",
     "text": [
      "Encountered Exception: \n",
      "Encountered Exception: \n",
      "Encountered Exception: \n"
     ]
    }
   ],
   "source": [
    "#Get and Save Data\n",
    "saveTweets()"
   ]
  },
  {
   "cell_type": "code",
   "execution_count": null,
   "metadata": {},
   "outputs": [],
   "source": []
  }
 ],
 "metadata": {
  "kernelspec": {
   "display_name": "Python 3",
   "language": "python",
   "name": "python3"
  },
  "language_info": {
   "codemirror_mode": {
    "name": "ipython",
    "version": 3
   },
   "file_extension": ".py",
   "mimetype": "text/x-python",
   "name": "python",
   "nbconvert_exporter": "python",
   "pygments_lexer": "ipython3",
   "version": "3.6.10"
  }
 },
 "nbformat": 4,
 "nbformat_minor": 4
}
